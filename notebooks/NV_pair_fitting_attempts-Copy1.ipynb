{
 "cells": [
  {
   "cell_type": "code",
   "execution_count": null,
   "metadata": {},
   "outputs": [],
   "source": [
    "import matplotlib.pyplot as plt\n",
    "import glob\n",
    "from pandas import read_csv\n",
    "import os"
   ]
  },
  {
   "cell_type": "code",
   "execution_count": 12,
   "metadata": {},
   "outputs": [],
   "source": [
    "pois = [\n",
    "    'auto_spot11',\n",
    "    'auto_spot18',\n",
    "    'auto_spot25',\n",
    "    'auto_spot53',\n",
    "    'auto_spot56',\n",
    "    'auto_spot60',\n",
    "    'auto_spot81',\n",
    "    'auto_spot85',\n",
    "    'auto_spot_2_3',\n",
    "    'auto_spot_2_9',\n",
    "    'auto_spot_2_22',\n",
    "    'auto_spot_2_24',\n",
    "    'auto_spot_2_37',\n",
    "    'auto_spot_2_58',\n",
    "    'auto_spot_2_63',\n",
    "    'auto_spot_2_84',\n",
    "    'auto_spot_2_106',\n",
    "    'auto_spot_2_117',\n",
    "    'auto_spot_2_120',\n",
    "    'auto_spot_2_127',\n",
    "    'auto_spot_2_129',\n",
    "    'auto_spot_2_139',\n",
    "    'auto_spot_2_148',\n",
    "    'auto_spot_2_165',\n",
    "    'auto_spot_2_175',\n",
    "    'auto_spot_2_179',\n",
    "    'auto_spot_2_277',\n",
    "    'auto_spot_2_278'\n",
    "]"
   ]
  },
  {
   "cell_type": "markdown",
   "metadata": {},
   "source": [
    "## Do double lorentz fit on split ODMR from auto ODMR compiled visually for NV pairs"
   ]
  },
  {
   "cell_type": "code",
   "execution_count": 22,
   "metadata": {
    "scrolled": false
   },
   "outputs": [
    {
     "name": "stdout",
     "output_type": "stream",
     "text": [
      "Fail C:/Users/PI3/Desktop/NV Pair Lab data/Odmr Compiled for Auto Rabi\\20200709-1936-28_test_auto_spot11_41578.0_ODMR_data_ch0.dat\n",
      "Fail C:/Users/PI3/Desktop/NV Pair Lab data/Odmr Compiled for Auto Rabi\\20200709-2033-05_test_auto_spot18_47140.6_ODMR_data_ch0.dat\n",
      "Fail C:/Users/PI3/Desktop/NV Pair Lab data/Odmr Compiled for Auto Rabi\\20200709-2129-33_test_auto_spot25_48608.65_ODMR_data_ch0.dat\n",
      "Fail C:/Users/PI3/Desktop/NV Pair Lab data/Odmr Compiled for Auto Rabi\\20200710-0115-24_test_auto_spot53_47611.65_ODMR_data_ch0.dat\n",
      "Fail C:/Users/PI3/Desktop/NV Pair Lab data/Odmr Compiled for Auto Rabi\\20200710-0139-36_test_auto_spot56_38634.75_ODMR_data_ch0.dat\n",
      "Fail C:/Users/PI3/Desktop/NV Pair Lab data/Odmr Compiled for Auto Rabi\\20200710-0211-52_test_auto_spot60_34910.0_ODMR_data_ch0.dat\n",
      "Fail C:/Users/PI3/Desktop/NV Pair Lab data/Odmr Compiled for Auto Rabi\\20200710-2122-59_roi2_POI=auto_spot81_N=0.0_POS=[5.8777e-05, 4.911e-05, 9.35e-06],[5.9319e-05, 5.46351e-05, 9.33e-06]_ODMR_data_ch0.dat\n",
      "Fail C:/Users/PI3/Desktop/NV Pair Lab data/Odmr Compiled for Auto Rabi\\20200710-2213-40_roi2_POI=auto_spot85_N=0.0_POS=[5.877694662316121e-05, 4.91318038137572e-05, 9.462400588668958e-06],[5.974241118112609e-05, 4.481488748212005e-05, 9.43882327596709e-06]_ODMR_data_ch0.dat\n",
      "Fail C:/Users/PI3/Desktop/NV Pair Lab data/Odmr Compiled for Auto Rabi\\20200710-2329-42_roi2_POI=auto_spot_2_3_N=0.0_POS=[5.875486413589304e-05, 4.9169165971230835e-05, 9.62460895526608e-06],[5.711092939520084e-05, 5.506260995227336e-05, 9.626312262530431e-06]_ODMR_data_ch0.dat\n",
      "Fail C:/Users/PI3/Desktop/NV Pair Lab data/Odmr Compiled for Auto Rabi\\20200711-0045-45_roi2_POI=auto_spot_2_9_N=0.0_POS=[5.8739350740396383e-05, 4.9210859490452644e-05, 9.767535673903568e-06],[5.7868212656613404e-05, 4.562747400523523e-05, 9.852024575067841e-06]_ODMR_data_ch0.dat\n",
      "Fail C:/Users/PI3/Desktop/NV Pair Lab data/Odmr Compiled for Auto Rabi\\20200711-0330-30_roi2_POI=auto_spot_2_22_N=0.0_POS=[5.871977286430942e-05, 4.92771414183526e-05, 1.009385063685929e-05],[5.9243430041852635e-05, 5.481128384613495e-05, 1.0074328523413655e-05]_ODMR_data_ch0.dat\n",
      "Fail C:/Users/PI3/Desktop/NV Pair Lab data/Odmr Compiled for Auto Rabi\\20200711-0355-50_roi2_POI=auto_spot_2_24_N=0.0_POS=[5.86909780528743e-05, 4.928865104790673e-05, 1.0176149872955438e-05],[5.966683564103854e-05, 4.497477997877207e-05, 1.0128459072239399e-05]_ODMR_data_ch0.dat\n",
      "Fail C:/Users/PI3/Desktop/NV Pair Lab data/Odmr Compiled for Auto Rabi\\20200711-0640-34_roi2_POI=auto_spot_2_37_N=0.0_POS=[5.8650440714556445e-05, 4.9329190285096824e-05, 1.0394190617548637e-05],_ODMR_data_ch0.dat\n",
      "Fail C:/Users/PI3/Desktop/NV Pair Lab data/Odmr Compiled for Auto Rabi\\20200711-1106-41_roi2_POI=auto_spot_2_58_N=0.0_POS=[5.857489865199307e-05, 4.936867804073935e-05, 1.078402715056699e-05],[6.329196439052867e-05, 4.077304954746981e-05, 1.085423557397384e-05]_ODMR_data_ch0.dat\n",
      "Fail C:/Users/PI3/Desktop/NV Pair Lab data/Odmr Compiled for Auto Rabi\\20200711-1210-03_roi2_POI=auto_spot_2_63_N=0.0_POS=[5.857353626434757e-05, 4.937243515871122e-05, 1.083680107605675e-05],[6.39539511962512e-05, 5.2656973717780856e-05, 1.0804717990752265e-05]_ODMR_data_ch0.dat\n",
      "Fail C:/Users/PI3/Desktop/NV Pair Lab data/Odmr Compiled for Auto Rabi\\20200711-1636-09_roi2_POI=auto_spot_2_84_N=0.0_POS=[5.856389809292891e-05, 4.940649323647464e-05, 1.1151917655193148e-05],[6.635478497468838e-05, 5.5541506824544094e-05, 1.1229076434591804e-05]_ODMR_data_ch0.dat\n",
      "Fail C:/Users/PI3/Desktop/NV Pair Lab data/Odmr Compiled for Auto Rabi\\20200715-2023-14_roi2_POI=auto_spot_2_106_N=61076.875_POS=[5.847066626664011e-05, 4.9523745671706456512955e-05, 1.202736823459366e-05]_ODMR_data_ch0.dat\n",
      "Fail C:/Users/PI3/Desktop/NV Pair Lab data/Odmr Compiled for Auto Rabi\\20200715-2205-52_roi2_POI=auto_spot_2_117_N=72538.0_POS=[5.8427774622736426e-05, 4.9524967964567606e-05, 1.211862992760501e-05]_ODMR_data_ch0.dat\n",
      "Fail C:/Users/PI3/Desktop/NV Pair Lab data/Odmr Compiled for Auto Rabi\\20200715-2233-52_roi2_POI=auto_spot_2_120_N=52628.5_POS=[5.842748842575999e-05, 4.95214359346812e-05, 1.2143961885272163e-05]_ODMR_data_ch0.dat\n",
      "Fail C:/Users/PI3/Desktop/NV Pair Lab data/Odmr Compiled for Auto Rabi\\20200715-2339-09_roi2_POI=auto_spot_2_127_N=52747.875_POS=[5.840092626179967e-05, 4.953105146082911e-05, 1.2227472993832481e-05]_ODMR_data_ch0.dat\n",
      "Fail C:/Users/PI3/Desktop/NV Pair Lab data/Odmr Compiled for Auto Rabi\\20200715-2357-50_roi2_POI=auto_spot_2_129_N=35459.0_POS=[5.8422429117324225e-05, 4.953414896166922e-05, 1.221128970577216e-05]_ODMR_data_ch0.dat\n",
      "Fail C:/Users/PI3/Desktop/NV Pair Lab data/Odmr Compiled for Auto Rabi\\20200716-0131-07_roi2_POI=auto_spot_2_139_N=69389.5_POS=[5.8400813372467845e-05, 4.9538106592897593e-05, 1.2279971924841165e-05]_ODMR_data_ch0.dat\n",
      "Fail C:/Users/PI3/Desktop/NV Pair Lab data/Odmr Compiled for Auto Rabi\\20200716-0255-07_roi2_POI=auto_spot_2_148_N=56906.625_POS=[5.8397537308332616e-05, 4.9536791260107506e-05, 1.231640451965136e-05]_ODMR_data_ch0.dat\n",
      "Fail C:/Users/PI3/Desktop/NV Pair Lab data/Odmr Compiled for Auto Rabi\\20200716-0533-40_roi2_POI=auto_spot_2_165_N=49233.125_POS=[5.83806555806716e-05, 4.951660472309369e-05, 1.2242618659158837e-05]_ODMR_data_ch0.dat\n",
      "Fail C:/Users/PI3/Desktop/NV Pair Lab data/Odmr Compiled for Auto Rabi\\20200716-0706-59_roi2_POI=auto_spot_2_175_N=53604.875_POS=[5.836408587312426e-05, 4.950598112121292e-05, 1.2220296150715348e-05]_ODMR_data_ch0.dat\n",
      "Fail C:/Users/PI3/Desktop/NV Pair Lab data/Odmr Compiled for Auto Rabi\\20200716-0744-19_roi2_POI=auto_spot_2_179_N=55171.375_POS=[5.837115774576277e-05, 4.950744835027313e-05, 1.2243170424653964e-05]_ODMR_data_ch0.dat\n",
      "Fail C:/Users/PI3/Desktop/NV Pair Lab data/Odmr Compiled for Auto Rabi\\20200716-0917-35_roi2_POI=auto_spot_2_277_N=52813.0_POS=[5.835622894176773e-05, 4.949595112456807e-05, 1.2249346627786374e-05]_ODMR_data_ch0.dat\n",
      "Fail C:/Users/PI3/Desktop/NV Pair Lab data/Odmr Compiled for Auto Rabi\\20200716-0926-55_roi2_POI=auto_spot_2_278_N=30337.5_POS=[5.836629320871055e-05, 4.949557406729978e-05, 1.2229467342298006e-05]_ODMR_data_ch0.dat\n"
     ]
    }
   ],
   "source": [
    "for locs in pois:\n",
    "    for loc in glob.glob('C:/Users/PI3/Desktop/NV Pair Lab data/Odmr Compiled for Auto Rabi/*'+locs+'_*.dat'):\n",
    "        try:\n",
    "            data = read_csv(loc, skiprows=31, header=None, delimiter='\\t', names=['x','y'])\n",
    "            x = np.asarray(data['x'])\n",
    "            y = np.asarray(data['y'])\n",
    "            split = list(np.where(np.abs(x-2.87e9)<=100e4))[0][-1]\n",
    "            x_left = x[:split]\n",
    "            y_left = y[:split]\n",
    "            x_right = x[split:]\n",
    "            y_right = y[split:]\n",
    "            result_left = fitlogic.make_lorentziandouble_fit(x_axis=x_left, data=y_left, estimator=fitlogic.estimate_lorentziandouble_dip)\n",
    "            plt.plot(x,y)\n",
    "            plt.plot(x,result_left.best_fit)\n",
    "#             print(result.params['l0_center'].value, result.params['l1_center'].value)\n",
    "            plt.show()\n",
    "        except:\n",
    "            print('Fail',loc)"
   ]
  },
  {
   "cell_type": "code",
   "execution_count": 27,
   "metadata": {},
   "outputs": [
    {
     "name": "stdout",
     "output_type": "stream",
     "text": [
      "Fail C:/Users/PI3/Desktop/NV Pair Lab data/Odmr Compiled for Auto Rabi\\20200716-0926-55_roi2_POI=auto_spot_2_278_N=30337.5_POS=[5.836629320871055e-05, 4.949557406729978e-05, 1.2229467342298006e-05]_ODMR_data_ch0.dat\n",
      "Fail C:/Users/PI3/Desktop/NV Pair Lab data/Odmr Compiled for Auto Rabi\\20200716-0926-55_roi2_POI=auto_spot_2_278_N=30337.5_POS=[5.836629320871055e-05, 4.949557406729978e-05, 1.2229467342298006e-05]_ODMR_data_ch0.dat\n",
      "Fail C:/Users/PI3/Desktop/NV Pair Lab data/Odmr Compiled for Auto Rabi\\20200716-0926-55_roi2_POI=auto_spot_2_278_N=30337.5_POS=[5.836629320871055e-05, 4.949557406729978e-05, 1.2229467342298006e-05]_ODMR_data_ch0.dat\n",
      "Fail C:/Users/PI3/Desktop/NV Pair Lab data/Odmr Compiled for Auto Rabi\\20200716-0926-55_roi2_POI=auto_spot_2_278_N=30337.5_POS=[5.836629320871055e-05, 4.949557406729978e-05, 1.2229467342298006e-05]_ODMR_data_ch0.dat\n",
      "Fail C:/Users/PI3/Desktop/NV Pair Lab data/Odmr Compiled for Auto Rabi\\20200716-0926-55_roi2_POI=auto_spot_2_278_N=30337.5_POS=[5.836629320871055e-05, 4.949557406729978e-05, 1.2229467342298006e-05]_ODMR_data_ch0.dat\n",
      "Fail C:/Users/PI3/Desktop/NV Pair Lab data/Odmr Compiled for Auto Rabi\\20200716-0926-55_roi2_POI=auto_spot_2_278_N=30337.5_POS=[5.836629320871055e-05, 4.949557406729978e-05, 1.2229467342298006e-05]_ODMR_data_ch0.dat\n",
      "Fail C:/Users/PI3/Desktop/NV Pair Lab data/Odmr Compiled for Auto Rabi\\20200716-0926-55_roi2_POI=auto_spot_2_278_N=30337.5_POS=[5.836629320871055e-05, 4.949557406729978e-05, 1.2229467342298006e-05]_ODMR_data_ch0.dat\n",
      "Fail C:/Users/PI3/Desktop/NV Pair Lab data/Odmr Compiled for Auto Rabi\\20200716-0926-55_roi2_POI=auto_spot_2_278_N=30337.5_POS=[5.836629320871055e-05, 4.949557406729978e-05, 1.2229467342298006e-05]_ODMR_data_ch0.dat\n",
      "Fail C:/Users/PI3/Desktop/NV Pair Lab data/Odmr Compiled for Auto Rabi\\20200716-0926-55_roi2_POI=auto_spot_2_278_N=30337.5_POS=[5.836629320871055e-05, 4.949557406729978e-05, 1.2229467342298006e-05]_ODMR_data_ch0.dat\n",
      "Fail C:/Users/PI3/Desktop/NV Pair Lab data/Odmr Compiled for Auto Rabi\\20200716-0926-55_roi2_POI=auto_spot_2_278_N=30337.5_POS=[5.836629320871055e-05, 4.949557406729978e-05, 1.2229467342298006e-05]_ODMR_data_ch0.dat\n",
      "Fail C:/Users/PI3/Desktop/NV Pair Lab data/Odmr Compiled for Auto Rabi\\20200716-0926-55_roi2_POI=auto_spot_2_278_N=30337.5_POS=[5.836629320871055e-05, 4.949557406729978e-05, 1.2229467342298006e-05]_ODMR_data_ch0.dat\n",
      "Fail C:/Users/PI3/Desktop/NV Pair Lab data/Odmr Compiled for Auto Rabi\\20200716-0926-55_roi2_POI=auto_spot_2_278_N=30337.5_POS=[5.836629320871055e-05, 4.949557406729978e-05, 1.2229467342298006e-05]_ODMR_data_ch0.dat\n",
      "Fail C:/Users/PI3/Desktop/NV Pair Lab data/Odmr Compiled for Auto Rabi\\20200716-0926-55_roi2_POI=auto_spot_2_278_N=30337.5_POS=[5.836629320871055e-05, 4.949557406729978e-05, 1.2229467342298006e-05]_ODMR_data_ch0.dat\n",
      "Fail C:/Users/PI3/Desktop/NV Pair Lab data/Odmr Compiled for Auto Rabi\\20200716-0926-55_roi2_POI=auto_spot_2_278_N=30337.5_POS=[5.836629320871055e-05, 4.949557406729978e-05, 1.2229467342298006e-05]_ODMR_data_ch0.dat\n",
      "Fail C:/Users/PI3/Desktop/NV Pair Lab data/Odmr Compiled for Auto Rabi\\20200716-0926-55_roi2_POI=auto_spot_2_278_N=30337.5_POS=[5.836629320871055e-05, 4.949557406729978e-05, 1.2229467342298006e-05]_ODMR_data_ch0.dat\n",
      "Fail C:/Users/PI3/Desktop/NV Pair Lab data/Odmr Compiled for Auto Rabi\\20200716-0926-55_roi2_POI=auto_spot_2_278_N=30337.5_POS=[5.836629320871055e-05, 4.949557406729978e-05, 1.2229467342298006e-05]_ODMR_data_ch0.dat\n",
      "Fail C:/Users/PI3/Desktop/NV Pair Lab data/Odmr Compiled for Auto Rabi\\20200716-0926-55_roi2_POI=auto_spot_2_278_N=30337.5_POS=[5.836629320871055e-05, 4.949557406729978e-05, 1.2229467342298006e-05]_ODMR_data_ch0.dat\n",
      "Fail C:/Users/PI3/Desktop/NV Pair Lab data/Odmr Compiled for Auto Rabi\\20200716-0926-55_roi2_POI=auto_spot_2_278_N=30337.5_POS=[5.836629320871055e-05, 4.949557406729978e-05, 1.2229467342298006e-05]_ODMR_data_ch0.dat\n",
      "Fail C:/Users/PI3/Desktop/NV Pair Lab data/Odmr Compiled for Auto Rabi\\20200716-0926-55_roi2_POI=auto_spot_2_278_N=30337.5_POS=[5.836629320871055e-05, 4.949557406729978e-05, 1.2229467342298006e-05]_ODMR_data_ch0.dat\n",
      "Fail C:/Users/PI3/Desktop/NV Pair Lab data/Odmr Compiled for Auto Rabi\\20200716-0926-55_roi2_POI=auto_spot_2_278_N=30337.5_POS=[5.836629320871055e-05, 4.949557406729978e-05, 1.2229467342298006e-05]_ODMR_data_ch0.dat\n",
      "Fail C:/Users/PI3/Desktop/NV Pair Lab data/Odmr Compiled for Auto Rabi\\20200716-0926-55_roi2_POI=auto_spot_2_278_N=30337.5_POS=[5.836629320871055e-05, 4.949557406729978e-05, 1.2229467342298006e-05]_ODMR_data_ch0.dat\n",
      "Fail C:/Users/PI3/Desktop/NV Pair Lab data/Odmr Compiled for Auto Rabi\\20200716-0926-55_roi2_POI=auto_spot_2_278_N=30337.5_POS=[5.836629320871055e-05, 4.949557406729978e-05, 1.2229467342298006e-05]_ODMR_data_ch0.dat\n",
      "Fail C:/Users/PI3/Desktop/NV Pair Lab data/Odmr Compiled for Auto Rabi\\20200716-0926-55_roi2_POI=auto_spot_2_278_N=30337.5_POS=[5.836629320871055e-05, 4.949557406729978e-05, 1.2229467342298006e-05]_ODMR_data_ch0.dat\n",
      "Fail C:/Users/PI3/Desktop/NV Pair Lab data/Odmr Compiled for Auto Rabi\\20200716-0926-55_roi2_POI=auto_spot_2_278_N=30337.5_POS=[5.836629320871055e-05, 4.949557406729978e-05, 1.2229467342298006e-05]_ODMR_data_ch0.dat\n",
      "Fail C:/Users/PI3/Desktop/NV Pair Lab data/Odmr Compiled for Auto Rabi\\20200716-0926-55_roi2_POI=auto_spot_2_278_N=30337.5_POS=[5.836629320871055e-05, 4.949557406729978e-05, 1.2229467342298006e-05]_ODMR_data_ch0.dat\n",
      "Fail C:/Users/PI3/Desktop/NV Pair Lab data/Odmr Compiled for Auto Rabi\\20200716-0926-55_roi2_POI=auto_spot_2_278_N=30337.5_POS=[5.836629320871055e-05, 4.949557406729978e-05, 1.2229467342298006e-05]_ODMR_data_ch0.dat\n",
      "Fail C:/Users/PI3/Desktop/NV Pair Lab data/Odmr Compiled for Auto Rabi\\20200716-0926-55_roi2_POI=auto_spot_2_278_N=30337.5_POS=[5.836629320871055e-05, 4.949557406729978e-05, 1.2229467342298006e-05]_ODMR_data_ch0.dat\n",
      "Fail C:/Users/PI3/Desktop/NV Pair Lab data/Odmr Compiled for Auto Rabi\\20200716-0926-55_roi2_POI=auto_spot_2_278_N=30337.5_POS=[5.836629320871055e-05, 4.949557406729978e-05, 1.2229467342298006e-05]_ODMR_data_ch0.dat\n"
     ]
    }
   ],
   "source": [
    "for file in os.listdir('C:/Users/PI3/Desktop/NV Pair Lab data/Odmr Compiled for Auto Rabi/'):\n",
    "    try:\n",
    "        data = read_csv(file, skiprows=31, header=None, delimiter='\\t', names=['x','y'])\n",
    "        x = np.asarray(data['x'])\n",
    "        y = np.asarray(data['y'])\n",
    "        split = list(np.where(np.abs(x-2.87e9)<=100e4))[0][-1]\n",
    "        x_left = x[:split]\n",
    "        y_left = y[:split]\n",
    "        x_right = x[split:]\n",
    "        y_right = y[split:]\n",
    "        result_left = fitlogic.make_lorentziandouble_fit(x_axis=x_left, data=y_left, estimator=fitlogic.estimate_lorentziandouble_dip)\n",
    "        plt.plot(x,y)\n",
    "        plt.plot(x,result_left.best_fit)\n",
    "#             print(result.params['l0_center'].value, result.params['l1_center'].value)\n",
    "        plt.show()\n",
    "    except:\n",
    "        print('Fail',loc)"
   ]
  },
  {
   "cell_type": "code",
   "execution_count": 28,
   "metadata": {},
   "outputs": [
    {
     "name": "stdout",
     "output_type": "stream",
     "text": [
      "20200709-1936-28_test_auto_spot11_41578.0_ODMR_data_ch0.dat\n",
      "20200709-2033-05_test_auto_spot18_47140.6_ODMR_data_ch0.dat\n",
      "20200709-2129-33_test_auto_spot25_48608.65_ODMR_data_ch0.dat\n",
      "20200710-0115-24_test_auto_spot53_47611.65_ODMR_data_ch0.dat\n",
      "20200710-0139-36_test_auto_spot56_38634.75_ODMR_data_ch0.dat\n",
      "20200710-0211-52_test_auto_spot60_34910.0_ODMR_data_ch0.dat\n",
      "20200710-2122-59_roi2_POI=auto_spot81_N=0.0_POS=[5.8777e-05, 4.911e-05, 9.35e-06],[5.9319e-05, 5.46351e-05, 9.33e-06]_ODMR_data_ch0.dat\n",
      "20200710-2213-40_roi2_POI=auto_spot85_N=0.0_POS=[5.877694662316121e-05, 4.91318038137572e-05, 9.462400588668958e-06],[5.974241118112609e-05, 4.481488748212005e-05, 9.43882327596709e-06]_ODMR_data_ch0.dat\n",
      "20200710-2329-42_roi2_POI=auto_spot_2_3_N=0.0_POS=[5.875486413589304e-05, 4.9169165971230835e-05, 9.62460895526608e-06],[5.711092939520084e-05, 5.506260995227336e-05, 9.626312262530431e-06]_ODMR_data_ch0.dat\n",
      "20200711-0045-45_roi2_POI=auto_spot_2_9_N=0.0_POS=[5.8739350740396383e-05, 4.9210859490452644e-05, 9.767535673903568e-06],[5.7868212656613404e-05, 4.562747400523523e-05, 9.852024575067841e-06]_ODMR_data_ch0.dat\n",
      "20200711-0330-30_roi2_POI=auto_spot_2_22_N=0.0_POS=[5.871977286430942e-05, 4.92771414183526e-05, 1.009385063685929e-05],[5.9243430041852635e-05, 5.481128384613495e-05, 1.0074328523413655e-05]_ODMR_data_ch0.dat\n",
      "20200711-0355-50_roi2_POI=auto_spot_2_24_N=0.0_POS=[5.86909780528743e-05, 4.928865104790673e-05, 1.0176149872955438e-05],[5.966683564103854e-05, 4.497477997877207e-05, 1.0128459072239399e-05]_ODMR_data_ch0.dat\n",
      "20200711-0640-34_roi2_POI=auto_spot_2_37_N=0.0_POS=[5.8650440714556445e-05, 4.9329190285096824e-05, 1.0394190617548637e-05],_ODMR_data_ch0.dat\n",
      "20200711-1106-41_roi2_POI=auto_spot_2_58_N=0.0_POS=[5.857489865199307e-05, 4.936867804073935e-05, 1.078402715056699e-05],[6.329196439052867e-05, 4.077304954746981e-05, 1.085423557397384e-05]_ODMR_data_ch0.dat\n",
      "20200711-1210-03_roi2_POI=auto_spot_2_63_N=0.0_POS=[5.857353626434757e-05, 4.937243515871122e-05, 1.083680107605675e-05],[6.39539511962512e-05, 5.2656973717780856e-05, 1.0804717990752265e-05]_ODMR_data_ch0.dat\n",
      "20200711-1636-09_roi2_POI=auto_spot_2_84_N=0.0_POS=[5.856389809292891e-05, 4.940649323647464e-05, 1.1151917655193148e-05],[6.635478497468838e-05, 5.5541506824544094e-05, 1.1229076434591804e-05]_ODMR_data_ch0.dat\n",
      "20200715-2023-14_roi2_POI=auto_spot_2_106_N=61076.875_POS=[5.847066626664011e-05, 4.9523745671706456512955e-05, 1.202736823459366e-05]_ODMR_data_ch0.dat\n",
      "20200715-2205-52_roi2_POI=auto_spot_2_117_N=72538.0_POS=[5.8427774622736426e-05, 4.9524967964567606e-05, 1.211862992760501e-05]_ODMR_data_ch0.dat\n",
      "20200715-2233-52_roi2_POI=auto_spot_2_120_N=52628.5_POS=[5.842748842575999e-05, 4.95214359346812e-05, 1.2143961885272163e-05]_ODMR_data_ch0.dat\n",
      "20200715-2339-09_roi2_POI=auto_spot_2_127_N=52747.875_POS=[5.840092626179967e-05, 4.953105146082911e-05, 1.2227472993832481e-05]_ODMR_data_ch0.dat\n",
      "20200715-2357-50_roi2_POI=auto_spot_2_129_N=35459.0_POS=[5.8422429117324225e-05, 4.953414896166922e-05, 1.221128970577216e-05]_ODMR_data_ch0.dat\n",
      "20200716-0131-07_roi2_POI=auto_spot_2_139_N=69389.5_POS=[5.8400813372467845e-05, 4.9538106592897593e-05, 1.2279971924841165e-05]_ODMR_data_ch0.dat\n",
      "20200716-0255-07_roi2_POI=auto_spot_2_148_N=56906.625_POS=[5.8397537308332616e-05, 4.9536791260107506e-05, 1.231640451965136e-05]_ODMR_data_ch0.dat\n",
      "20200716-0533-40_roi2_POI=auto_spot_2_165_N=49233.125_POS=[5.83806555806716e-05, 4.951660472309369e-05, 1.2242618659158837e-05]_ODMR_data_ch0.dat\n",
      "20200716-0706-59_roi2_POI=auto_spot_2_175_N=53604.875_POS=[5.836408587312426e-05, 4.950598112121292e-05, 1.2220296150715348e-05]_ODMR_data_ch0.dat\n",
      "20200716-0744-19_roi2_POI=auto_spot_2_179_N=55171.375_POS=[5.837115774576277e-05, 4.950744835027313e-05, 1.2243170424653964e-05]_ODMR_data_ch0.dat\n",
      "20200716-0917-35_roi2_POI=auto_spot_2_277_N=52813.0_POS=[5.835622894176773e-05, 4.949595112456807e-05, 1.2249346627786374e-05]_ODMR_data_ch0.dat\n",
      "20200716-0926-55_roi2_POI=auto_spot_2_278_N=30337.5_POS=[5.836629320871055e-05, 4.949557406729978e-05, 1.2229467342298006e-05]_ODMR_data_ch0.dat\n"
     ]
    }
   ],
   "source": [
    "for file in os.listdir('C:/Users/PI3/Desktop/NV Pair Lab data/Odmr Compiled for Auto Rabi/'):\n",
    "    print(file)"
   ]
  },
  {
   "cell_type": "code",
   "execution_count": null,
   "metadata": {},
   "outputs": [],
   "source": [
    "plt.plot(x,y)\n",
    "plt.show()"
   ]
  },
  {
   "cell_type": "code",
   "execution_count": 5,
   "metadata": {},
   "outputs": [
    {
     "data": {
      "text/plain": [
       "['C:/Users/PI3/Desktop/NV Pair Lab data/Auto Rabi\\\\20200709-1936-28_test_auto_spot11_41578.0_ODMR_data_ch0.dat']"
      ]
     },
     "execution_count": 5,
     "metadata": {},
     "output_type": "execute_result"
    }
   ],
   "source": [
    "glob.glob('C:/Users/PI3/Desktop/NV Pair Lab data/Auto Rabi/*'+pois[0]+'*.dat')"
   ]
  }
 ],
 "metadata": {
  "kernelspec": {
   "display_name": "Qudi",
   "language": "python",
   "name": "qudi"
  },
  "language_info": {
   "codemirror_mode": {
    "name": "ipython",
    "version": "3.6.5"
   },
   "file_extension": ".py",
   "mimetype": "text/x-python",
   "name": "python",
   "nbconvert_exporter": "python",
   "pygments_lexer": "ipython3",
   "version": "3.6.5"
  }
 },
 "nbformat": 4,
 "nbformat_minor": 2
}
