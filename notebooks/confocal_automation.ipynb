{
 "cells": [
  {
   "cell_type": "code",
   "execution_count": 5,
   "metadata": {},
   "outputs": [],
   "source": [
    "import time\n",
    "from tqdm import tqdm\n",
    "pml = poimanagerlogic\n",
    "ps = pulsestreamer.pulse_streamer\n",
    "#spl = spectrumlogic"
   ]
  },
  {
   "cell_type": "code",
   "execution_count": 6,
   "metadata": {},
   "outputs": [],
   "source": [
    "n_spectra = 10\n",
    "int_time = 30\n",
    "loc = 'C:/labdata/matt/2020/06/12/igor nanodiamonds/sample 1/spectra/'"
   ]
  },
  {
   "cell_type": "code",
   "execution_count": 7,
   "metadata": {},
   "outputs": [],
   "source": [
    "import seabreeze.spectrometers as sb\n",
    "#spec = sb.Spectrometer.from_serial_number('QEP02178')\n",
    "#spec.integration_time_micros(int_time * 1e6)\n",
    "\n",
    "pulse_patt = [(1000000, 1)]\n",
    "seq = ps.createSequence()\n",
    "seq.setDigital(4, pulse_patt)"
   ]
  },
  {
   "cell_type": "code",
   "execution_count": 9,
   "metadata": {
    "scrolled": true
   },
   "outputs": [
    {
     "name": "stderr",
     "output_type": "stream",
     "text": [
      "\r",
      "0it [00:00, ?it/s]"
     ]
    },
    {
     "name": "stdout",
     "output_type": "stream",
     "text": [
      "spot15\n"
     ]
    },
    {
     "name": "stderr",
     "output_type": "stream",
     "text": [
      "\r",
      "0it [01:17, ?it/s]\n",
      "Traceback (most recent call last):\n",
      "  File \"C:\\qudi\\qudi\\logic\\jupyterkernel\\qzmqkernel.py\", line 679, in run_code\n",
      "    exec(code_obj, self.user_global_ns, self.user_ns)\n",
      "  File \"<ipython-input-9-2480421a9229>\", line 21, in <module>\n",
      "    wavelengths = spec.wavelengths()\n",
      "NameError: name 'spec' is not defined\n"
     ]
    }
   ],
   "source": [
    "poi_names = pml.poi_names\n",
    "poi_names.sort()\n",
    "for i, poi in tqdm(enumerate(poi_names)):\n",
    "    pml.go_to_poi(poi)\n",
    "    print(poi)\n",
    "    time.sleep(0.1)\n",
    "    if not poi.endswith('_bg'):\n",
    "        pml.optimise_poi_position(name=poi)\n",
    "    while optimizerlogic.module_state()=='locked':\n",
    "        time.sleep(1)\n",
    "    if not poi.endswith('_bg'):\n",
    "        pml.optimise_poi_position(name=poi)\n",
    "    while optimizerlogic.module_state()=='locked':\n",
    "        time.sleep(1)\n",
    "    ps.stream(seq, n_runs=1)\n",
    "    ps.constant(([0], 0, 0))\n",
    "    time.sleep(1)\n",
    "    for i in range(n_spectra):\n",
    "        wavelengths = spec.wavelengths()\n",
    "        specdata = spec.intensities()\n",
    "#         spl.get_single_spectrum()\n",
    "        time.sleep(int_time+0.1*int_time)\n",
    "        timestr = time.strftime('%d.%m.%Y-%Hh.%Mmin.%Ss', time.localtime(time.time()))\n",
    "        np.savetxt(loc+f'{poi}_{i}_'+timestr+'.txt', np.asarray([wavelengths, specdata]).T)\n",
    "#         spl.save_spectrum_data(name_tag=f'{poi}_{i}')\n",
    "        time.sleep(2)\n",
    "    ps.stream(seq, n_runs=1)\n",
    "    ps.constant(([0], 0, 0))\n",
    "    time.sleep(1)\n",
    "        "
   ]
  },
  {
   "cell_type": "markdown",
   "metadata": {},
   "source": [
    "# Flip mirror"
   ]
  },
  {
   "cell_type": "code",
   "execution_count": 5,
   "metadata": {},
   "outputs": [
    {
     "name": "stdout",
     "output_type": "stream",
     "text": [
      "hello world\n"
     ]
    },
    {
     "name": "stderr",
     "output_type": "stream",
     "text": [
      "1it [01:30, 90.24s/it]\n",
      "0it [00:00, ?it/s]"
     ]
    },
    {
     "name": "stdout",
     "output_type": "stream",
     "text": [
      "spot1\n"
     ]
    },
    {
     "name": "stderr",
     "output_type": "stream",
     "text": [
      "\r",
      "1it [01:28, 88.18s/it]\r",
      "1it [01:28, 88.18s/it]\n"
     ]
    }
   ],
   "source": [
    "\n",
    "print('hello world')"
   ]
  },
  {
   "cell_type": "code",
   "execution_count": 2,
   "metadata": {},
   "outputs": [
    {
     "name": "stderr",
     "output_type": "stream",
     "text": [
      "Traceback (most recent call last):\n",
      "  File \"C:\\qudi\\qudi\\logic\\jupyterkernel\\qzmqkernel.py\", line 679, in run_code\n",
      "    exec(code_obj, self.user_global_ns, self.user_ns)\n",
      "  File \"<ipython-input-2-df87ddef1f85>\", line 1, in <module>\n",
      "    ps.stream(seq, n_runs=1)\n",
      "NameError: name 'ps' is not defined\n"
     ]
    }
   ],
   "source": [
    "ps.stream(seq, n_runs=1)\n",
    "ps.constant(([0], 0, 0))"
   ]
  },
  {
   "cell_type": "code",
   "execution_count": 13,
   "metadata": {},
   "outputs": [
    {
     "name": "stderr",
     "output_type": "stream",
     "text": [
      "Traceback (most recent call last):\n",
      "  File \"C:\\qudi\\qudi\\logic\\jupyterkernel\\qzmqkernel.py\", line 679, in run_code\n",
      "    exec(code_obj, self.user_global_ns, self.user_ns)\n",
      "  File \"<ipython-input-13-c1cab77568bb>\", line 3, in <module>\n",
      "    for loc in glob.glob(locs):\n",
      "NameError: name 'glob' is not defined\n"
     ]
    }
   ],
   "source": [
    "locs = 'C:\\labdata\\matt\\2020\\06\\12\\igor nanodiamonds\\sample 1\\spectra/spot17_Q*'\n",
    "a = []\n",
    "for loc in glob.glob(locs):\n",
    "    data = np.loadtxt(loc, dtype=str).T\n",
    "    data = np.char.replace(data,',','.').astype(float)\n",
    "    a.append(data[1])\n",
    "\n",
    "a = np.asarray(a)\n",
    "print(len(a))\n",
    "spec = np.sum(a, axis=0) / (len(a))\n",
    "\n",
    "locs_bg = 'C:/labdata/matt/2020/06/08/LSPM nanodiamonds/calibration/spot7-8-9-10-bg_Q*'\n",
    "locs_bg = 'C:/labdata/matt/2020/06/08/LSPM nanodiamonds/calibration/spot15-16-17-bg_Q*'\n",
    "a = []\n",
    "for loc in glob.glob(locs_bg):\n",
    "    data = np.loadtxt(loc, dtype=str).T\n",
    "    data = np.char.replace(data,',','.').astype(float)\n",
    "    a.append(data[1])\n",
    "\n",
    "a = np.asarray(a)\n",
    "print(len(a))\n",
    "bg = np.sum(a, axis=0) /  (len(a))\n",
    "# bg = 0\n",
    "# bg = savgol_filter(bg, 51, 2)\n",
    "f_spec = spec - bg\n",
    "# f_spec = bg\n",
    "plt.plot(data[0], f_spec)\n",
    "# plt.plot(data[0], savgol_filter(f_spec, 51, 2), 'r--')\n",
    "plt.grid(True)\n",
    "plt.show()"
   ]
  }
 ],
 "metadata": {
  "kernelspec": {
   "display_name": "Qudi",
   "language": "python",
   "name": "qudi"
  },
  "language_info": {
   "codemirror_mode": {
    "name": "ipython",
    "version": "3.6.5"
   },
   "file_extension": ".py",
   "mimetype": "text/x-python",
   "name": "python",
   "nbconvert_exporter": "python",
   "pygments_lexer": "ipython3",
   "version": "3.6.5"
  }
 },
 "nbformat": 4,
 "nbformat_minor": 2
}
