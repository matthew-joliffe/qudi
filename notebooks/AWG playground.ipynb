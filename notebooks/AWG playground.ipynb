{
 "cells": [
  {
   "cell_type": "code",
   "execution_count": 18,
   "metadata": {},
   "outputs": [],
   "source": [
    "import time\n",
    "from threading import Thread\n",
    "import numpy as np\n",
    "import visa\n",
    "from socket import SOL_SOCKET, SO_KEEPALIVE\n",
    "from ftplib import FTP, error_temp"
   ]
  },
  {
   "cell_type": "code",
   "execution_count": 24,
   "metadata": {},
   "outputs": [
    {
     "name": "stdout",
     "output_type": "stream",
     "text": [
      "SONY/TEK,AWG520,0,SCPI:95.0 OS:2.0 USR:2.0\n",
      "\n"
     ]
    }
   ],
   "source": [
    "rm = pyvisa.ResourceManager()\n",
    "rm.\n",
    "inst = rm.open_resource('GPIB0::18::INSTR')\n",
    "print(inst.query(\"*IDN?\"))"
   ]
  },
  {
   "cell_type": "code",
   "execution_count": 22,
   "metadata": {},
   "outputs": [],
   "source": [
    "gpib = 'GPIB0::18::INSTR'\n",
    "ftp='192.168.0.10'\n",
    "socket=('192.168.0.10', 4000)"
   ]
  },
  {
   "cell_type": "code",
   "execution_count": 25,
   "metadata": {},
   "outputs": [],
   "source": [
    "socket_addr = socket\n",
    "# set ftp parameters\n",
    "ftp_addr = ftp\n",
    "ftp_user = '\\r'\n",
    "ftp_pw = '\\r'\n",
    "ftp_cwd = '/main/waves'\n",
    "#ftp_manager = FTPManager()\n",
    "todo = -1\n",
    "done = -1\n",
    "# setup gpib connection\n",
    "gpib_addr = gpib\n",
    "gpib = rm.open_resource(gpib_addr)\n",
    "gpib.timeout = 5.0"
   ]
  },
  {
   "cell_type": "code",
   "execution_count": 34,
   "metadata": {},
   "outputs": [],
   "source": [
    "gpib.read()"
   ]
  },
  {
   "cell_type": "code",
   "execution_count": 26,
   "metadata": {},
   "outputs": [],
   "source": [
    "def __del__():\n",
    "    gpib.close()"
   ]
  },
  {
   "cell_type": "code",
   "execution_count": 27,
   "metadata": {},
   "outputs": [],
   "source": [
    "def upload(files):\n",
    "    # allow single files\n",
    "    if not isinstance(files, (list, tuple)):\n",
    "        files = [files]\n",
    "\n",
    "    # opens up new ftp connections in separate threads\n",
    "    todo = len(files)\n",
    "    done = 0\n",
    "    for file in files:\n",
    "        ftp_manager.upload(file)\n",
    "    \n",
    "def delete_all():\n",
    "    \"\"\"Remove all files from the AWG's CWD.\n",
    "    \"\"\"\n",
    "    delete_all()"
   ]
  },
  {
   "cell_type": "code",
   "execution_count": 28,
   "metadata": {},
   "outputs": [],
   "source": [
    "def tell(command):\n",
    "    \"\"\"Send a command string to the AWG.\"\"\"\n",
    "    gpib.write(command)\n",
    "\n",
    "def ask(query):\n",
    "    \"\"\"Send a query string to AWG and return the response.\"\"\"\n",
    "    gpib.write(query)\n",
    "    try:\n",
    "        res = gpib.read()\n",
    "    except visa.VisaIOError as e:\n",
    "        res = ''\n",
    "        if 'Timeout' in e.message:\n",
    "            res = 'No response from AWG for: \"' + query + '\"'\n",
    "        else:\n",
    "            raise e\n",
    "    return res"
   ]
  },
  {
   "cell_type": "code",
   "execution_count": 32,
   "metadata": {},
   "outputs": [
    {
     "data": {
      "text/plain": [
       "'1\\n'"
      ]
     },
     "execution_count": 32,
     "metadata": {},
     "output_type": "execute_result"
    }
   ],
   "source": []
  },
  {
   "cell_type": "code",
   "execution_count": null,
   "metadata": {},
   "outputs": [],
   "source": [
    "def run():\n",
    "    tell('AWGC:RUN')\n",
    "\n",
    "def stop():\n",
    "    tell('AWGC:STOP')\n",
    "\n",
    "def force_trigger():\n",
    "    tell('*TRG')\n",
    "\n",
    "def force_event(bitcode):\n",
    "    tell('AWGC:EVEN:SOFT %i' % bitcode)\n",
    "\n",
    "def set_output(channel=0b11):\n",
    "    \"\"\"Set the output state of specified channels.\n",
    "\n",
    "    channels - int with states encoded on 2 LSB\n",
    "               e.g. bit=0b00 closes all, bit=0b11 opens all,\n",
    "                    bit=0b10 opens OUTP2 and closes OUTP1\n",
    "\n",
    "    \"\"\"\n",
    "    for i in [0, 1]:\n",
    "        stat = channel >> i & 1 \n",
    "        tell('OUTP%i %i' % ((i + 1), stat))"
   ]
  },
  {
   "cell_type": "code",
   "execution_count": null,
   "metadata": {},
   "outputs": [],
   "source": [
    "def set_mode(self, mode):\n",
    "    \"\"\"Change the output mode.\n",
    "\n",
    "    Options for mode (case-insensitive):\n",
    "    continuous - 'C', 'CONT'\n",
    "    triggered  - 'T', 'TRIG'\n",
    "    gated      - 'G', 'GAT'\n",
    "    sequence   - 'S', 'SEQ'\n",
    "\n",
    "    \"\"\"\n",
    "    look_up = {'C' : 'CONT', 'CON' : 'CONT', 'CONT' : 'CONT',\n",
    "               'T' : 'TRIG', 'TRI' : 'TRIG', 'TRIG' : 'TRIG',\n",
    "               'G' : 'GAT' , 'GAT' : 'GAT' , 'GATE' : 'GAT' ,\n",
    "               'E' : 'ENH' , 'ENH' : 'ENH' , 'ENHA' : 'ENH' ,\n",
    "              }\n",
    "    tell('AWGC:RMOD %s' % look_up[mode.upper()])"
   ]
  },
  {
   "cell_type": "code",
   "execution_count": null,
   "metadata": {},
   "outputs": [],
   "source": [
    "def set_sampling(frequency):\n",
    "    \"\"\" Set the output sampling rate.\n",
    "\n",
    "    \"\"\"\n",
    "    frequency *= 1e-9\n",
    "    tell('SOUR:FREQ %.4GGHz' % frequency)\n",
    "\n",
    "def set_vpp(voltage, channel=0b11):\n",
    "    \"\"\" Set output peak-to-peak voltage of specified channel.\n",
    "\n",
    "    \"\"\"\n",
    "    if channel & 1 == 1:\n",
    "        tell('SOUR1:VOLT %.4GV' % voltage)\n",
    "    if channel & 2 == 2:\n",
    "        tell('SOUR2:VOLT %.4GV' % voltage)"
   ]
  },
  {
   "cell_type": "code",
   "execution_count": null,
   "metadata": {},
   "outputs": [],
   "source": [
    "def load(filename, channel=1, cwd='\\waves', block=False):\n",
    "    \"\"\"Load sequence or waveform file into RAM, preparing it for output.\n",
    "\n",
    "    Waveforms and single channel sequences can be assigned to each or both\n",
    "    channels. Double channel sequences must be assigned to channel 1.\n",
    "    The AWG's file system is case-sensitive.\n",
    "\n",
    "    \"\"\"\n",
    "    tell('SOUR%i:FUNC:USER \"%s/%s\"' % (channel, cwd, filename))\n",
    "\n",
    "    # block thread until the operation is complete\n",
    "    while block:\n",
    "        try:\n",
    "            ask('*OPC?')\n",
    "            tell('SYST:BEEP')\n",
    "            block = False\n",
    "        except visa.VisaIOError as e:\n",
    "            if not 'Timeout' in e[0]: raise e\n",
    "\n",
    "def managed_load(filename, channel=1, cwd='\\waves'):\n",
    "    load(filename, channel, cwd)\n",
    "        \n",
    "def get_func(channel=1):\n",
    "    res = ask('SOUR%i:FUNC:USER?' % channel)\n",
    "    # res ~ '\"/\\\\waves/0_MAIN.SEQ\",\"MAIN\"'\n",
    "    return res.split(',')[0].split('/')[-1][:-1] # return ~ '0_MAIN.SEQ'\n",
    "\n",
    "def reset():\n",
    "    \"\"\" Reset the AWG settings. \"\"\"\n",
    "    tell('*RST')"
   ]
  },
  {
   "cell_type": "code",
   "execution_count": null,
   "metadata": {},
   "outputs": [],
   "source": [
    "# file = Foo()\n",
    "# file.state = 'compiling'\n",
    "\n",
    "# awg = awg\n",
    "# super(FTPThread).__init__()\n",
    "# daemon = True\n",
    "#file.state = 'ready'\n",
    "        \n",
    "def setup_ftp():\n",
    "    ftp = FTP(awg.ftp_addr, timeout=2.0)\n",
    "    ftp.set_pasv(False)\n",
    "    ftp.login(awg.ftp_user, awg.ftp_pw)\n",
    "    ftp.cwd(awg.ftp"
   ]
  },
  {
   "cell_type": "code",
   "execution_count": null,
   "metadata": {},
   "outputs": [],
   "source": [
    "def UploadThread(file):\n",
    "    file.seek(0)\n",
    "    ftp.storbinary('STOR ' + file.name, file)"
   ]
  },
  {
   "cell_type": "code",
   "execution_count": null,
   "metadata": {},
   "outputs": [],
   "source": [
    "def DeletetAllThread():\n",
    "    filelist = ftp.nlst()\n",
    "    try:\n",
    "        filelist.remove('.')\n",
    "        filelist.remove('..')\n",
    "    except ValueError:\n",
    "        pass\n",
    "    tell('MMEM:CDIR \"%s\"' % self.awg.ftp_cwd)\n",
    "    for file in filelist:\n",
    "        tell('MMEM:DEL \"%s\"' % file)\n",
    "        #self.ftp.delete(file)\n",
    "    time.sleep(0.5)"
   ]
  },
  {
   "cell_type": "code",
   "execution_count": 9,
   "metadata": {},
   "outputs": [
    {
     "name": "stderr",
     "output_type": "stream",
     "text": [
      "Traceback (most recent call last):\n",
      "  File \"C:\\qudi\\qudi\\logic\\jupyterkernel\\qzmqkernel.py\", line 679, in run_code\n",
      "    exec(code_obj, self.user_global_ns, self.user_ns)\n",
      "  File \"<ipython-input-9-c859c0ba8ec9>\", line 5, in <module>\n",
      "    awg.done = -1\n",
      "AttributeError: 'str' object has no attribute 'done'\n"
     ]
    }
   ],
   "source": [
    "awg = #'awg520'\n",
    "threads = []\n",
    "clients = 0\n",
    "max_clients = 1\n",
    "#awg.done = -1\n",
    "#awg.todo = -1\n",
    "abort = False\n",
    "pause_set = False\n",
    "paused = False\n",
    "load_file = None\n",
    "#super(FTPManager).__init__()\n",
    "daemon = True\n",
    "#self.start()"
   ]
  },
  {
   "cell_type": "code",
   "execution_count": 5,
   "metadata": {},
   "outputs": [],
   "source": [
    "def upload(file):\n",
    "    ut = UploadThread(awg, file)\n",
    "    threads.append(ut)\n",
    "    \n",
    "def delete_all():\n",
    "    dt = DeleteAllThread(awg)\n",
    "    threads.append(dt)\n",
    "    \n",
    "def load(filename, channel=1, cwd='\\waves'):\n",
    "    load_file = { 'filename': filename,\n",
    "                       'channel' : channel,\n",
    "                       'cwd'     : cwd\n",
    "                     }\n",
    "    \n",
    "def reset():\n",
    "    pause_set = True\n",
    "    threads = []     # really bad practice!!! TODO: make stappable threads - stop and join them\n",
    "        \n",
    "    while not paused:\n",
    "            time.sleep(0.1)\n",
    "    clients = 0\n",
    "    awg.done = -1\n",
    "    awg.todo = -1\n",
    "    pause_set = False\n",
    "    \n",
    "def stop():\n",
    "    abort = True\n",
    "    \n",
    "def run():\n",
    "        # Event loop \n",
    "        while True:\n",
    "            # check list of threads repeatedly\n",
    "            for thr in threads:\n",
    "                if abort: return\n",
    "                # ignore running threads\n",
    "                if not thr.is_alive():\n",
    "                    \n",
    "                    # Case DeleteAllThread:\n",
    "                    if isinstance(thr, DeleteAllThread):\n",
    "                        # start a DeleteAllThread\n",
    "                        if thr.file.state == 'ready' and clients == 0:\n",
    "                            thr.start()\n",
    "                            clients += max_clients\n",
    "                            #time.sleep(0.001)\n",
    "                        # remove finished DeleteAllThread\n",
    "                        elif thr.file.state == 'finished':\n",
    "                            clients = 0\n",
    "                            threads.remove(thr)\n",
    "                        # restart failed DeleteAllThread\n",
    "                        elif thr.file.state == 'error':\n",
    "                            clients = 0\n",
    "                            threads.remove(thr)\n",
    "                            delete_all()\n",
    "                            \n",
    "                    # Case UploadThread:\n",
    "                    elif isinstance(thr, UploadThread):\n",
    "                        # start new UploadThread\n",
    "                        if thr.file.state == 'ready' and clients < max_clients:\n",
    "                            thr.start()\n",
    "                            clients += 1\n",
    "                            #time.sleep(0.001)\n",
    "                        # remove finished UploadThread\n",
    "                        elif thr.file.state == 'finished':\n",
    "                            clients -= 1\n",
    "                            threads.remove(thr)\n",
    "                            awg.done += 1\n",
    "                        # restart failed UploadThread\n",
    "                        elif thr.file.state == 'error':\n",
    "                            clients -= 1\n",
    "                            thr.file.seek(0)\n",
    "                            thr.file.state = 'ready'\n",
    "                            upload(thr.file)\n",
    "                            threads.remove(thr)\n",
    "                # stop threads if abort is set\n",
    "                time.sleep(0.001)\n",
    "            # check if there is something to load into RAM\n",
    "            if len(threads) == 0 and awg.done != -1 and load_file is not None:\n",
    "                f = load_file\n",
    "                awg.load(f['filename'], f['channel'], f['cwd'], block=True)\n",
    "                self.load_file = None\n",
    "            if pause_set:\n",
    "                paused = True\n",
    "                while pause_set:\n",
    "                    time.sleep(0.1)\n",
    "                paused = False"
   ]
  }
 ],
 "metadata": {
  "kernelspec": {
   "display_name": "Qudi",
   "language": "python",
   "name": "qudi"
  },
  "language_info": {
   "codemirror_mode": {
    "name": "ipython",
    "version": "3.6.5"
   },
   "file_extension": ".py",
   "mimetype": "text/x-python",
   "name": "python",
   "nbconvert_exporter": "python",
   "pygments_lexer": "ipython3",
   "version": "3.6.5"
  }
 },
 "nbformat": 4,
 "nbformat_minor": 2
}
