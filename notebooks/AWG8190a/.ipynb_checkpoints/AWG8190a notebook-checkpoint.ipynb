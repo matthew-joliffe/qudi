{
 "cells": [
  {
   "cell_type": "code",
   "execution_count": 500,
   "metadata": {},
   "outputs": [],
   "source": [
    "import sys \n",
    "import matplotlib.pyplot as plt\n",
    "import logic.pulsed.pulse_objects as po\n",
    "import time\n",
    "#poi_m = poimanagerlogic\n",
    "pml = pulsedmeasurementlogic\n",
    "import os\n",
    "sys.path.insert(0, 'C:/qudi/qudi/notebooks/AWG8190a')\n",
    "import awg8190a_backend36\n",
    "import waveforms97\n",
    "#jupyter notebook --NotebookApp.iopub_data_rate_limit=1.0e10"
   ]
  },
  {
   "cell_type": "code",
   "execution_count": 474,
   "metadata": {},
   "outputs": [],
   "source": [
    "def optimize():\n",
    "    confocal.refocus_clicked()\n",
    "    time.sleep(1)\n",
    "    while optimizerlogic.module_state()=='locked':\n",
    "       time.sleep(1)\n",
    "    return "
   ]
  },
  {
   "cell_type": "code",
   "execution_count": 475,
   "metadata": {},
   "outputs": [],
   "source": [
    "class qudi_pulsed_measurements:\n",
    "\n",
    "    def __init__(self, awg_sync_pause = 4e-6, laser_on = 3e-6, counter_off = 50e-9, relaxation_pause = 5e-6):\n",
    "\n",
    "        self.awg_sync_pause = awg_sync_pause\n",
    "        self.laser_on = laser_on\n",
    "        self.counter_off = counter_off\n",
    "        self.relaxation_pause = relaxation_pause\n",
    "\n",
    "    def make_rabi_pulse_block(self, tau_start, tau_step, step_number):\n",
    "        ele = []\n",
    "        \n",
    "        d_ch = {'d_ch1': False, 'd_ch2': False, 'd_ch4': False, 'd_ch3': False, 'd_ch5': True, 'd_ch6': False, 'd_ch7': False, 'd_ch8': False}\n",
    "        ele.append(po.PulseBlockElement(init_length_s=10*1e-9, increment_s=0, pulse_function=None, digital_high=d_ch, laser_on=False))    \n",
    "    \n",
    "        d_ch = {'d_ch1': False, 'd_ch2': False, 'd_ch4': False, 'd_ch3': True, 'd_ch5': False, 'd_ch6': False, 'd_ch7': False, 'd_ch8': False}\n",
    "        ele.append(po.PulseBlockElement(init_length_s=tau_start, increment_s=tau_step, pulse_function=None, digital_high=d_ch, laser_on=False))\n",
    "            \n",
    "        d_ch = {'d_ch1': False, 'd_ch2': False, 'd_ch4': False, 'd_ch3': False, 'd_ch5': False, 'd_ch6': False, 'd_ch7': False, 'd_ch8': False}\n",
    "        ele.append(po.PulseBlockElement(init_length_s=self.awg_sync_pause, increment_s=0, pulse_function=None, digital_high=d_ch, laser_on=False))\n",
    "\n",
    "        d_ch = {'d_ch1': True, 'd_ch2': True, 'd_ch4': False, 'd_ch3': False, 'd_ch5': False, 'd_ch6': False, 'd_ch7': False, 'd_ch8': False}\n",
    "        ele.append(po.PulseBlockElement(init_length_s=self.laser_on, increment_s=0, pulse_function=None, digital_high=d_ch, laser_on=False))\n",
    "\n",
    "        d_ch = {'d_ch1': False, 'd_ch2': True, 'd_ch4': False, 'd_ch3': False, 'd_ch5': False, 'd_ch6': False, 'd_ch7': False, 'd_ch8': False}\n",
    "        ele.append(po.PulseBlockElement(init_length_s=self.counter_off, increment_s=0, pulse_function=None, digital_high=d_ch, laser_on=False))\n",
    "\n",
    "        d_ch = {'d_ch1': False, 'd_ch2': False, 'd_ch4': False, 'd_ch3': False, 'd_ch5': False, 'd_ch6': False, 'd_ch7': False, 'd_ch8': False}\n",
    "        ele.append(po.PulseBlockElement(init_length_s=self.relaxation_pause, increment_s=0, pulse_function=None, digital_high=d_ch, laser_on=False))\n",
    "        \n",
    "        pulse_block = po.PulseBlock(name=f'rabi_qudi', element_list=ele)\n",
    "        \n",
    "        return pulse_block\n",
    "\n",
    "    def upload_rabi_ensemble(self, tau_start, tau_step, step_number, pulse_fnt):\n",
    "        pulse = pulse_fnt(tau_start, tau_step, step_number)\n",
    "        sequencegeneratorlogic.save_block(pulse)\n",
    "\n",
    "        bl = [(pulse.name,step_number-1)]\n",
    "        auto_pulse_CW = po.PulseBlockEnsemble(name=f'rabi_qudi', block_list=bl, rotating_frame=False)\n",
    "\n",
    "        ensemble = auto_pulse_CW\n",
    "        ensemblename = auto_pulse_CW.name\n",
    "        sequencegeneratorlogic.save_ensemble(ensemble)\n",
    "        ret,_,_ = sequencegeneratorlogic.sample_pulse_block_ensemble(ensemblename)\n",
    "        sequencegeneratorlogic.load_ensemble(ensemblename)\n",
    "        return ret\n",
    "\n",
    "    def rabi(self, tau_start, tau_step, step_number):\n",
    "        pulsedmasterlogic.set_ext_microwave_settings(use_ext_microwave=False)\n",
    "\n",
    "        err = self.upload_rabi_ensemble(tau_start, tau_step, step_number, self.make_rabi_pulse_block)\n",
    "\n",
    "        tau_list = np.linspace(tau_start*1e9, tau_start*1e9 + (step_number-1)*tau_step*1e9, step_number)*1e-9\n",
    "        pulsedmasterlogic.set_measurement_settings(invoke_settings=False, \n",
    "                                                controlled_variable=tau_list,\n",
    "                                                number_of_lasers=step_number, \n",
    "                                                laser_ignore_list=[], \n",
    "                                                alternating=False, \n",
    "                                                units=('s', 'arb. u.'))\n",
    "        time.sleep(0.5)\n",
    "        pulsedmasterlogic.set_alternative_data_type('None')\n",
    "        time.sleep(0.5)\n",
    "        \n",
    "    def make_pulsed_ODMR_pulse_block(self, pi_pulse):\n",
    "        ele = []\n",
    "        \n",
    "        d_ch = {'d_ch1': False, 'd_ch2': False, 'd_ch4': False, 'd_ch3': False, 'd_ch5': True, 'd_ch6': False, 'd_ch7': False, 'd_ch8': False}\n",
    "        ele.append(po.PulseBlockElement(init_length_s=10e-9, increment_s=0, pulse_function=None, digital_high=d_ch, laser_on=False))    \n",
    "    \n",
    "        d_ch = {'d_ch1': False, 'd_ch2': False, 'd_ch4': False, 'd_ch3': True, 'd_ch5': False, 'd_ch6': False, 'd_ch7': False, 'd_ch8': False}\n",
    "        ele.append(po.PulseBlockElement(init_length_s=pi_pulse*1e-9, increment_s=0, pulse_function=None, digital_high=d_ch, laser_on=False))\n",
    "            \n",
    "        d_ch = {'d_ch1': False, 'd_ch2': False, 'd_ch4': False, 'd_ch3': False, 'd_ch5': False, 'd_ch6': False, 'd_ch7': False, 'd_ch8': False}\n",
    "        ele.append(po.PulseBlockElement(init_length_s=self.awg_sync_pause, increment_s=0, pulse_function=None, digital_high=d_ch, laser_on=False))\n",
    "\n",
    "        d_ch = {'d_ch1': True, 'd_ch2': True, 'd_ch4': False, 'd_ch3': False, 'd_ch5': False, 'd_ch6': False, 'd_ch7': False, 'd_ch8': False}\n",
    "        ele.append(po.PulseBlockElement(init_length_s=self.laser_on, increment_s=0, pulse_function=None, digital_high=d_ch, laser_on=False))\n",
    "\n",
    "        d_ch = {'d_ch1': False, 'd_ch2': True, 'd_ch4': False, 'd_ch3': False, 'd_ch5': False, 'd_ch6': False, 'd_ch7': False, 'd_ch8': False}\n",
    "        ele.append(po.PulseBlockElement(init_length_s=self.counter_off, increment_s=0, pulse_function=None, digital_high=d_ch, laser_on=False))\n",
    "\n",
    "        d_ch = {'d_ch1': False, 'd_ch2': False, 'd_ch4': False, 'd_ch3': False, 'd_ch5': False, 'd_ch6': False, 'd_ch7': False, 'd_ch8': False}\n",
    "        ele.append(po.PulseBlockElement(init_length_s=self.relaxation_pause, increment_s=0, pulse_function=None, digital_high=d_ch, laser_on=False))\n",
    "        \n",
    "        pulse_block = po.PulseBlock(name=f'pulsed_ODMR_qudi', element_list=ele)\n",
    "        \n",
    "        return pulse_block\n",
    "    \n",
    "    def upload_pulsed_ODMR_ensemble(self, freq_list, pi_pulse, pulse_fnt):\n",
    "        pulse = pulse_fnt(pi_pulse)\n",
    "        sequencegeneratorlogic.save_block(pulse)\n",
    "\n",
    "        bl = [(pulse.name,len(freq_list)-1)]\n",
    "        auto_pulse_CW = po.PulseBlockEnsemble(name=f'pulsed_ODMR_qudi', block_list=bl, rotating_frame=False)\n",
    "\n",
    "        ensemble = auto_pulse_CW\n",
    "        ensemblename = auto_pulse_CW.name\n",
    "        sequencegeneratorlogic.save_ensemble(ensemble)\n",
    "        ret,_,_ = sequencegeneratorlogic.sample_pulse_block_ensemble(ensemblename)\n",
    "        sequencegeneratorlogic.load_ensemble(ensemblename)\n",
    "        return ret\n",
    "    \n",
    "    def pulsed_ODMR(self, freq_start, freq_stop, freq_step, pi_pulse):\n",
    "        pulsedmasterlogic.set_ext_microwave_settings(use_ext_microwave=False)\n",
    "        freq_list = np.arange(freq_start, freq_stop+freq_step, freq_step)\n",
    "        if not ((freq_stop-freq_start)/freq_step)%1 ==0:\n",
    "            freq_list = freq_list[:-1]\n",
    "        err = self.upload_pulsed_ODMR_ensemble(freq_list, pi_pulse, self.make_pulsed_ODMR_pulse_block)\n",
    "        pulsedmasterlogic.set_measurement_settings(invoke_settings=False, \n",
    "                                                controlled_variable=freq_list,\n",
    "                                                number_of_lasers=len(freq_list), \n",
    "                                                laser_ignore_list=[], \n",
    "                                                alternating=False, \n",
    "                                                units=('Hz', 'arb. u.'))\n",
    "        time.sleep(0.5)\n",
    "        pulsedmasterlogic.set_alternative_data_type('None')\n",
    "        time.sleep(0.5)\n",
    "        \n",
    "    def make_FID_pulse_block(self, tau_start, tau_step, step_number, pi_half_pulse, pi_three_half_pulse, alternating):\n",
    "        ele = []\n",
    "        \n",
    "        d_ch = {'d_ch1': False, 'd_ch2': False, 'd_ch4': False, 'd_ch3': False, 'd_ch5': True, 'd_ch6': False, 'd_ch7': False, 'd_ch8': False}\n",
    "        ele.append(po.PulseBlockElement(init_length_s=10*1e-9, increment_s=0, pulse_function=None, digital_high=d_ch, laser_on=False))    \n",
    "    \n",
    "        d_ch = {'d_ch1': False, 'd_ch2': False, 'd_ch4': False, 'd_ch3': True, 'd_ch5': False, 'd_ch6': False, 'd_ch7': False, 'd_ch8': False}\n",
    "        ele.append(po.PulseBlockElement(init_length_s=pi_half_pulse*1e-9, increment_s=0, pulse_function=None, digital_high=d_ch, laser_on=False))\n",
    "        \n",
    "        d_ch = {'d_ch1': False, 'd_ch2': False, 'd_ch4': False, 'd_ch3': False, 'd_ch5': False, 'd_ch6': False, 'd_ch7': False, 'd_ch8': False}\n",
    "        ele.append(po.PulseBlockElement(init_length_s=tau_start, increment_s=tau_step, pulse_function=None, digital_high=d_ch, laser_on=False))\n",
    "        \n",
    "        d_ch = {'d_ch1': False, 'd_ch2': False, 'd_ch4': False, 'd_ch3': True, 'd_ch5': False, 'd_ch6': False, 'd_ch7': False, 'd_ch8': False}\n",
    "        ele.append(po.PulseBlockElement(init_length_s=pi_half_pulse*1e-9, increment_s=0, pulse_function=None, digital_high=d_ch, laser_on=False))\n",
    "            \n",
    "        d_ch = {'d_ch1': False, 'd_ch2': False, 'd_ch4': False, 'd_ch3': False, 'd_ch5': False, 'd_ch6': False, 'd_ch7': False, 'd_ch8': False}\n",
    "        ele.append(po.PulseBlockElement(init_length_s=self.awg_sync_pause, increment_s=0, pulse_function=None, digital_high=d_ch, laser_on=False))\n",
    "\n",
    "        d_ch = {'d_ch1': True, 'd_ch2': True, 'd_ch4': False, 'd_ch3': False, 'd_ch5': False, 'd_ch6': False, 'd_ch7': False, 'd_ch8': False}\n",
    "        ele.append(po.PulseBlockElement(init_length_s=self.laser_on, increment_s=0, pulse_function=None, digital_high=d_ch, laser_on=True))\n",
    "\n",
    "        d_ch = {'d_ch1': False, 'd_ch2': True, 'd_ch4': False, 'd_ch3': False, 'd_ch5': False, 'd_ch6': False, 'd_ch7': False, 'd_ch8': False}\n",
    "        ele.append(po.PulseBlockElement(init_length_s=self.counter_off, increment_s=0, pulse_function=None, digital_high=d_ch, laser_on=False))\n",
    "\n",
    "        d_ch = {'d_ch1': False, 'd_ch2': False, 'd_ch4': False, 'd_ch3': False, 'd_ch5': False, 'd_ch6': False, 'd_ch7': False, 'd_ch8': False}\n",
    "        ele.append(po.PulseBlockElement(init_length_s=self.relaxation_pause, increment_s=0, pulse_function=None, digital_high=d_ch, laser_on=False))\n",
    "        \n",
    "        if alternating:\n",
    "            d_ch = {'d_ch1': False, 'd_ch2': False, 'd_ch4': False, 'd_ch3': True, 'd_ch5': False, 'd_ch6': False, 'd_ch7': False, 'd_ch8': False}\n",
    "            ele.append(po.PulseBlockElement(init_length_s=pi_half_pulse*1e-9, increment_s=0, pulse_function=None, digital_high=d_ch, laser_on=False))\n",
    "\n",
    "            d_ch = {'d_ch1': False, 'd_ch2': False, 'd_ch4': False, 'd_ch3': False, 'd_ch5': False, 'd_ch6': False, 'd_ch7': False, 'd_ch8': False}\n",
    "            ele.append(po.PulseBlockElement(init_length_s=tau_start, increment_s=tau_step, pulse_function=None, digital_high=d_ch, laser_on=False))\n",
    "\n",
    "            d_ch = {'d_ch1': False, 'd_ch2': False, 'd_ch4': False, 'd_ch3': True, 'd_ch5': False, 'd_ch6': False, 'd_ch7': False, 'd_ch8': False}\n",
    "            ele.append(po.PulseBlockElement(init_length_s=pi_three_half_pulse*1e-9, increment_s=0, pulse_function=None, digital_high=d_ch, laser_on=False))\n",
    "\n",
    "            d_ch = {'d_ch1': False, 'd_ch2': False, 'd_ch4': False, 'd_ch3': False, 'd_ch5': False, 'd_ch6': False, 'd_ch7': False, 'd_ch8': False}\n",
    "            ele.append(po.PulseBlockElement(init_length_s=self.awg_sync_pause, increment_s=0, pulse_function=None, digital_high=d_ch, laser_on=False))\n",
    "\n",
    "            d_ch = {'d_ch1': True, 'd_ch2': True, 'd_ch4': False, 'd_ch3': False, 'd_ch5': False, 'd_ch6': False, 'd_ch7': False, 'd_ch8': False}\n",
    "            ele.append(po.PulseBlockElement(init_length_s=self.laser_on, increment_s=0, pulse_function=None, digital_high=d_ch, laser_on=False))\n",
    "\n",
    "            d_ch = {'d_ch1': False, 'd_ch2': True, 'd_ch4': False, 'd_ch3': False, 'd_ch5': False, 'd_ch6': False, 'd_ch7': False, 'd_ch8': False}\n",
    "            ele.append(po.PulseBlockElement(init_length_s=self.counter_off, increment_s=0, pulse_function=None, digital_high=d_ch, laser_on=True))\n",
    "\n",
    "            d_ch = {'d_ch1': False, 'd_ch2': False, 'd_ch4': False, 'd_ch3': False, 'd_ch5': False, 'd_ch6': False, 'd_ch7': False, 'd_ch8': False}\n",
    "            ele.append(po.PulseBlockElement(init_length_s=self.relaxation_pause, increment_s=0, pulse_function=None, digital_high=d_ch, laser_on=False))\n",
    "\n",
    "        pulse_block = po.PulseBlock(name=f'FID_qudi', element_list=ele)\n",
    "        \n",
    "        return pulse_block\n",
    "\n",
    "    def upload_FID_ensemble(self, tau_start, tau_step, step_number, pi_half_pulse, pi_three_half_pulse, alternating, pulse_fnt):\n",
    "        pulse = pulse_fnt(tau_start, tau_step, step_number, pi_half_pulse, pi_three_half_pulse, alternating)\n",
    "        sequencegeneratorlogic.save_block(pulse)\n",
    "\n",
    "        bl = [(pulse.name,step_number-1)]\n",
    "        auto_pulse_CW = po.PulseBlockEnsemble(name=f'FID_qudi', block_list=bl, rotating_frame=False)\n",
    "\n",
    "        ensemble = auto_pulse_CW\n",
    "        ensemblename = auto_pulse_CW.name\n",
    "        sequencegeneratorlogic.save_ensemble(ensemble)\n",
    "        ret,_,_ = sequencegeneratorlogic.sample_pulse_block_ensemble(ensemblename)\n",
    "        sequencegeneratorlogic.load_ensemble(ensemblename)\n",
    "        return ret\n",
    "\n",
    "    def FID(self, tau_start, tau_step, step_number, pi_half_pulse, pi_three_half_pulse, alternating):\n",
    "        pulsedmasterlogic.set_ext_microwave_settings(use_ext_microwave=False)\n",
    "\n",
    "        err = self.upload_FID_ensemble(tau_start, tau_step, step_number, pi_half_pulse, pi_three_half_pulse, alternating, self.make_FID_pulse_block)\n",
    "        \n",
    "        tau_list = np.linspace(tau_start*1e9, tau_start*1e9 + (step_number-1)*tau_step*1e9, step_number)*1e-9\n",
    "        if alternating:\n",
    "            laser_number = 2*step_number\n",
    "        else:\n",
    "            laser_number = step_number\n",
    "        pulsedmasterlogic.set_measurement_settings(invoke_settings=False, \n",
    "                                                controlled_variable=tau_list,\n",
    "                                                number_of_lasers=laser_number, \n",
    "                                                laser_ignore_list=[], \n",
    "                                                alternating=alternating, \n",
    "                                                units=('s', 'arb. u.'))\n",
    "        time.sleep(0.5)\n",
    "        if alternating:\n",
    "            pulsedmasterlogic.set_alternative_data_type('Delta')\n",
    "        else:\n",
    "            pulsedmasterlogic.set_alternative_data_type('None')\n",
    "        time.sleep(0.5)\n",
    "        \n",
    "    def make_hahn_echo_pulse_block(self, tau_start, tau_step, pi_half_pulse,  pi_pulse, pi_three_half_pulse, alternating):\n",
    "        ele = []\n",
    "        \n",
    "        d_ch = {'d_ch1': False, 'd_ch2': False, 'd_ch4': False, 'd_ch3': False, 'd_ch5': True, 'd_ch6': False, 'd_ch7': False, 'd_ch8': False}\n",
    "        ele.append(po.PulseBlockElement(init_length_s=10*1e-9, increment_s=0, pulse_function=None, digital_high=d_ch, laser_on=False))    \n",
    "    \n",
    "        d_ch = {'d_ch1': False, 'd_ch2': False, 'd_ch4': False, 'd_ch3': True, 'd_ch5': False, 'd_ch6': False, 'd_ch7': False, 'd_ch8': False}\n",
    "        ele.append(po.PulseBlockElement(init_length_s=pi_half_pulse*1e-9, increment_s=0, pulse_function=None, digital_high=d_ch, laser_on=False))\n",
    "        \n",
    "        d_ch = {'d_ch1': False, 'd_ch2': False, 'd_ch4': False, 'd_ch3': False, 'd_ch5': False, 'd_ch6': False, 'd_ch7': False, 'd_ch8': False}\n",
    "        ele.append(po.PulseBlockElement(init_length_s=tau_start/2, increment_s=tau_step/2, pulse_function=None, digital_high=d_ch, laser_on=False))\n",
    "        \n",
    "        d_ch = {'d_ch1': False, 'd_ch2': False, 'd_ch4': False, 'd_ch3': True, 'd_ch5': False, 'd_ch6': False, 'd_ch7': False, 'd_ch8': False}\n",
    "        ele.append(po.PulseBlockElement(init_length_s=pi_pulse*1e-9, increment_s=0, pulse_function=None, digital_high=d_ch, laser_on=False))\n",
    "        \n",
    "        d_ch = {'d_ch1': False, 'd_ch2': False, 'd_ch4': False, 'd_ch3': False, 'd_ch5': False, 'd_ch6': False, 'd_ch7': False, 'd_ch8': False}\n",
    "        ele.append(po.PulseBlockElement(init_length_s=tau_start/2, increment_s=tau_step/2, pulse_function=None, digital_high=d_ch, laser_on=False))\n",
    "        \n",
    "        d_ch = {'d_ch1': False, 'd_ch2': False, 'd_ch4': False, 'd_ch3': True, 'd_ch5': False, 'd_ch6': False, 'd_ch7': False, 'd_ch8': False}\n",
    "        ele.append(po.PulseBlockElement(init_length_s=pi_half_pulse*1e-9, increment_s=0, pulse_function=None, digital_high=d_ch, laser_on=False))\n",
    "            \n",
    "        d_ch = {'d_ch1': False, 'd_ch2': False, 'd_ch4': False, 'd_ch3': False, 'd_ch5': False, 'd_ch6': False, 'd_ch7': False, 'd_ch8': False}\n",
    "        ele.append(po.PulseBlockElement(init_length_s=self.awg_sync_pause, increment_s=0, pulse_function=None, digital_high=d_ch, laser_on=False))\n",
    "\n",
    "        d_ch = {'d_ch1': True, 'd_ch2': True, 'd_ch4': False, 'd_ch3': False, 'd_ch5': False, 'd_ch6': False, 'd_ch7': False, 'd_ch8': False}\n",
    "        ele.append(po.PulseBlockElement(init_length_s=self.laser_on, increment_s=0, pulse_function=None, digital_high=d_ch, laser_on=True))\n",
    "\n",
    "        d_ch = {'d_ch1': False, 'd_ch2': True, 'd_ch4': False, 'd_ch3': False, 'd_ch5': False, 'd_ch6': False, 'd_ch7': False, 'd_ch8': False}\n",
    "        ele.append(po.PulseBlockElement(init_length_s=self.counter_off, increment_s=0, pulse_function=None, digital_high=d_ch, laser_on=False))\n",
    "\n",
    "        d_ch = {'d_ch1': False, 'd_ch2': False, 'd_ch4': False, 'd_ch3': False, 'd_ch5': False, 'd_ch6': False, 'd_ch7': False, 'd_ch8': False}\n",
    "        ele.append(po.PulseBlockElement(init_length_s=self.relaxation_pause, increment_s=0, pulse_function=None, digital_high=d_ch, laser_on=False))\n",
    "        \n",
    "        if alternating:\n",
    "            d_ch = {'d_ch1': False, 'd_ch2': False, 'd_ch4': False, 'd_ch3': True, 'd_ch5': False, 'd_ch6': False, 'd_ch7': False, 'd_ch8': False}\n",
    "            ele.append(po.PulseBlockElement(init_length_s=pi_half_pulse*1e-9, increment_s=0, pulse_function=None, digital_high=d_ch, laser_on=False))\n",
    "\n",
    "            d_ch = {'d_ch1': False, 'd_ch2': False, 'd_ch4': False, 'd_ch3': False, 'd_ch5': False, 'd_ch6': False, 'd_ch7': False, 'd_ch8': False}\n",
    "            ele.append(po.PulseBlockElement(init_length_s=tau_start/2, increment_s=tau_step/2, pulse_function=None, digital_high=d_ch, laser_on=False))\n",
    "            \n",
    "            d_ch = {'d_ch1': False, 'd_ch2': False, 'd_ch4': False, 'd_ch3': True, 'd_ch5': False, 'd_ch6': False, 'd_ch7': False, 'd_ch8': False}\n",
    "            ele.append(po.PulseBlockElement(init_length_s=pi_pulse*1e-9, increment_s=0, pulse_function=None, digital_high=d_ch, laser_on=False))\n",
    "            \n",
    "            d_ch = {'d_ch1': False, 'd_ch2': False, 'd_ch4': False, 'd_ch3': False, 'd_ch5': False, 'd_ch6': False, 'd_ch7': False, 'd_ch8': False}\n",
    "            ele.append(po.PulseBlockElement(init_length_s=tau_start/2, increment_s=tau_step/2, pulse_function=None, digital_high=d_ch, laser_on=False))\n",
    "\n",
    "            d_ch = {'d_ch1': False, 'd_ch2': False, 'd_ch4': False, 'd_ch3': True, 'd_ch5': False, 'd_ch6': False, 'd_ch7': False, 'd_ch8': False}\n",
    "            ele.append(po.PulseBlockElement(init_length_s=pi_three_half_pulse*1e-9, increment_s=0, pulse_function=None, digital_high=d_ch, laser_on=False))\n",
    "\n",
    "            d_ch = {'d_ch1': False, 'd_ch2': False, 'd_ch4': False, 'd_ch3': False, 'd_ch5': False, 'd_ch6': False, 'd_ch7': False, 'd_ch8': False}\n",
    "            ele.append(po.PulseBlockElement(init_length_s=self.awg_sync_pause, increment_s=0, pulse_function=None, digital_high=d_ch, laser_on=False))\n",
    "\n",
    "            d_ch = {'d_ch1': True, 'd_ch2': True, 'd_ch4': False, 'd_ch3': False, 'd_ch5': False, 'd_ch6': False, 'd_ch7': False, 'd_ch8': False}\n",
    "            ele.append(po.PulseBlockElement(init_length_s=self.laser_on, increment_s=0, pulse_function=None, digital_high=d_ch, laser_on=False))\n",
    "\n",
    "            d_ch = {'d_ch1': False, 'd_ch2': True, 'd_ch4': False, 'd_ch3': False, 'd_ch5': False, 'd_ch6': False, 'd_ch7': False, 'd_ch8': False}\n",
    "            ele.append(po.PulseBlockElement(init_length_s=self.counter_off, increment_s=0, pulse_function=None, digital_high=d_ch, laser_on=True))\n",
    "\n",
    "            d_ch = {'d_ch1': False, 'd_ch2': False, 'd_ch4': False, 'd_ch3': False, 'd_ch5': False, 'd_ch6': False, 'd_ch7': False, 'd_ch8': False}\n",
    "            ele.append(po.PulseBlockElement(init_length_s=self.relaxation_pause, increment_s=0, pulse_function=None, digital_high=d_ch, laser_on=False))\n",
    "            \n",
    "        pulse_block = po.PulseBlock(name=f'hahn_echo_qudi', element_list=ele)\n",
    "        \n",
    "        return pulse_block\n",
    "\n",
    "    def upload_hahn_echo_ensemble(self, tau_start, tau_step, step_number, pi_half_pulse, pi_pulse, pi_three_half_pulse, alternating, pulse_fnt):\n",
    "        pulse = pulse_fnt(tau_start, tau_step, pi_half_pulse, pi_pulse, pi_three_half_pulse, alternating)\n",
    "        sequencegeneratorlogic.save_block(pulse)\n",
    "\n",
    "        bl = [(pulse.name,step_number-1)]\n",
    "        auto_pulse_CW = po.PulseBlockEnsemble(name=f'hahn_echo_qudi', block_list=bl, rotating_frame=False)\n",
    "\n",
    "        ensemble = auto_pulse_CW\n",
    "        ensemblename = auto_pulse_CW.name\n",
    "        sequencegeneratorlogic.save_ensemble(ensemble)\n",
    "        ret,_,_ = sequencegeneratorlogic.sample_pulse_block_ensemble(ensemblename)\n",
    "        sequencegeneratorlogic.load_ensemble(ensemblename)\n",
    "        return ret\n",
    "\n",
    "    def hahn_echo(self, tau_start, tau_step, step_number, pi_half_pulse, pi_pulse,  pi_three_half_pulse, alternating):\n",
    "        pulsedmasterlogic.set_ext_microwave_settings(use_ext_microwave=False)\n",
    "\n",
    "        err = self.upload_hahn_echo_ensemble(tau_start, tau_step, step_number, pi_half_pulse, pi_pulse, pi_three_half_pulse, alternating, self.make_hahn_echo_pulse_block)\n",
    "        \n",
    "        tau_list = np.linspace(tau_start*1e9, tau_start*1e9 + (step_number-1)*tau_step*1e9, step_number)*1e-9\n",
    "        if alternating:\n",
    "            laser_number = 2*step_number\n",
    "        else:\n",
    "            laser_number = step_number\n",
    "        \n",
    "        pulsedmasterlogic.set_measurement_settings(invoke_settings=False, \n",
    "                                                controlled_variable=tau_list,\n",
    "                                                number_of_lasers=laser_number, \n",
    "                                                laser_ignore_list=[], \n",
    "                                                alternating=alternating, \n",
    "                                                units=('s', 'arb. u.'))\n",
    "        time.sleep(0.5)\n",
    "        pulsedmasterlogic.set_alternative_data_type('Delta')\n",
    "        time.sleep(0.5)\n",
    "        \n",
    "    def make_pi_pulse_test_pulse_block(self, pi_pulse, num_pulses):\n",
    "        ele = []\n",
    "        \n",
    "        d_ch = {'d_ch1': False, 'd_ch2': False, 'd_ch4': False, 'd_ch3': False, 'd_ch5': True, 'd_ch6': False, 'd_ch7': False, 'd_ch8': False}\n",
    "        ele.append(po.PulseBlockElement(init_length_s=10*1e-9, increment_s=0, pulse_function=None, digital_high=d_ch, laser_on=False)) \n",
    "        \n",
    "        for i in range(num_pulses):\n",
    "            for _ in range(i+1):\n",
    "                d_ch = {'d_ch1': False, 'd_ch2': False, 'd_ch4': False, 'd_ch3': True, 'd_ch5': False, 'd_ch6': False, 'd_ch7': False, 'd_ch8': False}\n",
    "                ele.append(po.PulseBlockElement(init_length_s=pi_pulse*1e-9, increment_s=0, pulse_function=None, digital_high=d_ch, laser_on=False))\n",
    "\n",
    "                d_ch = {'d_ch1': False, 'd_ch2': False, 'd_ch4': False, 'd_ch3': False, 'd_ch5': False, 'd_ch6': False, 'd_ch7': False, 'd_ch8': False}\n",
    "                ele.append(po.PulseBlockElement(init_length_s=20e-9, increment_s=0, pulse_function=None, digital_high=d_ch, laser_on=False))\n",
    "            \n",
    "            d_ch = {'d_ch1': False, 'd_ch2': False, 'd_ch4': False, 'd_ch3': False, 'd_ch5': False, 'd_ch6': False, 'd_ch7': False, 'd_ch8': False}\n",
    "            ele.append(po.PulseBlockElement(init_length_s=self.awg_sync_pause, increment_s=0, pulse_function=None, digital_high=d_ch, laser_on=False))\n",
    "\n",
    "            d_ch = {'d_ch1': True, 'd_ch2': True, 'd_ch4': False, 'd_ch3': False, 'd_ch5': False, 'd_ch6': False, 'd_ch7': False, 'd_ch8': False}\n",
    "            ele.append(po.PulseBlockElement(init_length_s=self.laser_on, increment_s=0, pulse_function=None, digital_high=d_ch, laser_on=False))\n",
    "\n",
    "            d_ch = {'d_ch1': False, 'd_ch2': True, 'd_ch4': False, 'd_ch3': False, 'd_ch5': False, 'd_ch6': False, 'd_ch7': False, 'd_ch8': False}\n",
    "            ele.append(po.PulseBlockElement(init_length_s=self.counter_off, increment_s=0, pulse_function=None, digital_high=d_ch, laser_on=False))\n",
    "\n",
    "            d_ch = {'d_ch1': False, 'd_ch2': False, 'd_ch4': False, 'd_ch3': False, 'd_ch5': False, 'd_ch6': False, 'd_ch7': False, 'd_ch8': False}\n",
    "            ele.append(po.PulseBlockElement(init_length_s=self.relaxation_pause, increment_s=0, pulse_function=None, digital_high=d_ch, laser_on=False))\n",
    "        \n",
    "        pulse_block = po.PulseBlock(name=f'pi_pulse_test_qudi', element_list=ele)\n",
    "        \n",
    "        return pulse_block\n",
    "\n",
    "    def upload_pi_pulse_test_ensemble(self, pi_pulse, num_pulses, pulse_fnt):\n",
    "        pulse = pulse_fnt(pi_pulse, num_pulses)\n",
    "        sequencegeneratorlogic.save_block(pulse)\n",
    "\n",
    "        bl = [(pulse.name,0)]\n",
    "        auto_pulse_CW = po.PulseBlockEnsemble(name=f'pi_pulse_test_qudi', block_list=bl, rotating_frame=False)\n",
    "\n",
    "        ensemble = auto_pulse_CW\n",
    "        ensemblename = auto_pulse_CW.name\n",
    "        sequencegeneratorlogic.save_ensemble(ensemble)\n",
    "        ret,_,_ = sequencegeneratorlogic.sample_pulse_block_ensemble(ensemblename)\n",
    "        sequencegeneratorlogic.load_ensemble(ensemblename)\n",
    "        return ret\n",
    "\n",
    "    def pi_pulse_test(self, pi_pulse, num_pulses):\n",
    "        pulsedmasterlogic.set_ext_microwave_settings(use_ext_microwave=False)\n",
    "\n",
    "        err = self.upload_pi_pulse_test_ensemble(pi_pulse, num_pulses, self.make_pi_pulse_test_pulse_block)\n",
    "\n",
    "        pulsedmasterlogic.set_measurement_settings(invoke_settings=False, \n",
    "                                                controlled_variable=np.arange(1,num_pulses+1),\n",
    "                                                number_of_lasers=num_pulses, \n",
    "                                                laser_ignore_list=[], \n",
    "                                                alternating=False, \n",
    "                                                units=('N', 'arb. u.'))\n",
    "        time.sleep(0.5)\n",
    "        pulsedmasterlogic.set_alternative_data_type('None')\n",
    "        time.sleep(0.5)\n",
    "        \n",
    "    def make_xy8_pulse_block(self, tau_start, tau_step, step_number, order, pi_half_pulse, pi_three_half_pulse, pi_pulse, alternating):\n",
    "        ele = []\n",
    "        \n",
    "        d_ch = {'d_ch1': False, 'd_ch2': False, 'd_ch4': False, 'd_ch3': False, 'd_ch5': True, 'd_ch6': False, 'd_ch7': False, 'd_ch8': False}\n",
    "        ele.append(po.PulseBlockElement(init_length_s=10*1e-9, increment_s=0, pulse_function=None, digital_high=d_ch, laser_on=False))    \n",
    "    \n",
    "        d_ch = {'d_ch1': False, 'd_ch2': False, 'd_ch4': False, 'd_ch3': True, 'd_ch5': False, 'd_ch6': False, 'd_ch7': False, 'd_ch8': False}\n",
    "        ele.append(po.PulseBlockElement(init_length_s=pi_half_pulse*1e-9, increment_s=0, pulse_function=None, digital_high=d_ch, laser_on=False))\n",
    "        \n",
    "        d_ch = {'d_ch1': False, 'd_ch2': False, 'd_ch4': False, 'd_ch3': False, 'd_ch5': False, 'd_ch6': False, 'd_ch7': False, 'd_ch8': False}\n",
    "        ele.append(po.PulseBlockElement(init_length_s=tau_start/2, increment_s=tau_step/2, pulse_function=None, digital_high=d_ch, laser_on=False))\n",
    "        \n",
    "        for j in range(order):\n",
    "            for i in range(8):\n",
    "                d_ch = {'d_ch1': False, 'd_ch2': False, 'd_ch4': False, 'd_ch3': True, 'd_ch5': False, 'd_ch6': False, 'd_ch7': False, 'd_ch8': False}\n",
    "                ele.append(po.PulseBlockElement(init_length_s=pi_pulse*1e-9, increment_s=0, pulse_function=None, digital_high=d_ch, laser_on=False))\n",
    "                if i == 7 and j == order-1:\n",
    "                    break\n",
    "                    \n",
    "                else:\n",
    "                    d_ch = {'d_ch1': False, 'd_ch2': False, 'd_ch4': False, 'd_ch3': False, 'd_ch5': False, 'd_ch6': False, 'd_ch7': False, 'd_ch8': False}\n",
    "                    ele.append(po.PulseBlockElement(init_length_s=tau_start, increment_s=tau_step, pulse_function=None, digital_high=d_ch, laser_on=False))\n",
    "                    \n",
    "        d_ch = {'d_ch1': False, 'd_ch2': False, 'd_ch4': False, 'd_ch3': False, 'd_ch5': False, 'd_ch6': False, 'd_ch7': False, 'd_ch8': False}\n",
    "        ele.append(po.PulseBlockElement(init_length_s=tau_start/2, increment_s=tau_step/2, pulse_function=None, digital_high=d_ch, laser_on=False))\n",
    "        \n",
    "        d_ch = {'d_ch1': False, 'd_ch2': False, 'd_ch4': False, 'd_ch3': True, 'd_ch5': False, 'd_ch6': False, 'd_ch7': False, 'd_ch8': False}\n",
    "        ele.append(po.PulseBlockElement(init_length_s=pi_half_pulse*1e-9, increment_s=0, pulse_function=None, digital_high=d_ch, laser_on=False))\n",
    "            \n",
    "        d_ch = {'d_ch1': False, 'd_ch2': False, 'd_ch4': False, 'd_ch3': False, 'd_ch5': False, 'd_ch6': False, 'd_ch7': False, 'd_ch8': False}\n",
    "        ele.append(po.PulseBlockElement(init_length_s=self.awg_sync_pause, increment_s=0, pulse_function=None, digital_high=d_ch, laser_on=False))\n",
    "\n",
    "        d_ch = {'d_ch1': True, 'd_ch2': True, 'd_ch4': False, 'd_ch3': False, 'd_ch5': False, 'd_ch6': False, 'd_ch7': False, 'd_ch8': False}\n",
    "        ele.append(po.PulseBlockElement(init_length_s=self.laser_on, increment_s=0, pulse_function=None, digital_high=d_ch, laser_on=True))\n",
    "\n",
    "        d_ch = {'d_ch1': False, 'd_ch2': True, 'd_ch4': False, 'd_ch3': False, 'd_ch5': False, 'd_ch6': False, 'd_ch7': False, 'd_ch8': False}\n",
    "        ele.append(po.PulseBlockElement(init_length_s=self.counter_off, increment_s=0, pulse_function=None, digital_high=d_ch, laser_on=False))\n",
    "\n",
    "        d_ch = {'d_ch1': False, 'd_ch2': False, 'd_ch4': False, 'd_ch3': False, 'd_ch5': False, 'd_ch6': False, 'd_ch7': False, 'd_ch8': False}\n",
    "        ele.append(po.PulseBlockElement(init_length_s=self.relaxation_pause, increment_s=0, pulse_function=None, digital_high=d_ch, laser_on=False))\n",
    "        \n",
    "        if alternating:\n",
    "            d_ch = {'d_ch1': False, 'd_ch2': False, 'd_ch4': False, 'd_ch3': True, 'd_ch5': False, 'd_ch6': False, 'd_ch7': False, 'd_ch8': False}\n",
    "            ele.append(po.PulseBlockElement(init_length_s=pi_half_pulse*1e-9, increment_s=0, pulse_function=None, digital_high=d_ch, laser_on=False))\n",
    "\n",
    "            d_ch = {'d_ch1': False, 'd_ch2': False, 'd_ch4': False, 'd_ch3': False, 'd_ch5': False, 'd_ch6': False, 'd_ch7': False, 'd_ch8': False}\n",
    "            ele.append(po.PulseBlockElement(init_length_s=tau_start/2, increment_s=tau_step/2, pulse_function=None, digital_high=d_ch, laser_on=False))\n",
    "\n",
    "            for j in range(order):\n",
    "                for i in range(8):\n",
    "                    d_ch = {'d_ch1': False, 'd_ch2': False, 'd_ch4': False, 'd_ch3': True, 'd_ch5': False, 'd_ch6': False, 'd_ch7': False, 'd_ch8': False}\n",
    "                    ele.append(po.PulseBlockElement(init_length_s=pi_pulse*1e-9, increment_s=0, pulse_function=None, digital_high=d_ch, laser_on=False))\n",
    "                    if i == 7 and j == order-1:\n",
    "                        break\n",
    "                    else:\n",
    "                        d_ch = {'d_ch1': False, 'd_ch2': False, 'd_ch4': False, 'd_ch3': False, 'd_ch5': False, 'd_ch6': False, 'd_ch7': False, 'd_ch8': False}\n",
    "                        ele.append(po.PulseBlockElement(init_length_s=tau_start, increment_s=tau_step, pulse_function=None, digital_high=d_ch, laser_on=False))\n",
    "                        \n",
    "            d_ch = {'d_ch1': False, 'd_ch2': False, 'd_ch4': False, 'd_ch3': False, 'd_ch5': False, 'd_ch6': False, 'd_ch7': False, 'd_ch8': False}\n",
    "            ele.append(po.PulseBlockElement(init_length_s=tau_start/2, increment_s=tau_step/2, pulse_function=None, digital_high=d_ch, laser_on=False))\n",
    "            \n",
    "            d_ch = {'d_ch1': False, 'd_ch2': False, 'd_ch4': False, 'd_ch3': True, 'd_ch5': False, 'd_ch6': False, 'd_ch7': False, 'd_ch8': False}\n",
    "            ele.append(po.PulseBlockElement(init_length_s=pi_three_half_pulse*1e-9, increment_s=0, pulse_function=None, digital_high=d_ch, laser_on=False))\n",
    "\n",
    "            d_ch = {'d_ch1': False, 'd_ch2': False, 'd_ch4': False, 'd_ch3': False, 'd_ch5': False, 'd_ch6': False, 'd_ch7': False, 'd_ch8': False}\n",
    "            ele.append(po.PulseBlockElement(init_length_s=self.awg_sync_pause, increment_s=0, pulse_function=None, digital_high=d_ch, laser_on=False))\n",
    "\n",
    "            d_ch = {'d_ch1': True, 'd_ch2': True, 'd_ch4': False, 'd_ch3': False, 'd_ch5': False, 'd_ch6': False, 'd_ch7': False, 'd_ch8': False}\n",
    "            ele.append(po.PulseBlockElement(init_length_s=self.laser_on, increment_s=0, pulse_function=None, digital_high=d_ch, laser_on=True))\n",
    "\n",
    "            d_ch = {'d_ch1': False, 'd_ch2': True, 'd_ch4': False, 'd_ch3': False, 'd_ch5': False, 'd_ch6': False, 'd_ch7': False, 'd_ch8': False}\n",
    "            ele.append(po.PulseBlockElement(init_length_s=self.counter_off, increment_s=0, pulse_function=None, digital_high=d_ch, laser_on=False))\n",
    "\n",
    "            d_ch = {'d_ch1': False, 'd_ch2': False, 'd_ch4': False, 'd_ch3': False, 'd_ch5': False, 'd_ch6': False, 'd_ch7': False, 'd_ch8': False}\n",
    "            ele.append(po.PulseBlockElement(init_length_s=self.relaxation_pause, increment_s=0, pulse_function=None, digital_high=d_ch, laser_on=False))\n",
    "        \n",
    "            \n",
    "        pulse_block = po.PulseBlock(name=f'xy8_qudi', element_list=ele)\n",
    "        \n",
    "        return pulse_block\n",
    "\n",
    "    def upload_xy8_ensemble(self, tau_start, tau_step, step_number, order, pi_half_pulse, pi_three_half_pulse, pi_pulse, alternating, pulse_fnt):\n",
    "        pulse = pulse_fnt( tau_start, tau_step, step_number, order, pi_half_pulse, pi_three_half_pulse, pi_pulse, alternating)\n",
    "        sequencegeneratorlogic.save_block(pulse)\n",
    "\n",
    "        bl = [(pulse.name,step_number-1)]\n",
    "        auto_pulse_CW = po.PulseBlockEnsemble(name=f'xy8_qudi', block_list=bl, rotating_frame=False)\n",
    "\n",
    "        ensemble = auto_pulse_CW\n",
    "        ensemblename = auto_pulse_CW.name\n",
    "        sequencegeneratorlogic.save_ensemble(ensemble)\n",
    "        ret,_,_ = sequencegeneratorlogic.sample_pulse_block_ensemble(ensemblename)\n",
    "        sequencegeneratorlogic.load_ensemble(ensemblename)\n",
    "        return ret\n",
    "\n",
    "    def xy8(self, tau_start, tau_step, step_number, order, pi_half_pulse, pi_three_half_pulse, pi_pulse, alternating):\n",
    "        pulsedmasterlogic.set_ext_microwave_settings(use_ext_microwave=False)\n",
    "\n",
    "        err = self.upload_xy8_ensemble(tau_start, tau_step, step_number, order, pi_half_pulse, pi_three_half_pulse, pi_pulse, alternating, self.make_xy8_pulse_block)\n",
    "        \n",
    "        tau_list = np.linspace(tau_start*1e9*8*order, tau_start*1e9*8*order+tau_step*1e9*8*(step_number-1)*order, step_number)*1e-9\n",
    "        \n",
    "        if alternating:\n",
    "            laser_number = 2*step_number\n",
    "        else:\n",
    "            laser_number = step_number\n",
    "        \n",
    "        pulsedmasterlogic.set_measurement_settings(invoke_settings=False, \n",
    "                                                controlled_variable=tau_list,\n",
    "                                                number_of_lasers=laser_number, \n",
    "                                                laser_ignore_list=[], \n",
    "                                                alternating=alternating, \n",
    "                                                units=('s', 'arb. u.'))\n",
    "        time.sleep(0.5)\n",
    "        pulsedmasterlogic.set_alternative_data_type('Delta')\n",
    "        time.sleep(0.5)\n",
    "        \n",
    "    def make_coupling_pulse_block(self, tau0, step_number, freq2, pi_half_a, pi_a, pi_three_half_a, pi_b, alternating):\n",
    "        ele = []\n",
    "        tau_step = (tau0-pi_b*10e-9-20e-9)/(step_number-1)\n",
    "        d_ch = {'d_ch1': False, 'd_ch2': False, 'd_ch4': False, 'd_ch3': False, 'd_ch5': True, 'd_ch6': False, 'd_ch7': False, 'd_ch8': False}\n",
    "        ele.append(po.PulseBlockElement(init_length_s=10*1e-9, increment_s=0, pulse_function=None, digital_high=d_ch, laser_on=False))    \n",
    "    \n",
    "        d_ch = {'d_ch1': False, 'd_ch2': False, 'd_ch4': False, 'd_ch3': True, 'd_ch5': False, 'd_ch6': False, 'd_ch7': False, 'd_ch8': False}\n",
    "        ele.append(po.PulseBlockElement(init_length_s=pi_half_a*1e-9, increment_s=0, pulse_function=None, digital_high=d_ch, laser_on=False))\n",
    "        \n",
    "        d_ch = {'d_ch1': False, 'd_ch2': False, 'd_ch4': False, 'd_ch3': False, 'd_ch5': False, 'd_ch6': False, 'd_ch7': False, 'd_ch8': False}\n",
    "        ele.append(po.PulseBlockElement(init_length_s=tau0, increment_s=0, pulse_function=None, digital_high=d_ch, laser_on=False))\n",
    "        \n",
    "        d_ch = {'d_ch1': False, 'd_ch2': False, 'd_ch4': False, 'd_ch3': True, 'd_ch5': False, 'd_ch6': False, 'd_ch7': False, 'd_ch8': False}\n",
    "        ele.append(po.PulseBlockElement(init_length_s=pi_a*1e-9, increment_s=0, pulse_function=None, digital_high=d_ch, laser_on=False))\n",
    "        \n",
    "        d_ch = {'d_ch1': False, 'd_ch2': False, 'd_ch4': False, 'd_ch3': False, 'd_ch5': False, 'd_ch6': False, 'd_ch7': False, 'd_ch8': False}\n",
    "        ele.append(po.PulseBlockElement(init_length_s=10e-9, increment_s=tau_step, pulse_function=None, digital_high=d_ch, laser_on=False))\n",
    "        \n",
    "        d_ch = {'d_ch1': False, 'd_ch2': False, 'd_ch4': False, 'd_ch3': True, 'd_ch5': False, 'd_ch6': False, 'd_ch7': False, 'd_ch8': False}\n",
    "        ele.append(po.PulseBlockElement(init_length_s=pi_b*1e-9, increment_s=0, pulse_function=None, digital_high=d_ch, laser_on=False))\n",
    "        \n",
    "        d_ch = {'d_ch1': False, 'd_ch2': False, 'd_ch4': False, 'd_ch3': False, 'd_ch5': False, 'd_ch6': False, 'd_ch7': False, 'd_ch8': False}\n",
    "        ele.append(po.PulseBlockElement(init_length_s=tau0-10e-9, increment_s=-tau_step, pulse_function=None, digital_high=d_ch, laser_on=False))\n",
    "        \n",
    "        d_ch = {'d_ch1': False, 'd_ch2': False, 'd_ch4': False, 'd_ch3': True, 'd_ch5': False, 'd_ch6': False, 'd_ch7': False, 'd_ch8': False}\n",
    "        ele.append(po.PulseBlockElement(init_length_s=pi_half_a*1e-9, increment_s=0, pulse_function=None, digital_high=d_ch, laser_on=False))\n",
    "            \n",
    "        d_ch = {'d_ch1': False, 'd_ch2': False, 'd_ch4': False, 'd_ch3': False, 'd_ch5': False, 'd_ch6': False, 'd_ch7': False, 'd_ch8': False}\n",
    "        ele.append(po.PulseBlockElement(init_length_s=self.awg_sync_pause, increment_s=0, pulse_function=None, digital_high=d_ch, laser_on=False))\n",
    "\n",
    "        d_ch = {'d_ch1': True, 'd_ch2': True, 'd_ch4': False, 'd_ch3': False, 'd_ch5': False, 'd_ch6': False, 'd_ch7': False, 'd_ch8': False}\n",
    "        ele.append(po.PulseBlockElement(init_length_s=self.laser_on, increment_s=0, pulse_function=None, digital_high=d_ch, laser_on=True))\n",
    "\n",
    "        d_ch = {'d_ch1': False, 'd_ch2': True, 'd_ch4': False, 'd_ch3': False, 'd_ch5': False, 'd_ch6': False, 'd_ch7': False, 'd_ch8': False}\n",
    "        ele.append(po.PulseBlockElement(init_length_s=self.counter_off, increment_s=0, pulse_function=None, digital_high=d_ch, laser_on=False))\n",
    "\n",
    "        d_ch = {'d_ch1': False, 'd_ch2': False, 'd_ch4': False, 'd_ch3': False, 'd_ch5': False, 'd_ch6': False, 'd_ch7': False, 'd_ch8': False}\n",
    "        ele.append(po.PulseBlockElement(init_length_s=self.relaxation_pause, increment_s=0, pulse_function=None, digital_high=d_ch, laser_on=False))\n",
    "        \n",
    "        if alternating:\n",
    "            \n",
    "            d_ch = {'d_ch1': False, 'd_ch2': False, 'd_ch4': False, 'd_ch3': False, 'd_ch5': True, 'd_ch6': False, 'd_ch7': False, 'd_ch8': False}\n",
    "            ele.append(po.PulseBlockElement(init_length_s=10*1e-9, increment_s=0, pulse_function=None, digital_high=d_ch, laser_on=False))    \n",
    "\n",
    "            d_ch = {'d_ch1': False, 'd_ch2': False, 'd_ch4': False, 'd_ch3': True, 'd_ch5': False, 'd_ch6': False, 'd_ch7': False, 'd_ch8': False}\n",
    "            ele.append(po.PulseBlockElement(init_length_s=pi_half_a*1e-9, increment_s=0, pulse_function=None, digital_high=d_ch, laser_on=False))\n",
    "\n",
    "            d_ch = {'d_ch1': False, 'd_ch2': False, 'd_ch4': False, 'd_ch3': False, 'd_ch5': False, 'd_ch6': False, 'd_ch7': False, 'd_ch8': False}\n",
    "            ele.append(po.PulseBlockElement(init_length_s=tau0, increment_s=0, pulse_function=None, digital_high=d_ch, laser_on=False))\n",
    "\n",
    "            d_ch = {'d_ch1': False, 'd_ch2': False, 'd_ch4': False, 'd_ch3': True, 'd_ch5': False, 'd_ch6': False, 'd_ch7': False, 'd_ch8': False}\n",
    "            ele.append(po.PulseBlockElement(init_length_s=pi_a*1e-9, increment_s=0, pulse_function=None, digital_high=d_ch, laser_on=False))\n",
    "\n",
    "            d_ch = {'d_ch1': False, 'd_ch2': False, 'd_ch4': False, 'd_ch3': False, 'd_ch5': False, 'd_ch6': False, 'd_ch7': False, 'd_ch8': False}\n",
    "            ele.append(po.PulseBlockElement(init_length_s=10e-9, increment_s=tau_step, pulse_function=None, digital_high=d_ch, laser_on=False))\n",
    "\n",
    "            d_ch = {'d_ch1': False, 'd_ch2': False, 'd_ch4': False, 'd_ch3': True, 'd_ch5': False, 'd_ch6': False, 'd_ch7': False, 'd_ch8': False}\n",
    "            ele.append(po.PulseBlockElement(init_length_s=pi_b*1e-9, increment_s=0, pulse_function=None, digital_high=d_ch, laser_on=False))\n",
    "\n",
    "            d_ch = {'d_ch1': False, 'd_ch2': False, 'd_ch4': False, 'd_ch3': False, 'd_ch5': False, 'd_ch6': False, 'd_ch7': False, 'd_ch8': False}\n",
    "            ele.append(po.PulseBlockElement(init_length_s=tau0-10e-9, increment_s=-tau_step, pulse_function=None, digital_high=d_ch, laser_on=False))\n",
    "\n",
    "            d_ch = {'d_ch1': False, 'd_ch2': False, 'd_ch4': False, 'd_ch3': True, 'd_ch5': False, 'd_ch6': False, 'd_ch7': False, 'd_ch8': False}\n",
    "            ele.append(po.PulseBlockElement(init_length_s=pi_three_half_a*1e-9, increment_s=0, pulse_function=None, digital_high=d_ch, laser_on=False))\n",
    "\n",
    "            d_ch = {'d_ch1': False, 'd_ch2': False, 'd_ch4': False, 'd_ch3': False, 'd_ch5': False, 'd_ch6': False, 'd_ch7': False, 'd_ch8': False}\n",
    "            ele.append(po.PulseBlockElement(init_length_s=self.awg_sync_pause, increment_s=0, pulse_function=None, digital_high=d_ch, laser_on=False))\n",
    "\n",
    "            d_ch = {'d_ch1': True, 'd_ch2': True, 'd_ch4': False, 'd_ch3': False, 'd_ch5': False, 'd_ch6': False, 'd_ch7': False, 'd_ch8': False}\n",
    "            ele.append(po.PulseBlockElement(init_length_s=self.laser_on, increment_s=0, pulse_function=None, digital_high=d_ch, laser_on=True))\n",
    "\n",
    "            d_ch = {'d_ch1': False, 'd_ch2': True, 'd_ch4': False, 'd_ch3': False, 'd_ch5': False, 'd_ch6': False, 'd_ch7': False, 'd_ch8': False}\n",
    "            ele.append(po.PulseBlockElement(init_length_s=self.counter_off, increment_s=0, pulse_function=None, digital_high=d_ch, laser_on=False))\n",
    "\n",
    "            d_ch = {'d_ch1': False, 'd_ch2': False, 'd_ch4': False, 'd_ch3': False, 'd_ch5': False, 'd_ch6': False, 'd_ch7': False, 'd_ch8': False}\n",
    "            ele.append(po.PulseBlockElement(init_length_s=self.relaxation_pause, increment_s=0, pulse_function=None, digital_high=d_ch, laser_on=False))\n",
    "            \n",
    "        pulse_block = po.PulseBlock(name=f'coupling_qudi', element_list=ele)\n",
    "        \n",
    "        return pulse_block\n",
    "\n",
    "    def upload_coupling_ensemble(self, tau0, step_number, freq2, pi_half_a, pi_a, pi_three_half_a, pi_b, alternating, pulse_fnt):\n",
    "        pulse = pulse_fnt(tau0, step_number, freq2, pi_half_a, pi_a, pi_three_half_a, pi_b, alternating)\n",
    "        sequencegeneratorlogic.save_block(pulse)\n",
    "\n",
    "        bl = [(pulse.name,step_number-1)]\n",
    "        auto_pulse_CW = po.PulseBlockEnsemble(name=f'coupling_qudi', block_list=bl, rotating_frame=False)\n",
    "\n",
    "        ensemble = auto_pulse_CW\n",
    "        ensemblename = auto_pulse_CW.name\n",
    "        sequencegeneratorlogic.save_ensemble(ensemble)\n",
    "        ret,_,_ = sequencegeneratorlogic.sample_pulse_block_ensemble(ensemblename)\n",
    "        sequencegeneratorlogic.load_ensemble(ensemblename)\n",
    "        return ret\n",
    "\n",
    "    def coupling(self, tau0, step_number, freq2, pi_half_a, pi_a, pi_three_half_a, pi_b, alternating):\n",
    "        pulsedmasterlogic.set_ext_microwave_settings(use_ext_microwave=False)\n",
    "\n",
    "        err = self.upload_coupling_ensemble(tau0, step_number, freq2, pi_half_a, pi_a, pi_three_half_a, pi_b, alternating, self.make_coupling_pulse_block)\n",
    "\n",
    "        \n",
    "        tau_list = np.linspace(10, tau0*1e9-20-pi_b, step_number)*1e-9\n",
    "        \n",
    "        if alternating:\n",
    "            laser_number = 2*step_number\n",
    "        else:\n",
    "            laser_number = step_number\n",
    "        \n",
    "        pulsedmasterlogic.set_measurement_settings(invoke_settings=False, \n",
    "                                                controlled_variable=tau_list,\n",
    "                                                number_of_lasers=laser_number, \n",
    "                                                laser_ignore_list=[], \n",
    "                                                alternating=alternating, \n",
    "                                                units=('s', 'arb. u.'))\n",
    "        time.sleep(0.5)\n",
    "        pulsedmasterlogic.set_alternative_data_type('Delta')\n",
    "        time.sleep(0.5)\n",
    "        \n",
    "    def make_T1_pulse_block(self, tau_start, tau_step, step_number, pi_pulse, alternating):\n",
    "        ele = []\n",
    "        \n",
    "        d_ch = {'d_ch1': False, 'd_ch2': False, 'd_ch4': False, 'd_ch3': False, 'd_ch5': True, 'd_ch6': False, 'd_ch7': False, 'd_ch8': False}\n",
    "        ele.append(po.PulseBlockElement(init_length_s=10*1e-9, increment_s=0, pulse_function=None, digital_high=d_ch, laser_on=False))    \n",
    "    \n",
    "        d_ch = {'d_ch1': False, 'd_ch2': False, 'd_ch4': False, 'd_ch3': False, 'd_ch5': False, 'd_ch6': False, 'd_ch7': False, 'd_ch8': False}\n",
    "        ele.append(po.PulseBlockElement(init_length_s=tau_start, increment_s=tau_step, pulse_function=None, digital_high=d_ch, laser_on=False))\n",
    "            \n",
    "        d_ch = {'d_ch1': False, 'd_ch2': False, 'd_ch4': False, 'd_ch3': False, 'd_ch5': False, 'd_ch6': False, 'd_ch7': False, 'd_ch8': False}\n",
    "        ele.append(po.PulseBlockElement(init_length_s=self.awg_sync_pause, increment_s=0, pulse_function=None, digital_high=d_ch, laser_on=False))\n",
    "\n",
    "        d_ch = {'d_ch1': True, 'd_ch2': True, 'd_ch4': False, 'd_ch3': False, 'd_ch5': False, 'd_ch6': False, 'd_ch7': False, 'd_ch8': False}\n",
    "        ele.append(po.PulseBlockElement(init_length_s=self.laser_on, increment_s=0, pulse_function=None, digital_high=d_ch, laser_on=False))\n",
    "\n",
    "        d_ch = {'d_ch1': False, 'd_ch2': True, 'd_ch4': False, 'd_ch3': False, 'd_ch5': False, 'd_ch6': False, 'd_ch7': False, 'd_ch8': False}\n",
    "        ele.append(po.PulseBlockElement(init_length_s=self.counter_off, increment_s=0, pulse_function=None, digital_high=d_ch, laser_on=False))\n",
    "\n",
    "        d_ch = {'d_ch1': False, 'd_ch2': False, 'd_ch4': False, 'd_ch3': False, 'd_ch5': False, 'd_ch6': False, 'd_ch7': False, 'd_ch8': False}\n",
    "        ele.append(po.PulseBlockElement(init_length_s=self.relaxation_pause, increment_s=0, pulse_function=None, digital_high=d_ch, laser_on=False))\n",
    "        \n",
    "        if alternating:\n",
    "            \n",
    "            d_ch = {'d_ch1': False, 'd_ch2': False, 'd_ch4': False, 'd_ch3': True, 'd_ch5': False, 'd_ch6': False, 'd_ch7': False, 'd_ch8': False}\n",
    "            ele.append(po.PulseBlockElement(init_length_s=pi_pulse*1e-9, increment_s=0, pulse_function=None, digital_high=d_ch, laser_on=False))\n",
    "            \n",
    "            d_ch = {'d_ch1': False, 'd_ch2': False, 'd_ch4': False, 'd_ch3': False, 'd_ch5': False, 'd_ch6': False, 'd_ch7': False, 'd_ch8': False}\n",
    "            ele.append(po.PulseBlockElement(init_length_s=tau_start, increment_s=tau_step, pulse_function=None, digital_high=d_ch, laser_on=False))\n",
    "\n",
    "            d_ch = {'d_ch1': False, 'd_ch2': False, 'd_ch4': False, 'd_ch3': False, 'd_ch5': False, 'd_ch6': False, 'd_ch7': False, 'd_ch8': False}\n",
    "            ele.append(po.PulseBlockElement(init_length_s=self.awg_sync_pause, increment_s=0, pulse_function=None, digital_high=d_ch, laser_on=False))\n",
    "\n",
    "            d_ch = {'d_ch1': True, 'd_ch2': True, 'd_ch4': False, 'd_ch3': False, 'd_ch5': False, 'd_ch6': False, 'd_ch7': False, 'd_ch8': False}\n",
    "            ele.append(po.PulseBlockElement(init_length_s=self.laser_on, increment_s=0, pulse_function=None, digital_high=d_ch, laser_on=False))\n",
    "\n",
    "            d_ch = {'d_ch1': False, 'd_ch2': True, 'd_ch4': False, 'd_ch3': False, 'd_ch5': False, 'd_ch6': False, 'd_ch7': False, 'd_ch8': False}\n",
    "            ele.append(po.PulseBlockElement(init_length_s=self.counter_off, increment_s=0, pulse_function=None, digital_high=d_ch, laser_on=False))\n",
    "\n",
    "            d_ch = {'d_ch1': False, 'd_ch2': False, 'd_ch4': False, 'd_ch3': False, 'd_ch5': False, 'd_ch6': False, 'd_ch7': False, 'd_ch8': False}\n",
    "            ele.append(po.PulseBlockElement(init_length_s=self.relaxation_pause, increment_s=0, pulse_function=None, digital_high=d_ch, laser_on=False))\n",
    "        \n",
    "        pulse_block = po.PulseBlock(name=f'T1_qudi', element_list=ele)\n",
    "        \n",
    "        return pulse_block\n",
    "\n",
    "    def upload_T1_ensemble(self, tau_start, tau_step, step_number, pi_pulse, alternating, pulse_fnt):\n",
    "        pulse = pulse_fnt(tau_start, tau_step, step_number, pi_pulse, alternating)\n",
    "        sequencegeneratorlogic.save_block(pulse)\n",
    "\n",
    "        bl = [(pulse.name,step_number-1)]\n",
    "        auto_pulse_CW = po.PulseBlockEnsemble(name=f'T1_qudi', block_list=bl, rotating_frame=False)\n",
    "\n",
    "        ensemble = auto_pulse_CW\n",
    "        ensemblename = auto_pulse_CW.name\n",
    "        sequencegeneratorlogic.save_ensemble(ensemble)\n",
    "        ret,_,_ = sequencegeneratorlogic.sample_pulse_block_ensemble(ensemblename)\n",
    "        sequencegeneratorlogic.load_ensemble(ensemblename)\n",
    "        return ret\n",
    "\n",
    "    def T1(self, tau_start, tau_step, step_number, pi_pulse, alternating):\n",
    "        pulsedmasterlogic.set_ext_microwave_settings(use_ext_microwave=False)\n",
    "\n",
    "        err = self.upload_T1_ensemble(tau_start, tau_step, step_number, pi_pulse, alternating, self.make_T1_pulse_block)\n",
    "        tau_list = np.linspace(tau_start*1e9, tau_start*1e9 + (step_number-1)*tau_step*1e9, step_number)*1e-9\n",
    "        if alternating:\n",
    "            laser_number = 2*step_number\n",
    "        else:\n",
    "            laser_number = step_number\n",
    "        \n",
    "        pulsedmasterlogic.set_measurement_settings(invoke_settings=False, \n",
    "                                                controlled_variable=tau_list,\n",
    "                                                number_of_lasers=laser_number, \n",
    "                                                laser_ignore_list=[], \n",
    "                                                alternating=alternating, \n",
    "                                                units=('s', 'arb. u.'))\n",
    "        time.sleep(0.5)\n",
    "        pulsedmasterlogic.set_alternative_data_type('Delta')\n",
    "        time.sleep(0.5)"
   ]
  },
  {
   "cell_type": "code",
   "execution_count": 476,
   "metadata": {},
   "outputs": [],
   "source": [
    "def rabi_measurement(tau, tau_step, step_number, amp=1):\n",
    "    rabi_form = wav.rabi(tau, tau_step, step_number)\n",
    "    awg.create_upload_waveform(np.array(rabi_form), channel=1, amp=amp)   \n",
    "    awg.output_on()\n",
    "    qudi.rabi(tau, tau_step, step_number)\n",
    "    return rabi_form"
   ]
  },
  {
   "cell_type": "code",
   "execution_count": 477,
   "metadata": {},
   "outputs": [],
   "source": [
    "def pulsed_ODMR(freq_start, freq_stop, freq_step, pi_pulse, amp=1):\n",
    "    pulsed_form = wav.pulsed_ODMR(freq_start, freq_stop, freq_step, pi_pulse)\n",
    "    awg.create_upload_waveform(np.array(pulsed_form), channel=1, amp=amp)\n",
    "    awg.output_on()\n",
    "    qudi.pulsed_ODMR(freq_start, freq_stop, freq_step, pi_pulse)\n",
    "    return pulsed_form"
   ]
  },
  {
   "cell_type": "code",
   "execution_count": 478,
   "metadata": {},
   "outputs": [],
   "source": [
    "def T2_star(tau_start, tau_step, step_number, pi_half_pulse, pi_three_half_pulse, alternating):\n",
    "    FID_form = wav.free_induction_decay(tau_start, tau_step, step_number, pi_half_pulse, pi_three_half_pulse, alternating)\n",
    "    awg.create_upload_waveform(np.array(FID_form), channel=1)\n",
    "    awg.output_on()\n",
    "    qudi.FID(tau_start, tau_step, step_number, pi_half_pulse, pi_three_half_pulse, alternating)\n",
    "    return FID_form"
   ]
  },
  {
   "cell_type": "code",
   "execution_count": 479,
   "metadata": {},
   "outputs": [],
   "source": [
    "def T2(tau_start, tau_step, step_number, pi_half_pulse, pi_pulse, pi_three_half_pulse, alternating):\n",
    "    awg.create_upload_waveform(np.array(wav.hahn_echo(tau_start, tau_step, step_number, pi_half_pulse, pi_pulse, pi_three_half_pulse, alternating)), channel=1)\n",
    "    awg.output_on()\n",
    "    qudi.hahn_echo(tau_start, tau_step, step_number, pi_half_pulse, pi_pulse, pi_three_half_pulse, alternating)"
   ]
  },
  {
   "cell_type": "code",
   "execution_count": 480,
   "metadata": {},
   "outputs": [],
   "source": [
    "def pi_pulse_test(pi_pulse, num_pulses, pulse_type='square', pi_square = None):\n",
    "    \n",
    "    pi_pulse_test_form = wav.pi_pulse_test(pi_pulse, num_pulses, pulse_type, pi_square = pi_square)\n",
    "    awg.create_upload_waveform(np.array(pi_pulse_test_form), channel=1)\n",
    "    awg.output_on()\n",
    "    \n",
    "    samples = wav.sampling_rate/1e9\n",
    "    psi = wav._psi_corpse(pi_pulse, np.pi)\n",
    "    \n",
    "    if pi_square is None:\n",
    "            pi_square = pi_pulse\n",
    "            \n",
    "    def round_awg(val):\n",
    "        return (round(samples*val))/samples\n",
    "    \n",
    "    if pulse_type == 'BB1':\n",
    "        pi_pulse = 4*pi_square + pi_pulse + 15\n",
    "    elif pulse_type =='CORPSE':\n",
    "        pi_pulse = round_awg(pi_pulse/2 -psi) + round_awg(2*pi_pulse-2*psi) + round_awg(pi_pulse/2 -psi)+10\n",
    "    elif pulse_type == 'CORinBB':\n",
    "        pi_pulse = pi_pulse + 2*pi_pulse + pi_pulse + round_awg(2*pi_pulse + pi_pulse/2 -psi) + round_awg(2*pi_pulse - 2*psi) + round_awg(pi_pulse/2 - psi) + 25\n",
    "    elif pulse_type == 'knill':\n",
    "        pi_pulse = 5*pi_pulse + 20\n",
    "        \n",
    "    qudi.pi_pulse_test(pi_pulse, num_pulses)\n",
    "    return pi_pulse_test_form"
   ]
  },
  {
   "cell_type": "code",
   "execution_count": null,
   "metadata": {},
   "outputs": [],
   "source": [
    "def round_awg(val):\n",
    "        return (round(samples*val))/samples\n",
    "\n",
    "round_awg(pi/2 -psi) + round_awg(2*pi-2*psi) + round_awg(pi/2 -psi)+10"
   ]
  },
  {
   "cell_type": "code",
   "execution_count": 384,
   "metadata": {},
   "outputs": [],
   "source": [
    "def coupling(tau0, step_number, freq2, pi_half_a, pi_a, pi_three_half_a, pi_b, alternating):\n",
    "    coupling_form = wav.coupling(tau0, step_number, freq2, pi_half_a, pi_a, pi_three_half_a, pi_b, alternating)\n",
    "    awg.create_upload_waveform(np.array(coupling_form))\n",
    "    awg.output_on()\n",
    "    qudi.coupling(tau0, step_number, freq2, pi_half_a, pi_a, pi_three_half_a, pi_b, alternating)\n",
    "    return coupling_form"
   ]
  },
  {
   "cell_type": "code",
   "execution_count": 309,
   "metadata": {},
   "outputs": [],
   "source": [
    "def xy8(tau_start, tau_step, step_number, order, pi_half_pulse, pi_three_half_pulse, pi_pulse, alternating, pulse_type = 'square'):\n",
    "    awg.create_upload_waveform(np.array(wav.xy8(tau_start, tau_step, step_number, order, pi_half_pulse, pi_three_half_pulse, pi_pulse, alternating, pulse_type)))\n",
    "    awg.output_on()\n",
    "    if pulse_type == 'BB1':\n",
    "        N = 5\n",
    "        B = 15\n",
    "    elif pulse_type =='CORPSE':\n",
    "        N = 7/3\n",
    "        B = 10\n",
    "    elif pulse_type == 'CORinBB':\n",
    "        N = 25/3\n",
    "        B = 26\n",
    "    elif pulse_type == 'knill':\n",
    "        N = 5\n",
    "        B = 20\n",
    "    else:\n",
    "        N = 1\n",
    "        B = 0\n",
    "    qudi.xy8(tau_start, tau_step, step_number, order, pi_half_pulse, pi_three_half_pulse, N*pi_pulse+B, alternating)"
   ]
  },
  {
   "cell_type": "code",
   "execution_count": 15,
   "metadata": {},
   "outputs": [],
   "source": [
    "def T1(tau_start, tau_step, step_number, pi_pulse, alternating):\n",
    "    awg.create_upload_waveform(np.array(wav.T1(tau_start, tau_step, step_number, pi_pulse, alternating)))\n",
    "    awg.output_on()\n",
    "    qudi.T1(tau_start, tau_step, step_number, pi_pulse, alternating)"
   ]
  },
  {
   "cell_type": "code",
   "execution_count": 495,
   "metadata": {},
   "outputs": [],
   "source": [
    "wav = waveforms97.waveforms(12e9, 2.772730e9, 12050) #sampling rate, waveform freq, laser pause [ns]\n",
    "#wav = waveforms46.waveforms(12e9, 500e6, 11050)\n",
    "qudi = qudi_pulsed_measurements()"
   ]
  },
  {
   "cell_type": "code",
   "execution_count": 17,
   "metadata": {},
   "outputs": [
    {
     "name": "stdout",
     "output_type": "stream",
     "text": [
      "Agilent Technologies,M8190A,MY60901825,5.7.0.0-2\n"
     ]
    }
   ],
   "source": [
    "awg = awg8190a_backend36.AWG(12) #sampling rate [GHz]"
   ]
  },
  {
   "cell_type": "code",
   "execution_count": 13,
   "metadata": {},
   "outputs": [
    {
     "name": "stdout",
     "output_type": "stream",
     "text": [
      "5.00000000000000E-01\n"
     ]
    }
   ],
   "source": [
    "awg.set_amplitude(0.499999999999999999999987)"
   ]
  },
  {
   "cell_type": "code",
   "execution_count": null,
   "metadata": {},
   "outputs": [],
   "source": [
    "awg.get_amplitude()"
   ]
  },
  {
   "cell_type": "markdown",
   "metadata": {},
   "source": [
    "## Rabi"
   ]
  },
  {
   "cell_type": "code",
   "execution_count": 47,
   "metadata": {},
   "outputs": [
    {
     "name": "stdout",
     "output_type": "stream",
     "text": [
      "Agilent Technologies,M8190A,MY60901825,5.7.0.0-2\n"
     ]
    }
   ],
   "source": [
    "awg = awg8190a_backend36.AWG(12)\n",
    "awg.write('DC:VOLT:AMPL 0.5')\n",
    "rabi_form = rabi_measurement(1e-9, 1e-9, 60, amp=1)\n",
    "pulsedmeasurementlogic.start_pulsed_measurement()"
   ]
  },
  {
   "cell_type": "code",
   "execution_count": 438,
   "metadata": {},
   "outputs": [],
   "source": [
    "end_time =2*60*60\n",
    "save_time =2*60*60\n",
    "opt_time = 10*60\n",
    "\n",
    "poi = 'site_3_10_4'\n",
    "sequence_name = 'rabi'\n",
    "fit = 'sineexp'\n",
    "frequency_power_MW = '2772600KHz_0p5amp_long'\n",
    "\n",
    "pulsedmeasurementlogic.continue_pulsed_measurement()\n",
    "time_end = time.monotonic()\n",
    "while (time.monotonic() - time_end) < end_time:\n",
    "    os.system('cmd /c \"shutdown -a\"')\n",
    "    time60 = time.monotonic()\n",
    "    while (time.monotonic() - time60) < save_time:\n",
    "        time10 = time.monotonic()\n",
    "        while (time.monotonic() - time10) < opt_time:\n",
    "            if pulsedmeasurementlogic.module_state() == 'idle':\n",
    "                break\n",
    "            pulsedmasterlogic.do_fit(fit, False)\n",
    "            time.sleep(2)\n",
    "        pulsedmeasurementlogic.pause_pulsed_measurement()\n",
    "        if pulsedmeasurementlogic.module_state() == 'idle':\n",
    "                break\n",
    "        time.sleep(5)\n",
    "        optimize()\n",
    "        pulsedmeasurementlogic.continue_pulsed_measurement()\n",
    "    pml.save_measurement_data(tag=f'{sequence_name}_{poi}_{frequency_power_MW}_{i}')\n",
    "    if pulsedmeasurementlogic.module_state() == 'idle':\n",
    "                break\n",
    "pulsedmeasurementlogic.pause_pulsed_measurement()"
   ]
  },
  {
   "cell_type": "markdown",
   "metadata": {},
   "source": [
    "## PODMR"
   ]
  },
  {
   "cell_type": "code",
   "execution_count": 272,
   "metadata": {},
   "outputs": [
    {
     "name": "stdout",
     "output_type": "stream",
     "text": [
      "Agilent Technologies,M8190A,MY60901825,5.7.0.0-2\n"
     ]
    }
   ],
   "source": [
    "awg = awg8190a_backend36.AWG(12)\n",
    "awg.write('DC:VOLT:AMPL 0.15')\n",
    "pulsed_odmr_form = pulsed_ODMR(2762e6, 2782e6, 0.2e6, 475, amp=0.135)\n",
    "pulsedmeasurementlogic.start_pulsed_measurement()"
   ]
  },
  {
   "cell_type": "code",
   "execution_count": 274,
   "metadata": {},
   "outputs": [],
   "source": [
    "end_time =20*60\n",
    "save_time =20*60\n",
    "opt_time = 10*60\n",
    "\n",
    "poi = 'site_3_10_4'\n",
    "sequence_name = 'PODMR_AWG'\n",
    "fit = 'N14'\n",
    "frequency_power_MW = '475ns_0p15amp_0p135'\n",
    "\n",
    "for i in range(1):\n",
    "#     awg = awg8190a_backend36.AWG(12)\n",
    "#     awg.write('DC:VOLT:AMPL 0.15')\n",
    "#     pulsed_odmr_form = pulsed_ODMR(2762e6, 2782e6, 0.2e6, 475, amp=0.135)\n",
    "    pulsedmeasurementlogic.continue_pulsed_measurement()\n",
    "    time_end = time.monotonic()\n",
    "    while (time.monotonic() - time_end) < end_time:\n",
    "        os.system('cmd /c \"shutdown -a\"')\n",
    "        time60 = time.monotonic()\n",
    "        while (time.monotonic() - time60) < save_time:\n",
    "            time10 = time.monotonic()\n",
    "            while (time.monotonic() - time10) < opt_time:\n",
    "                if pulsedmeasurementlogic.module_state() == 'idle':\n",
    "                    break\n",
    "                pulsedmasterlogic.do_fit(fit, False)\n",
    "                time.sleep(2)\n",
    "            pulsedmeasurementlogic.pause_pulsed_measurement()\n",
    "            if pulsedmeasurementlogic.module_state() == 'idle':\n",
    "                    break\n",
    "            time.sleep(5)\n",
    "            optimize()\n",
    "            pulsedmeasurementlogic.continue_pulsed_measurement()\n",
    "        pml.save_measurement_data(tag=f'{sequence_name}_{poi}_{frequency_power_MW}_{i}')\n",
    "        if pulsedmeasurementlogic.module_state() == 'idle':\n",
    "                    break\n",
    "    pulsedmeasurementlogic.pause_pulsed_measurement()"
   ]
  },
  {
   "cell_type": "markdown",
   "metadata": {},
   "source": [
    "## Ramsey"
   ]
  },
  {
   "cell_type": "code",
   "execution_count": 45,
   "metadata": {},
   "outputs": [
    {
     "name": "stdout",
     "output_type": "stream",
     "text": [
      "Agilent Technologies,M8190A,MY60901825,5.7.0.0-2\n"
     ]
    }
   ],
   "source": [
    "awg = awg8190a_backend36.AWG(12)\n",
    "awg.write('DC:VOLT:AMPL 0.5')\n",
    "FID_form = T2_star(10e-9, 50e-9, 75, 20.5/2, 3/2*20.5, True)\n",
    "pulsedmeasurementlogic.start_pulsed_measurement()"
   ]
  },
  {
   "cell_type": "markdown",
   "metadata": {},
   "source": [
    "## Pi pulse test"
   ]
  },
  {
   "cell_type": "code",
   "execution_count": 499,
   "metadata": {},
   "outputs": [
    {
     "name": "stdout",
     "output_type": "stream",
     "text": [
      "Agilent Technologies,M8190A,MY60901825,5.7.0.0-2\n",
      "pi pulse: 21.25\n"
     ]
    }
   ],
   "source": [
    "awg = awg8190a_backend36.AWG(12)\n",
    "awg.write('DC:VOLT:AMPL 0.5')\n",
    "pi_pulse_test_form = pi_pulse_test(21.25, 30, pulse_type='BB1', pi_square = 20.25)\n",
    "pulsedmeasurementlogic.start_pulsed_measurement()"
   ]
  },
  {
   "cell_type": "code",
   "execution_count": 283,
   "metadata": {},
   "outputs": [],
   "source": [
    "for i in range(5):\n",
    "    time.sleep(60)\n",
    "    optimize()"
   ]
  },
  {
   "cell_type": "code",
   "execution_count": 180,
   "metadata": {},
   "outputs": [
    {
     "data": {
      "text/plain": [
       "array([19.5       , 19.58333333, 19.66666667, 19.75      , 19.83333333,\n",
       "       19.91666667, 20.        , 20.08333333, 20.16666667, 20.25      ,\n",
       "       20.33333333, 20.41666667, 20.5       ])"
      ]
     },
     "execution_count": 180,
     "metadata": {},
     "output_type": "execute_result"
    }
   ],
   "source": [
    "pi_start = 19.5\n",
    "pi_finish =20.5\n",
    "np.linspace(pi_start,pi_finish,(pi_finish-pi_start)*12+1)[::]"
   ]
  },
  {
   "cell_type": "code",
   "execution_count": 496,
   "metadata": {},
   "outputs": [
    {
     "name": "stdout",
     "output_type": "stream",
     "text": [
      "Agilent Technologies,M8190A,MY60901825,5.7.0.0-2\n",
      "pi pulse: 20.0\n",
      "Agilent Technologies,M8190A,MY60901825,5.7.0.0-2\n",
      "pi pulse: 20.083333333333332\n",
      "Agilent Technologies,M8190A,MY60901825,5.7.0.0-2\n",
      "pi pulse: 20.166666666666668\n",
      "Agilent Technologies,M8190A,MY60901825,5.7.0.0-2\n",
      "pi pulse: 20.25\n",
      "Agilent Technologies,M8190A,MY60901825,5.7.0.0-2\n",
      "pi pulse: 20.333333333333332\n",
      "Agilent Technologies,M8190A,MY60901825,5.7.0.0-2\n",
      "pi pulse: 20.416666666666668\n",
      "Agilent Technologies,M8190A,MY60901825,5.7.0.0-2\n",
      "pi pulse: 20.5\n",
      "Agilent Technologies,M8190A,MY60901825,5.7.0.0-2\n",
      "pi pulse: 20.583333333333332\n",
      "Agilent Technologies,M8190A,MY60901825,5.7.0.0-2\n",
      "pi pulse: 20.666666666666668\n",
      "Agilent Technologies,M8190A,MY60901825,5.7.0.0-2\n",
      "pi pulse: 20.75\n",
      "Agilent Technologies,M8190A,MY60901825,5.7.0.0-2\n",
      "pi pulse: 20.833333333333332\n",
      "Agilent Technologies,M8190A,MY60901825,5.7.0.0-2\n",
      "pi pulse: 20.916666666666668\n",
      "Agilent Technologies,M8190A,MY60901825,5.7.0.0-2\n",
      "pi pulse: 21.0\n"
     ]
    }
   ],
   "source": [
    "end_time =8*60\n",
    "save_time =8*60\n",
    "opt_time = 4*60\n",
    "\n",
    "poi = 'site_3_10_4'\n",
    "pulse_type = 'BB1'\n",
    "pi_square = 20.25\n",
    "fit = None\n",
    "amp = 0.5\n",
    "\n",
    "pi_start = 20\n",
    "pi_finish =21\n",
    "pulse_number = 80\n",
    "\n",
    "pi_list = np.linspace(pi_start,pi_finish,(pi_finish-pi_start)*12+1)[::]\n",
    "#pi_list = [20.33333333]\n",
    "\n",
    "\n",
    "for pi in pi_list:\n",
    "    awg = awg8190a_backend36.AWG(12)\n",
    "    awg.write(f'DC:VOLT:AMPL {amp}')\n",
    "    pi_pulse_test_form = pi_pulse_test(pi, pulse_number, pulse_type=pulse_type, pi_square = pi_square)\n",
    "    pulsedmeasurementlogic.start_pulsed_measurement()\n",
    "    time_end = time.monotonic()\n",
    "    while (time.monotonic() - time_end) < end_time:\n",
    "        os.system('cmd /c \"shutdown -a\"')\n",
    "        time60 = time.monotonic()\n",
    "        while (time.monotonic() - time60) < save_time:\n",
    "            time10 = time.monotonic()\n",
    "            while (time.monotonic() - time10) < opt_time:\n",
    "                if pulsedmeasurementlogic.module_state() == 'idle':\n",
    "                    break\n",
    "                pulsedmasterlogic.do_fit(fit, False)\n",
    "                time.sleep(10)\n",
    "            if pulsedmeasurementlogic.module_state() == 'idle':\n",
    "                    break\n",
    "            pulsedmeasurementlogic.pause_pulsed_measurement()\n",
    "            time.sleep(5)\n",
    "            optimize()\n",
    "            pulsedmeasurementlogic.continue_pulsed_measurement()        \n",
    "        pml.save_measurement_data(tag=f'pi_pulse_test_{pulse_type}_{poi}_{int(wav.awg_freq*1e-3)}KHz_{amp}amp_{pi}pi_{pi_square}square')\n",
    "        if pulsedmeasurementlogic.module_state() == 'idle':\n",
    "                    break\n",
    "    pulsedmeasurementlogic.stop_pulsed_measurement()\n",
    "for i in range(2):\n",
    "    time.sleep(60)\n",
    "    optimize()"
   ]
  },
  {
   "cell_type": "code",
   "execution_count": 497,
   "metadata": {},
   "outputs": [],
   "source": [
    "for i in range(5):\n",
    "    time.sleep(60)\n",
    "    optimize()"
   ]
  },
  {
   "cell_type": "code",
   "execution_count": 410,
   "metadata": {},
   "outputs": [
    {
     "name": "stdout",
     "output_type": "stream",
     "text": [
      "Agilent Technologies,M8190A,MY60901825,5.7.0.0-2\n",
      "pi pulse: 18.5\n",
      "Agilent Technologies,M8190A,MY60901825,5.7.0.0-2\n",
      "pi pulse: 18.5\n",
      "Agilent Technologies,M8190A,MY60901825,5.7.0.0-2\n",
      "pi pulse: 18.5\n",
      "Agilent Technologies,M8190A,MY60901825,5.7.0.0-2\n",
      "pi pulse: 18.5\n",
      "Agilent Technologies,M8190A,MY60901825,5.7.0.0-2\n",
      "pi pulse: 18.5\n",
      "Agilent Technologies,M8190A,MY60901825,5.7.0.0-2\n",
      "pi pulse: 18.583333333333332\n",
      "Agilent Technologies,M8190A,MY60901825,5.7.0.0-2\n",
      "pi pulse: 18.583333333333332\n",
      "Agilent Technologies,M8190A,MY60901825,5.7.0.0-2\n",
      "pi pulse: 18.583333333333332\n",
      "Agilent Technologies,M8190A,MY60901825,5.7.0.0-2\n",
      "pi pulse: 18.583333333333332\n",
      "Agilent Technologies,M8190A,MY60901825,5.7.0.0-2\n",
      "pi pulse: 18.583333333333332\n",
      "Agilent Technologies,M8190A,MY60901825,5.7.0.0-2\n",
      "pi pulse: 18.666666666666668\n",
      "Agilent Technologies,M8190A,MY60901825,5.7.0.0-2\n",
      "pi pulse: 18.666666666666668\n",
      "Agilent Technologies,M8190A,MY60901825,5.7.0.0-2\n",
      "pi pulse: 18.666666666666668\n",
      "Agilent Technologies,M8190A,MY60901825,5.7.0.0-2\n",
      "pi pulse: 18.666666666666668\n",
      "Agilent Technologies,M8190A,MY60901825,5.7.0.0-2\n",
      "pi pulse: 18.666666666666668\n",
      "Agilent Technologies,M8190A,MY60901825,5.7.0.0-2\n",
      "pi pulse: 18.75\n",
      "Agilent Technologies,M8190A,MY60901825,5.7.0.0-2\n",
      "pi pulse: 18.75\n",
      "Agilent Technologies,M8190A,MY60901825,5.7.0.0-2\n",
      "pi pulse: 18.75\n",
      "Agilent Technologies,M8190A,MY60901825,5.7.0.0-2\n",
      "pi pulse: 18.75\n",
      "Agilent Technologies,M8190A,MY60901825,5.7.0.0-2\n",
      "pi pulse: 18.75\n",
      "Agilent Technologies,M8190A,MY60901825,5.7.0.0-2\n",
      "pi pulse: 18.833333333333332\n",
      "Agilent Technologies,M8190A,MY60901825,5.7.0.0-2\n",
      "pi pulse: 18.833333333333332\n",
      "Agilent Technologies,M8190A,MY60901825,5.7.0.0-2\n",
      "pi pulse: 18.833333333333332\n",
      "Agilent Technologies,M8190A,MY60901825,5.7.0.0-2\n",
      "pi pulse: 18.833333333333332\n",
      "Agilent Technologies,M8190A,MY60901825,5.7.0.0-2\n",
      "pi pulse: 18.833333333333332\n",
      "Agilent Technologies,M8190A,MY60901825,5.7.0.0-2\n",
      "pi pulse: 18.916666666666668\n",
      "Agilent Technologies,M8190A,MY60901825,5.7.0.0-2\n",
      "pi pulse: 18.916666666666668\n",
      "Agilent Technologies,M8190A,MY60901825,5.7.0.0-2\n",
      "pi pulse: 18.916666666666668\n",
      "Agilent Technologies,M8190A,MY60901825,5.7.0.0-2\n",
      "pi pulse: 18.916666666666668\n",
      "Agilent Technologies,M8190A,MY60901825,5.7.0.0-2\n",
      "pi pulse: 18.916666666666668\n",
      "Agilent Technologies,M8190A,MY60901825,5.7.0.0-2\n",
      "pi pulse: 19.0\n",
      "Agilent Technologies,M8190A,MY60901825,5.7.0.0-2\n",
      "pi pulse: 19.0\n",
      "Agilent Technologies,M8190A,MY60901825,5.7.0.0-2\n",
      "pi pulse: 19.0\n",
      "Agilent Technologies,M8190A,MY60901825,5.7.0.0-2\n",
      "pi pulse: 19.0\n",
      "Agilent Technologies,M8190A,MY60901825,5.7.0.0-2\n",
      "pi pulse: 19.0\n",
      "Agilent Technologies,M8190A,MY60901825,5.7.0.0-2\n",
      "pi pulse: 19.083333333333332\n",
      "Agilent Technologies,M8190A,MY60901825,5.7.0.0-2\n",
      "pi pulse: 19.083333333333332\n",
      "Agilent Technologies,M8190A,MY60901825,5.7.0.0-2\n",
      "pi pulse: 19.083333333333332\n",
      "Agilent Technologies,M8190A,MY60901825,5.7.0.0-2\n",
      "pi pulse: 19.083333333333332\n",
      "Agilent Technologies,M8190A,MY60901825,5.7.0.0-2\n",
      "pi pulse: 19.083333333333332\n",
      "Agilent Technologies,M8190A,MY60901825,5.7.0.0-2\n",
      "pi pulse: 19.166666666666668\n",
      "Agilent Technologies,M8190A,MY60901825,5.7.0.0-2\n",
      "pi pulse: 19.166666666666668\n",
      "Agilent Technologies,M8190A,MY60901825,5.7.0.0-2\n",
      "pi pulse: 19.166666666666668\n",
      "Agilent Technologies,M8190A,MY60901825,5.7.0.0-2\n",
      "pi pulse: 19.166666666666668\n",
      "Agilent Technologies,M8190A,MY60901825,5.7.0.0-2\n",
      "pi pulse: 19.166666666666668\n",
      "Agilent Technologies,M8190A,MY60901825,5.7.0.0-2\n",
      "pi pulse: 19.25\n",
      "Agilent Technologies,M8190A,MY60901825,5.7.0.0-2\n",
      "pi pulse: 19.25\n",
      "Agilent Technologies,M8190A,MY60901825,5.7.0.0-2\n",
      "pi pulse: 19.25\n",
      "Agilent Technologies,M8190A,MY60901825,5.7.0.0-2\n",
      "pi pulse: 19.25\n",
      "Agilent Technologies,M8190A,MY60901825,5.7.0.0-2\n",
      "pi pulse: 19.25\n",
      "Agilent Technologies,M8190A,MY60901825,5.7.0.0-2\n",
      "pi pulse: 19.333333333333332\n",
      "Agilent Technologies,M8190A,MY60901825,5.7.0.0-2\n",
      "pi pulse: 19.333333333333332\n",
      "Agilent Technologies,M8190A,MY60901825,5.7.0.0-2\n",
      "pi pulse: 19.333333333333332\n",
      "Agilent Technologies,M8190A,MY60901825,5.7.0.0-2\n",
      "pi pulse: 19.333333333333332\n",
      "Agilent Technologies,M8190A,MY60901825,5.7.0.0-2\n",
      "pi pulse: 19.333333333333332\n",
      "Agilent Technologies,M8190A,MY60901825,5.7.0.0-2\n",
      "pi pulse: 19.416666666666668\n",
      "Agilent Technologies,M8190A,MY60901825,5.7.0.0-2\n",
      "pi pulse: 19.416666666666668\n",
      "Agilent Technologies,M8190A,MY60901825,5.7.0.0-2\n",
      "pi pulse: 19.416666666666668\n",
      "Agilent Technologies,M8190A,MY60901825,5.7.0.0-2\n",
      "pi pulse: 19.416666666666668\n",
      "Agilent Technologies,M8190A,MY60901825,5.7.0.0-2\n",
      "pi pulse: 19.416666666666668\n",
      "Agilent Technologies,M8190A,MY60901825,5.7.0.0-2\n",
      "pi pulse: 19.5\n",
      "Agilent Technologies,M8190A,MY60901825,5.7.0.0-2\n",
      "pi pulse: 19.5\n",
      "Agilent Technologies,M8190A,MY60901825,5.7.0.0-2\n",
      "pi pulse: 19.5\n",
      "Agilent Technologies,M8190A,MY60901825,5.7.0.0-2\n",
      "pi pulse: 19.5\n",
      "Agilent Technologies,M8190A,MY60901825,5.7.0.0-2\n",
      "pi pulse: 19.5\n",
      "Agilent Technologies,M8190A,MY60901825,5.7.0.0-2\n",
      "pi pulse: 19.583333333333332\n",
      "Agilent Technologies,M8190A,MY60901825,5.7.0.0-2\n",
      "pi pulse: 19.583333333333332\n",
      "Agilent Technologies,M8190A,MY60901825,5.7.0.0-2\n",
      "pi pulse: 19.583333333333332\n",
      "Agilent Technologies,M8190A,MY60901825,5.7.0.0-2\n",
      "pi pulse: 19.583333333333332\n",
      "Agilent Technologies,M8190A,MY60901825,5.7.0.0-2\n",
      "pi pulse: 19.583333333333332\n",
      "Agilent Technologies,M8190A,MY60901825,5.7.0.0-2\n",
      "pi pulse: 19.666666666666668\n",
      "Agilent Technologies,M8190A,MY60901825,5.7.0.0-2\n",
      "pi pulse: 19.666666666666668\n",
      "Agilent Technologies,M8190A,MY60901825,5.7.0.0-2\n",
      "pi pulse: 19.666666666666668\n",
      "Agilent Technologies,M8190A,MY60901825,5.7.0.0-2\n",
      "pi pulse: 19.666666666666668\n",
      "Agilent Technologies,M8190A,MY60901825,5.7.0.0-2\n",
      "pi pulse: 19.666666666666668\n",
      "Agilent Technologies,M8190A,MY60901825,5.7.0.0-2\n",
      "pi pulse: 19.75\n",
      "Agilent Technologies,M8190A,MY60901825,5.7.0.0-2\n",
      "pi pulse: 19.75\n",
      "Agilent Technologies,M8190A,MY60901825,5.7.0.0-2\n",
      "pi pulse: 19.75\n",
      "Agilent Technologies,M8190A,MY60901825,5.7.0.0-2\n",
      "pi pulse: 19.75\n",
      "Agilent Technologies,M8190A,MY60901825,5.7.0.0-2\n",
      "pi pulse: 19.75\n",
      "Agilent Technologies,M8190A,MY60901825,5.7.0.0-2\n",
      "pi pulse: 19.833333333333332\n",
      "Agilent Technologies,M8190A,MY60901825,5.7.0.0-2\n",
      "pi pulse: 19.833333333333332\n",
      "Agilent Technologies,M8190A,MY60901825,5.7.0.0-2\n",
      "pi pulse: 19.833333333333332\n",
      "Agilent Technologies,M8190A,MY60901825,5.7.0.0-2\n",
      "pi pulse: 19.833333333333332\n",
      "Agilent Technologies,M8190A,MY60901825,5.7.0.0-2\n",
      "pi pulse: 19.833333333333332\n",
      "Agilent Technologies,M8190A,MY60901825,5.7.0.0-2\n",
      "pi pulse: 19.916666666666668\n",
      "Agilent Technologies,M8190A,MY60901825,5.7.0.0-2\n",
      "pi pulse: 19.916666666666668\n",
      "Agilent Technologies,M8190A,MY60901825,5.7.0.0-2\n",
      "pi pulse: 19.916666666666668\n",
      "Agilent Technologies,M8190A,MY60901825,5.7.0.0-2\n",
      "pi pulse: 19.916666666666668\n",
      "Agilent Technologies,M8190A,MY60901825,5.7.0.0-2\n",
      "pi pulse: 19.916666666666668\n",
      "Agilent Technologies,M8190A,MY60901825,5.7.0.0-2\n",
      "pi pulse: 20.0\n",
      "Agilent Technologies,M8190A,MY60901825,5.7.0.0-2\n",
      "pi pulse: 20.0\n",
      "Agilent Technologies,M8190A,MY60901825,5.7.0.0-2\n",
      "pi pulse: 20.0\n",
      "Agilent Technologies,M8190A,MY60901825,5.7.0.0-2\n",
      "pi pulse: 20.0\n",
      "Agilent Technologies,M8190A,MY60901825,5.7.0.0-2\n",
      "pi pulse: 20.0\n",
      "Agilent Technologies,M8190A,MY60901825,5.7.0.0-2\n",
      "pi pulse: 20.083333333333332\n",
      "Agilent Technologies,M8190A,MY60901825,5.7.0.0-2\n",
      "pi pulse: 20.083333333333332\n",
      "Agilent Technologies,M8190A,MY60901825,5.7.0.0-2\n",
      "pi pulse: 20.083333333333332\n",
      "Agilent Technologies,M8190A,MY60901825,5.7.0.0-2\n",
      "pi pulse: 20.083333333333332\n",
      "Agilent Technologies,M8190A,MY60901825,5.7.0.0-2\n",
      "pi pulse: 20.083333333333332\n",
      "Agilent Technologies,M8190A,MY60901825,5.7.0.0-2\n",
      "pi pulse: 20.166666666666668\n",
      "Agilent Technologies,M8190A,MY60901825,5.7.0.0-2\n",
      "pi pulse: 20.166666666666668\n",
      "Agilent Technologies,M8190A,MY60901825,5.7.0.0-2\n",
      "pi pulse: 20.166666666666668\n",
      "Agilent Technologies,M8190A,MY60901825,5.7.0.0-2\n",
      "pi pulse: 20.166666666666668\n",
      "Agilent Technologies,M8190A,MY60901825,5.7.0.0-2\n",
      "pi pulse: 20.166666666666668\n",
      "Agilent Technologies,M8190A,MY60901825,5.7.0.0-2\n",
      "pi pulse: 20.25\n",
      "Agilent Technologies,M8190A,MY60901825,5.7.0.0-2\n",
      "pi pulse: 20.25\n",
      "Agilent Technologies,M8190A,MY60901825,5.7.0.0-2\n",
      "pi pulse: 20.25\n",
      "Agilent Technologies,M8190A,MY60901825,5.7.0.0-2\n",
      "pi pulse: 20.25\n",
      "Agilent Technologies,M8190A,MY60901825,5.7.0.0-2\n",
      "pi pulse: 20.25\n",
      "Agilent Technologies,M8190A,MY60901825,5.7.0.0-2\n",
      "pi pulse: 20.333333333333332\n",
      "Agilent Technologies,M8190A,MY60901825,5.7.0.0-2\n",
      "pi pulse: 20.333333333333332\n"
     ]
    },
    {
     "name": "stdout",
     "output_type": "stream",
     "text": [
      "Agilent Technologies,M8190A,MY60901825,5.7.0.0-2\n",
      "pi pulse: 20.333333333333332\n",
      "Agilent Technologies,M8190A,MY60901825,5.7.0.0-2\n",
      "pi pulse: 20.333333333333332\n",
      "Agilent Technologies,M8190A,MY60901825,5.7.0.0-2\n",
      "pi pulse: 20.333333333333332\n",
      "Agilent Technologies,M8190A,MY60901825,5.7.0.0-2\n",
      "pi pulse: 20.416666666666668\n",
      "Agilent Technologies,M8190A,MY60901825,5.7.0.0-2\n",
      "pi pulse: 20.416666666666668\n",
      "Agilent Technologies,M8190A,MY60901825,5.7.0.0-2\n",
      "pi pulse: 20.416666666666668\n",
      "Agilent Technologies,M8190A,MY60901825,5.7.0.0-2\n",
      "pi pulse: 20.416666666666668\n",
      "Agilent Technologies,M8190A,MY60901825,5.7.0.0-2\n",
      "pi pulse: 20.416666666666668\n",
      "Agilent Technologies,M8190A,MY60901825,5.7.0.0-2\n",
      "pi pulse: 20.5\n",
      "Agilent Technologies,M8190A,MY60901825,5.7.0.0-2\n",
      "pi pulse: 20.5\n",
      "Agilent Technologies,M8190A,MY60901825,5.7.0.0-2\n",
      "pi pulse: 20.5\n",
      "Agilent Technologies,M8190A,MY60901825,5.7.0.0-2\n",
      "pi pulse: 20.5\n",
      "Agilent Technologies,M8190A,MY60901825,5.7.0.0-2\n",
      "pi pulse: 20.5\n",
      "Agilent Technologies,M8190A,MY60901825,5.7.0.0-2\n",
      "pi pulse: 20.583333333333332\n",
      "Agilent Technologies,M8190A,MY60901825,5.7.0.0-2\n",
      "pi pulse: 20.583333333333332\n",
      "Agilent Technologies,M8190A,MY60901825,5.7.0.0-2\n",
      "pi pulse: 20.583333333333332\n",
      "Agilent Technologies,M8190A,MY60901825,5.7.0.0-2\n",
      "pi pulse: 20.583333333333332\n",
      "Agilent Technologies,M8190A,MY60901825,5.7.0.0-2\n",
      "pi pulse: 20.583333333333332\n",
      "Agilent Technologies,M8190A,MY60901825,5.7.0.0-2\n",
      "pi pulse: 20.666666666666668\n",
      "Agilent Technologies,M8190A,MY60901825,5.7.0.0-2\n",
      "pi pulse: 20.666666666666668\n",
      "Agilent Technologies,M8190A,MY60901825,5.7.0.0-2\n",
      "pi pulse: 20.666666666666668\n",
      "Agilent Technologies,M8190A,MY60901825,5.7.0.0-2\n",
      "pi pulse: 20.666666666666668\n",
      "Agilent Technologies,M8190A,MY60901825,5.7.0.0-2\n",
      "pi pulse: 20.666666666666668\n",
      "Agilent Technologies,M8190A,MY60901825,5.7.0.0-2\n",
      "pi pulse: 20.75\n",
      "Agilent Technologies,M8190A,MY60901825,5.7.0.0-2\n",
      "pi pulse: 20.75\n",
      "Agilent Technologies,M8190A,MY60901825,5.7.0.0-2\n",
      "pi pulse: 20.75\n",
      "Agilent Technologies,M8190A,MY60901825,5.7.0.0-2\n",
      "pi pulse: 20.75\n",
      "Agilent Technologies,M8190A,MY60901825,5.7.0.0-2\n",
      "pi pulse: 20.75\n",
      "Agilent Technologies,M8190A,MY60901825,5.7.0.0-2\n",
      "pi pulse: 20.833333333333332\n",
      "Agilent Technologies,M8190A,MY60901825,5.7.0.0-2\n",
      "pi pulse: 20.833333333333332\n",
      "Agilent Technologies,M8190A,MY60901825,5.7.0.0-2\n",
      "pi pulse: 20.833333333333332\n",
      "Agilent Technologies,M8190A,MY60901825,5.7.0.0-2\n",
      "pi pulse: 20.833333333333332\n",
      "Agilent Technologies,M8190A,MY60901825,5.7.0.0-2\n",
      "pi pulse: 20.833333333333332\n",
      "Agilent Technologies,M8190A,MY60901825,5.7.0.0-2\n",
      "pi pulse: 20.916666666666668\n",
      "Agilent Technologies,M8190A,MY60901825,5.7.0.0-2\n",
      "pi pulse: 20.916666666666668\n",
      "Agilent Technologies,M8190A,MY60901825,5.7.0.0-2\n",
      "pi pulse: 20.916666666666668\n",
      "Agilent Technologies,M8190A,MY60901825,5.7.0.0-2\n",
      "pi pulse: 20.916666666666668\n",
      "Agilent Technologies,M8190A,MY60901825,5.7.0.0-2\n",
      "pi pulse: 20.916666666666668\n",
      "Agilent Technologies,M8190A,MY60901825,5.7.0.0-2\n",
      "pi pulse: 21.0\n",
      "Agilent Technologies,M8190A,MY60901825,5.7.0.0-2\n",
      "pi pulse: 21.0\n",
      "Agilent Technologies,M8190A,MY60901825,5.7.0.0-2\n",
      "pi pulse: 21.0\n",
      "Agilent Technologies,M8190A,MY60901825,5.7.0.0-2\n",
      "pi pulse: 21.0\n",
      "Agilent Technologies,M8190A,MY60901825,5.7.0.0-2\n",
      "pi pulse: 21.0\n",
      "Agilent Technologies,M8190A,MY60901825,5.7.0.0-2\n",
      "pi pulse: 21.083333333333332\n",
      "Agilent Technologies,M8190A,MY60901825,5.7.0.0-2\n",
      "pi pulse: 21.083333333333332\n",
      "Agilent Technologies,M8190A,MY60901825,5.7.0.0-2\n",
      "pi pulse: 21.083333333333332\n",
      "Agilent Technologies,M8190A,MY60901825,5.7.0.0-2\n",
      "pi pulse: 21.083333333333332\n",
      "Agilent Technologies,M8190A,MY60901825,5.7.0.0-2\n",
      "pi pulse: 21.083333333333332\n",
      "Agilent Technologies,M8190A,MY60901825,5.7.0.0-2\n",
      "pi pulse: 21.166666666666668\n",
      "Agilent Technologies,M8190A,MY60901825,5.7.0.0-2\n",
      "pi pulse: 21.166666666666668\n",
      "Agilent Technologies,M8190A,MY60901825,5.7.0.0-2\n",
      "pi pulse: 21.166666666666668\n",
      "Agilent Technologies,M8190A,MY60901825,5.7.0.0-2\n",
      "pi pulse: 21.166666666666668\n",
      "Agilent Technologies,M8190A,MY60901825,5.7.0.0-2\n",
      "pi pulse: 21.166666666666668\n",
      "Agilent Technologies,M8190A,MY60901825,5.7.0.0-2\n",
      "pi pulse: 21.25\n",
      "Agilent Technologies,M8190A,MY60901825,5.7.0.0-2\n",
      "pi pulse: 21.25\n",
      "Agilent Technologies,M8190A,MY60901825,5.7.0.0-2\n",
      "pi pulse: 21.25\n",
      "Agilent Technologies,M8190A,MY60901825,5.7.0.0-2\n",
      "pi pulse: 21.25\n",
      "Agilent Technologies,M8190A,MY60901825,5.7.0.0-2\n",
      "pi pulse: 21.25\n",
      "Agilent Technologies,M8190A,MY60901825,5.7.0.0-2\n",
      "pi pulse: 21.333333333333332\n",
      "Agilent Technologies,M8190A,MY60901825,5.7.0.0-2\n",
      "pi pulse: 21.333333333333332\n",
      "Agilent Technologies,M8190A,MY60901825,5.7.0.0-2\n",
      "pi pulse: 21.333333333333332\n",
      "Agilent Technologies,M8190A,MY60901825,5.7.0.0-2\n",
      "pi pulse: 21.333333333333332\n",
      "Agilent Technologies,M8190A,MY60901825,5.7.0.0-2\n",
      "pi pulse: 21.333333333333332\n",
      "Agilent Technologies,M8190A,MY60901825,5.7.0.0-2\n",
      "pi pulse: 21.416666666666668\n",
      "Agilent Technologies,M8190A,MY60901825,5.7.0.0-2\n",
      "pi pulse: 21.416666666666668\n",
      "Agilent Technologies,M8190A,MY60901825,5.7.0.0-2\n",
      "pi pulse: 21.416666666666668\n",
      "Agilent Technologies,M8190A,MY60901825,5.7.0.0-2\n",
      "pi pulse: 21.416666666666668\n",
      "Agilent Technologies,M8190A,MY60901825,5.7.0.0-2\n",
      "pi pulse: 21.416666666666668\n",
      "Agilent Technologies,M8190A,MY60901825,5.7.0.0-2\n",
      "pi pulse: 21.5\n",
      "Agilent Technologies,M8190A,MY60901825,5.7.0.0-2\n",
      "pi pulse: 21.5\n",
      "Agilent Technologies,M8190A,MY60901825,5.7.0.0-2\n",
      "pi pulse: 21.5\n",
      "Agilent Technologies,M8190A,MY60901825,5.7.0.0-2\n",
      "pi pulse: 21.5\n",
      "Agilent Technologies,M8190A,MY60901825,5.7.0.0-2\n",
      "pi pulse: 21.5\n"
     ]
    }
   ],
   "source": [
    "end_time =3*60\n",
    "save_time =3*60\n",
    "opt_time = 3*60\n",
    "\n",
    "poi = 'site_3_10_4'\n",
    "\n",
    "fit = None\n",
    "amp = 0.5\n",
    "\n",
    "pi_start = 18.5\n",
    "pi_finish =21.5\n",
    "pulse_number = 30\n",
    "pi_list = np.linspace(pi_start,pi_finish,(pi_finish-pi_start)*12+1)[::]\n",
    "\n",
    "\n",
    "for pi in pi_list:\n",
    "    pulse_type = 'square'\n",
    "    awg = awg8190a_backend36.AWG(12)\n",
    "    awg.write(f'DC:VOLT:AMPL {amp}')\n",
    "    pi_pulse_test_form = pi_pulse_test(pi, pulse_number, pulse_type=pulse_type)\n",
    "    pulsedmeasurementlogic.start_pulsed_measurement()\n",
    "    time_end = time.monotonic()\n",
    "    while (time.monotonic() - time_end) < end_time:\n",
    "        os.system('cmd /c \"shutdown -a\"')\n",
    "        time60 = time.monotonic()\n",
    "        while (time.monotonic() - time60) < save_time:\n",
    "            time10 = time.monotonic()\n",
    "            while (time.monotonic() - time10) < opt_time:\n",
    "                if pulsedmeasurementlogic.module_state() == 'idle':\n",
    "                    break\n",
    "                pulsedmasterlogic.do_fit(fit, False)\n",
    "                time.sleep(10)\n",
    "            if pulsedmeasurementlogic.module_state() == 'idle':\n",
    "                    break\n",
    "            pulsedmeasurementlogic.pause_pulsed_measurement()\n",
    "            time.sleep(5)\n",
    "            optimize()\n",
    "            pulsedmeasurementlogic.continue_pulsed_measurement()        \n",
    "        pml.save_measurement_data(tag=f'pi_pulse_test_{pulse_type}_{poi}_{int(wav.awg_freq*1e-3)}KHz_{amp}amp_{pi}')\n",
    "        if pulsedmeasurementlogic.module_state() == 'idle':\n",
    "                    break\n",
    "    pulsedmeasurementlogic.stop_pulsed_measurement()\n",
    "    \n",
    "    pulse_type = 'CORPSE'\n",
    "    awg = awg8190a_backend36.AWG(12)\n",
    "    awg.write(f'DC:VOLT:AMPL {amp}')\n",
    "    pi_pulse_test_form = pi_pulse_test(pi, pulse_number, pulse_type=pulse_type)\n",
    "    pulsedmeasurementlogic.start_pulsed_measurement()\n",
    "    time_end = time.monotonic()\n",
    "    while (time.monotonic() - time_end) < end_time:\n",
    "        os.system('cmd /c \"shutdown -a\"')\n",
    "        time60 = time.monotonic()\n",
    "        while (time.monotonic() - time60) < save_time:\n",
    "            time10 = time.monotonic()\n",
    "            while (time.monotonic() - time10) < opt_time:\n",
    "                if pulsedmeasurementlogic.module_state() == 'idle':\n",
    "                    break\n",
    "                pulsedmasterlogic.do_fit(fit, False)\n",
    "                time.sleep(10)\n",
    "            if pulsedmeasurementlogic.module_state() == 'idle':\n",
    "                    break\n",
    "            pulsedmeasurementlogic.pause_pulsed_measurement()\n",
    "            time.sleep(5)\n",
    "            optimize()\n",
    "            pulsedmeasurementlogic.continue_pulsed_measurement()        \n",
    "        pml.save_measurement_data(tag=f'pi_pulse_test_{pulse_type}_{poi}_{int(wav.awg_freq*1e-3)}KHz_{amp}amp_{pi}')\n",
    "        if pulsedmeasurementlogic.module_state() == 'idle':\n",
    "                    break\n",
    "    pulsedmeasurementlogic.stop_pulsed_measurement()\n",
    "    \n",
    "    pulse_type = 'BB1'\n",
    "    awg = awg8190a_backend36.AWG(12)\n",
    "    awg.write(f'DC:VOLT:AMPL {amp}')\n",
    "    pi_pulse_test_form = pi_pulse_test(pi, pulse_number, pulse_type=pulse_type)\n",
    "    pulsedmeasurementlogic.start_pulsed_measurement()\n",
    "    time_end = time.monotonic()\n",
    "    while (time.monotonic() - time_end) < end_time:\n",
    "        os.system('cmd /c \"shutdown -a\"')\n",
    "        time60 = time.monotonic()\n",
    "        while (time.monotonic() - time60) < save_time:\n",
    "            time10 = time.monotonic()\n",
    "            while (time.monotonic() - time10) < opt_time:\n",
    "                if pulsedmeasurementlogic.module_state() == 'idle':\n",
    "                    break\n",
    "                pulsedmasterlogic.do_fit(fit, False)\n",
    "                time.sleep(10)\n",
    "            if pulsedmeasurementlogic.module_state() == 'idle':\n",
    "                    break\n",
    "            pulsedmeasurementlogic.pause_pulsed_measurement()\n",
    "            time.sleep(5)\n",
    "            optimize()\n",
    "            pulsedmeasurementlogic.continue_pulsed_measurement()        \n",
    "        pml.save_measurement_data(tag=f'pi_pulse_test_{pulse_type}_{poi}_{int(wav.awg_freq*1e-3)}KHz_{amp}amp_{pi}')\n",
    "        if pulsedmeasurementlogic.module_state() == 'idle':\n",
    "                    break\n",
    "    pulsedmeasurementlogic.stop_pulsed_measurement()\n",
    "    \n",
    "    pulse_type = 'CORinBB'\n",
    "    awg = awg8190a_backend36.AWG(12)\n",
    "    awg.write(f'DC:VOLT:AMPL {amp}')\n",
    "    pi_pulse_test_form = pi_pulse_test(pi, pulse_number, pulse_type=pulse_type)\n",
    "    pulsedmeasurementlogic.start_pulsed_measurement()\n",
    "    time_end = time.monotonic()\n",
    "    while (time.monotonic() - time_end) < end_time:\n",
    "        os.system('cmd /c \"shutdown -a\"')\n",
    "        time60 = time.monotonic()\n",
    "        while (time.monotonic() - time60) < save_time:\n",
    "            time10 = time.monotonic()\n",
    "            while (time.monotonic() - time10) < opt_time:\n",
    "                if pulsedmeasurementlogic.module_state() == 'idle':\n",
    "                    break\n",
    "                pulsedmasterlogic.do_fit(fit, False)\n",
    "                time.sleep(10)\n",
    "            if pulsedmeasurementlogic.module_state() == 'idle':\n",
    "                    break\n",
    "            pulsedmeasurementlogic.pause_pulsed_measurement()\n",
    "            time.sleep(5)\n",
    "            optimize()\n",
    "            pulsedmeasurementlogic.continue_pulsed_measurement()        \n",
    "        pml.save_measurement_data(tag=f'pi_pulse_test_{pulse_type}_{poi}_{int(wav.awg_freq*1e-3)}KHz_{amp}amp_{pi}')\n",
    "        if pulsedmeasurementlogic.module_state() == 'idle':\n",
    "                    break\n",
    "    pulsedmeasurementlogic.stop_pulsed_measurement()\n",
    "\n",
    "    pulse_type = 'knill'\n",
    "    awg = awg8190a_backend36.AWG(12)\n",
    "    awg.write('DC:VOLT:AMPL 0.5')\n",
    "    pi_pulse_test_form = pi_pulse_test(pi, pulse_number, pulse_type=pulse_type)\n",
    "    pulsedmeasurementlogic.start_pulsed_measurement()\n",
    "    time_end = time.monotonic()\n",
    "    while (time.monotonic() - time_end) < end_time:\n",
    "        os.system('cmd /c \"shutdown -a\"')\n",
    "        time60 = time.monotonic()\n",
    "        while (time.monotonic() - time60) < save_time:\n",
    "            time10 = time.monotonic()\n",
    "            while (time.monotonic() - time10) < opt_time:\n",
    "                if pulsedmeasurementlogic.module_state() == 'idle':\n",
    "                    break\n",
    "                pulsedmasterlogic.do_fit(fit, False)\n",
    "                time.sleep(10)\n",
    "            if pulsedmeasurementlogic.module_state() == 'idle':\n",
    "                    break\n",
    "            pulsedmeasurementlogic.pause_pulsed_measurement()\n",
    "            time.sleep(5)\n",
    "            optimize()\n",
    "            pulsedmeasurementlogic.continue_pulsed_measurement()        \n",
    "        pml.save_measurement_data(tag=f'pi_pulse_test_{pulse_type}_{poi}_{int(wav.awg_freq*1e-3)}KHz_{amp}amp_{pi}')\n",
    "        if pulsedmeasurementlogic.module_state() == 'idle':\n",
    "                    break\n",
    "    pulsedmeasurementlogic.stop_pulsed_measurement()\n",
    "    optimize()\n",
    "    \n",
    "for i in range(10):\n",
    "    time.sleep(60)\n",
    "    optimize()"
   ]
  },
  {
   "cell_type": "code",
   "execution_count": null,
   "metadata": {},
   "outputs": [],
   "source": [
    "end_time =30*60\n",
    "save_time =30*60\n",
    "opt_time = 10*60\n",
    "\n",
    "poi = 'site_3_10_4'\n",
    "sequence_name = 'pi_pulse_test_AWG'\n",
    "fit = None\n",
    "frequency_power_MW = '2772558KHz_0p5amp'\n",
    "\n",
    "amp_list = np.arange(0.49,0.51, 0.0002)\n",
    "\n",
    "for amp in amp_list:\n",
    "    awg = awg8190a_backend32.AWG(12)\n",
    "    awg.write(f'DC:VOLT:AMPL {amp}')\n",
    "    pi_pulse_test_form = pi_pulse_test(20.4167, 100)\n",
    "    pulsedmeasurementlogic.start_pulsed_measurement()\n",
    "    time_end = time.monotonic()\n",
    "    while (time.monotonic() - time_end) < end_time:\n",
    "        os.system('cmd /c \"shutdown -a\"')\n",
    "        time60 = time.monotonic()\n",
    "        while (time.monotonic() - time60) < save_time:\n",
    "            time10 = time.monotonic()\n",
    "            while (time.monotonic() - time10) < opt_time:\n",
    "                if pulsedmeasurementlogic.module_state() == 'idle':\n",
    "                    break\n",
    "                pulsedmasterlogic.do_fit(fit, False)\n",
    "                time.sleep(10)\n",
    "            if pulsedmeasurementlogic.module_state() == 'idle':\n",
    "                    break\n",
    "            pulsedmeasurementlogic.pause_pulsed_measurement()\n",
    "            time.sleep(5)\n",
    "            optimize()\n",
    "            pulsedmeasurementlogic.continue_pulsed_measurement()\n",
    "        if pulsedmeasurementlogic.module_state() == 'idle':\n",
    "                    break\n",
    "        pml.save_measurement_data(tag=f'{sequence_name}_{poi}_{frequency_power_MW}_{amp}')\n",
    "    pulsedmeasurementlogic.stop_pulsed_measurement()"
   ]
  },
  {
   "cell_type": "markdown",
   "metadata": {},
   "source": [
    "## Hahn echo"
   ]
  },
  {
   "cell_type": "code",
   "execution_count": 72,
   "metadata": {},
   "outputs": [
    {
     "name": "stdout",
     "output_type": "stream",
     "text": [
      "Agilent Technologies,M8190A,MY60901825,5.7.0.0-2\n"
     ]
    }
   ],
   "source": [
    "awg = awg8190a_backend36.AWG(12)\n",
    "awg.write('DC:VOLT:AMPL 0.5')\n",
    "T2(100e-9, 2e-6, 30, 10.25, 20.5, 30.75, True)\n",
    "#optimize()\n",
    "#pulsedmeasurementlogic.start_pulsed_measurement()"
   ]
  },
  {
   "cell_type": "code",
   "execution_count": 15,
   "metadata": {},
   "outputs": [],
   "source": [
    "end_time =14*60*60\n",
    "save_time =60*60\n",
    "opt_time = 20*60\n",
    "\n",
    "poi = 'site_3_10_4'\n",
    "sequence_name = 'hahn_echo_AWG'\n",
    "fit = None\n",
    "frequency_power_MW = '2772674KHz_0p5amp'\n",
    "\n",
    "pulsedmeasurementlogic.continue_pulsed_measurement()\n",
    "time_end = time.monotonic()\n",
    "while (time.monotonic() - time_end) < end_time:\n",
    "    os.system('cmd /c \"shutdown -a\"')\n",
    "    time60 = time.monotonic()\n",
    "    while (time.monotonic() - time60) < save_time:\n",
    "        time10 = time.monotonic()\n",
    "        while (time.monotonic() - time10) < opt_time:\n",
    "            if pulsedmeasurementlogic.module_state() == 'idle':\n",
    "                break\n",
    "            pulsedmasterlogic.do_fit(fit, False)\n",
    "            time.sleep(10)\n",
    "        if pulsedmeasurementlogic.module_state() == 'idle':\n",
    "            break\n",
    "        pulsedmeasurementlogic.pause_pulsed_measurement()\n",
    "        time.sleep(5)\n",
    "        optimize()\n",
    "        pulsedmeasurementlogic.continue_pulsed_measurement()\n",
    "    pml.save_measurement_data(tag=f'{sequence_name}_{poi}_{frequency_power_MW}')\n",
    "    if pulsedmeasurementlogic.module_state() == 'idle':\n",
    "        break\n",
    "pulsedmeasurementlogic.pause_pulsed_measurement()"
   ]
  },
  {
   "cell_type": "markdown",
   "metadata": {},
   "source": [
    "## Coupling measurement"
   ]
  },
  {
   "cell_type": "code",
   "execution_count": 25,
   "metadata": {},
   "outputs": [
    {
     "name": "stdout",
     "output_type": "stream",
     "text": [
      "Agilent Technologies,M8190A,MY60901825,5.7.0.0-2\n"
     ]
    }
   ],
   "source": [
    "awg8190a_backend36.AWG(12)\n",
    "awg.write('DC:VOLT:AMPL 0.5')\n",
    "coupling(26e-6, 50, 2850e6, 10.5, 21.417, 31.8, 32, True)\n",
    "optimize()\n",
    "pulsedmeasurementlogic.start_pulsed_measurement()"
   ]
  },
  {
   "cell_type": "code",
   "execution_count": 17,
   "metadata": {},
   "outputs": [],
   "source": [
    "end_time =12*60*60\n",
    "save_time =60*60\n",
    "opt_time = 20*60\n",
    "\n",
    "poi = 'site_3_10_4'\n",
    "sequence_name = 'coupling_AWG'\n",
    "fit = 'sine'\n",
    "frequency_power_MW = '2772674KHz_NVa_2850MHz_NVb_0p5amp'\n",
    "\n",
    "pulsedmeasurementlogic.continue_pulsed_measurement()\n",
    "time_end = time.monotonic()\n",
    "while (time.monotonic() - time_end) < end_time:\n",
    "    os.system('cmd /c \"shutdown -a\"')\n",
    "    time60 = time.monotonic()\n",
    "    while (time.monotonic() - time60) < save_time:\n",
    "        time10 = time.monotonic()\n",
    "        while (time.monotonic() - time10) < opt_time:\n",
    "            if pulsedmeasurementlogic.module_state() == 'idle':\n",
    "                break\n",
    "            pulsedmasterlogic.do_fit(fit, True)\n",
    "            time.sleep(2)\n",
    "        if pulsedmeasurementlogic.module_state() == 'idle':\n",
    "            break\n",
    "        pulsedmeasurementlogic.pause_pulsed_measurement()\n",
    "        time.sleep(5)\n",
    "        optimize()\n",
    "        pulsedmeasurementlogic.continue_pulsed_measurement()\n",
    "    pml.save_measurement_data(tag=f'{sequence_name}_{poi}_{frequency_power_MW}')\n",
    "    if pulsedmeasurementlogic.module_state() == 'idle':\n",
    "        break\n",
    "pulsedmeasurementlogic.pause_pulsed_measurement()"
   ]
  },
  {
   "cell_type": "markdown",
   "metadata": {},
   "source": [
    "## XY8"
   ]
  },
  {
   "cell_type": "code",
   "execution_count": 59,
   "metadata": {},
   "outputs": [
    {
     "name": "stdout",
     "output_type": "stream",
     "text": [
      "Agilent Technologies,M8190A,MY60901825,5.7.0.0-2\n"
     ]
    }
   ],
   "source": [
    "awg8190a_backend36.AWG(12)\n",
    "awg.write('DC:VOLT:AMPL 0.5')\n",
    "xy8(50e-9, 0.1e-6, 50, 11, 20.583/2, 3/2*20.583, 20.583, True)\n",
    "optimize()\n",
    "pulsedmeasurementlogic.start_pulsed_measurement()"
   ]
  },
  {
   "cell_type": "code",
   "execution_count": 82,
   "metadata": {},
   "outputs": [],
   "source": [
    "pulsedmasterlogic.do_fit(\"exponential\", True)"
   ]
  },
  {
   "cell_type": "code",
   "execution_count": 86,
   "metadata": {},
   "outputs": [
    {
     "data": {
      "text/plain": [
       "{'offset': -25.048465336923297, 'beta': 2.082842269001618, 'lifetime': 0.00018604666638866174, 'amplitude': -130.76697003342025}"
      ]
     },
     "execution_count": 86,
     "metadata": {},
     "output_type": "execute_result"
    }
   ],
   "source": [
    "dict_fit"
   ]
  },
  {
   "cell_type": "code",
   "execution_count": 83,
   "metadata": {},
   "outputs": [
    {
     "data": {
      "text/plain": [
       "array([[ 1.25097268e+03,  3.69987208e+01, -1.43318528e-04,\n",
       "        -5.07528275e+02],\n",
       "       [ 3.69987208e+01,  1.71844895e+00, -4.47016907e-06,\n",
       "        -1.51008084e+01],\n",
       "       [-1.43318528e-04, -4.47016907e-06,  1.73438956e-09,\n",
       "         5.07292014e-04],\n",
       "       [-5.07528275e+02, -1.51008084e+01,  5.07292014e-04,\n",
       "         3.81473115e+02]])"
      ]
     },
     "execution_count": 83,
     "metadata": {},
     "output_type": "execute_result"
    }
   ],
   "source": [
    "dict_fit = pml.fc.current_fit_result.best_values\n",
    "pml.fc.current_fit_result.covar"
   ]
  },
  {
   "cell_type": "code",
   "execution_count": 24,
   "metadata": {},
   "outputs": [
    {
     "name": "stdout",
     "output_type": "stream",
     "text": [
      "order 5\n",
      "Agilent Technologies,M8190A,MY60901825,5.7.0.0-2\n",
      "order 6\n",
      "Agilent Technologies,M8190A,MY60901825,5.7.0.0-2\n"
     ]
    }
   ],
   "source": [
    "opt_time = 20*60\n",
    "poi = 'site_3_10_4'\n",
    "sequence_name = 'xy8_BB1'\n",
    "fit = 'exponential'\n",
    "pi = 20.33333333\n",
    "amp = 0.5\n",
    "frequency_power_MW = f'2772600KHz_{pi}ns_{amp}amp'\n",
    "optimize()\n",
    "\n",
    "for i in range(5, 7):\n",
    "    end_time =i*60*60\n",
    "    save_time =i*60*60 \n",
    "    print('order', i)\n",
    "    awg8190a_backend36.AWG(12)\n",
    "    awg.write('DC:VOLT:AMPL {amp}')\n",
    "    xy8((5*i)*1e-9, (0.3-0.02*(i-1))*1e-6, 50, i, pi/2, 3/2*pi, pi, True, pulse_type = 'BB1')\n",
    "    \n",
    "    pulsedmeasurementlogic.start_pulsed_measurement()\n",
    "    time_end = time.monotonic()\n",
    "    while (time.monotonic() - time_end) < end_time:\n",
    "        os.system('cmd /c \"shutdown -a\"')\n",
    "        time60 = time.monotonic()\n",
    "        while (time.monotonic() - time60) < save_time:\n",
    "            time10 = time.monotonic()\n",
    "            while (time.monotonic() - time10) < opt_time:\n",
    "                if pulsedmeasurementlogic.module_state() == 'idle':\n",
    "                    break\n",
    "                pulsedmasterlogic.do_fit(fit, True)\n",
    "                time.sleep(2)\n",
    "            if pulsedmeasurementlogic.module_state() == 'idle':\n",
    "                break\n",
    "            pulsedmeasurementlogic.pause_pulsed_measurement()\n",
    "            time.sleep(5)\n",
    "            optimize()\n",
    "            pulsedmeasurementlogic.continue_pulsed_measurement()\n",
    "        pml.save_measurement_data(tag=f'{sequence_name}ord{i}_{poi}_{frequency_power_MW}')\n",
    "        if pulsedmeasurementlogic.module_state() == 'idle':\n",
    "            break\n",
    "    pulsedmeasurementlogic.stop_pulsed_measurement()"
   ]
  },
  {
   "cell_type": "markdown",
   "metadata": {},
   "source": [
    "## T1"
   ]
  },
  {
   "cell_type": "code",
   "execution_count": 42,
   "metadata": {},
   "outputs": [
    {
     "name": "stdout",
     "output_type": "stream",
     "text": [
      "Agilent Technologies,M8190A,MY60901825,5.7.0.0-2\n"
     ]
    }
   ],
   "source": [
    "awg8190a_backend36.AWG(12)\n",
    "awg.write('DC:VOLT:AMPL 0.5')\n",
    "T1(1e-6, 50e-6, 40, 20.5, True)\n",
    "optimize()\n",
    "pulsedmeasurementlogic.start_pulsed_measurement()"
   ]
  },
  {
   "cell_type": "code",
   "execution_count": 43,
   "metadata": {},
   "outputs": [],
   "source": [
    "end_time =10*60*60\n",
    "save_time =2*60*60\n",
    "opt_time = 60*60\n",
    "\n",
    "poi = 'site_3_10_4'\n",
    "sequence_name = 'T1'\n",
    "fit = 'exponential'\n",
    "frequency_power_MW = '2772674KHz_0p5amp_20p5pi'\n",
    "\n",
    "pulsedmeasurementlogic.continue_pulsed_measurement()\n",
    "time_end = time.monotonic()\n",
    "while (time.monotonic() - time_end) < end_time:\n",
    "    os.system('cmd /c \"shutdown -a\"')\n",
    "    time60 = time.monotonic()\n",
    "    while (time.monotonic() - time60) < save_time:\n",
    "        time10 = time.monotonic()\n",
    "        while (time.monotonic() - time10) < opt_time:\n",
    "            if pulsedmeasurementlogic.module_state() == 'idle':\n",
    "                break\n",
    "            pulsedmasterlogic.do_fit(fit, True)\n",
    "            time.sleep(2)\n",
    "        if pulsedmeasurementlogic.module_state() == 'idle':\n",
    "            break\n",
    "        pulsedmeasurementlogic.pause_pulsed_measurement()\n",
    "        time.sleep(5)\n",
    "        optimize()\n",
    "        pulsedmeasurementlogic.continue_pulsed_measurement()\n",
    "    pml.save_measurement_data(tag=f'{sequence_name}_{poi}_{frequency_power_MW}')\n",
    "    if pulsedmeasurementlogic.module_state() == 'idle':\n",
    "        break\n",
    "pulsedmeasurementlogic.pause_pulsed_measurement()"
   ]
  },
  {
   "cell_type": "code",
   "execution_count": 493,
   "metadata": {},
   "outputs": [
    {
     "data": {
      "text/plain": [
       "1407880.0"
      ]
     },
     "execution_count": 493,
     "metadata": {},
     "output_type": "execute_result"
    }
   ],
   "source": [
    "len(pi_pulse_test_form)/12"
   ]
  },
  {
   "cell_type": "code",
   "execution_count": 367,
   "metadata": {},
   "outputs": [
    {
     "data": {
      "text/plain": [
       "200.0"
      ]
     },
     "execution_count": 367,
     "metadata": {},
     "output_type": "execute_result"
    }
   ],
   "source": [
    "pi = 21\n",
    "round(12*(pi/2 -wav._psi_corpse(pi, np.pi)))/12 + round(12*(2*pi-2*wav._psi_corpse(pi, np.pi)))/12 + round(12*(pi/2 -wav._psi_corpse(pi, np.pi)))/12"
   ]
  },
  {
   "cell_type": "code",
   "execution_count": 487,
   "metadata": {},
   "outputs": [
    {
     "data": {
      "text/plain": [
       "1407610.0"
      ]
     },
     "execution_count": 487,
     "metadata": {},
     "output_type": "execute_result"
    }
   ],
   "source": [
    "len(pi_pulse_test_form)/12"
   ]
  },
  {
   "cell_type": "code",
   "execution_count": 451,
   "metadata": {},
   "outputs": [
    {
     "data": {
      "image/png": "[encoded data removed]"
     },
     "metadata": {
      "image/png": {
       "height": 1178,
       "width": 2396
      }
     },
     "output_type": "display_data"
    }
   ],
   "source": [
    "start =10*154480\n",
    "stop =start+ 3300\n",
    "plt.figure(figsize=(16,8))\n",
    "sin = wav.sine(200000,90, wav.awg_freq)\n",
    "plt.plot(pi_pulse_test_form[start:stop])\n",
    "plt.plot(sin[start:stop], 'r.')\n",
    "plt.show()"
   ]
  },
  {
   "cell_type": "code",
   "execution_count": 190,
   "metadata": {},
   "outputs": [
    {
     "data": {
      "text/plain": [
       "2784918000.0"
      ]
     },
     "execution_count": 190,
     "metadata": {},
     "output_type": "execute_result"
    }
   ],
   "source": [
    "wav.awg_freq"
   ]
  },
  {
   "cell_type": "code",
   "execution_count": null,
   "metadata": {},
   "outputs": [],
   "source": [
    "cmd = np.array(1000*[0.5])\n",
    "k = awg.correct_waveform_length(len(cmd))\n",
    "cmd = cmd[:k]\n",
    "waveform_cmd = awg.create_waveform(cmd, 1, 1)"
   ]
  },
  {
   "cell_type": "code",
   "execution_count": null,
   "metadata": {},
   "outputs": [],
   "source": [
    "awg.write(f'TRAC1:DEF 1,1000000000')"
   ]
  },
  {
   "cell_type": "code",
   "execution_count": null,
   "metadata": {},
   "outputs": [],
   "source": [
    "awg.write_raw(waveform_cmd)"
   ]
  },
  {
   "cell_type": "code",
   "execution_count": 42,
   "metadata": {},
   "outputs": [
    {
     "data": {
      "text/plain": [
       "0"
      ]
     },
     "execution_count": 42,
     "metadata": {},
     "output_type": "execute_result"
    }
   ],
   "source": [
    "os.system('cmd /c git commit -a -m \"EU compliance\"')"
   ]
  },
  {
   "cell_type": "code",
   "execution_count": 37,
   "metadata": {},
   "outputs": [
    {
     "data": {
      "text/plain": [
       "1"
      ]
     },
     "execution_count": 37,
     "metadata": {},
     "output_type": "execute_result"
    }
   ],
   "source": [
    "\n",
    "os.system('cmd /c git commit -m ' + '\"notebook test\"')"
   ]
  },
  {
   "cell_type": "code",
   "execution_count": 36,
   "metadata": {},
   "outputs": [
    {
     "data": {
      "text/plain": [
       "'cmd /c git commit -m \"notebook test\"'"
      ]
     },
     "execution_count": 36,
     "metadata": {},
     "output_type": "execute_result"
    }
   ],
   "source": [
    "'cmd /c git commit -m ' + '\"notebook test\"'"
   ]
  },
  {
   "cell_type": "code",
   "execution_count": null,
   "metadata": {},
   "outputs": [],
   "source": [
    "waveform_cmd_2 = waveform_cmd[14:]\n",
    "waveform_cmd_2 = 'TRAC1:DATA 1,960'.encode('ascii')+ waveform_cmd_2\n",
    "waveform_cmd_3 = waveform_cmd[14:]\n",
    "waveform_cmd_3 = 'TRAC1:DATA 1,1920'.encode('ascii')+ waveform_cmd_3\n",
    "waveforms = [waveform_cmd, waveform_cmd_2, waveform_cmd_3]"
   ]
  },
  {
   "cell_type": "code",
   "execution_count": null,
   "metadata": {},
   "outputs": [],
   "source": [
    "offset = 1\n",
    "total_len = 0\n",
    "for waveform in waveforms:\n",
    "    print(offset, total_len)    \n",
    "    overcount_val = 16 + offset + int(waveform[offset+15:offset+16].decode('UTF-8'))\n",
    "    print(waveform[offset+15:offset+16].decode('UTF-8'))\n",
    "    total_len += int((len(waveform)-overcount_val)/2)\n",
    "    print((len(waveform)-overcount_val))\n",
    "    offset = len(str(total_len))\n",
    "print(offset, total_len)"
   ]
  },
  {
   "cell_type": "code",
   "execution_count": null,
   "metadata": {},
   "outputs": [],
   "source": [
    "list_ = 5050*[1]\n",
    "list_of_lists = []\n",
    "max_len = 1000\n",
    "for i in range(0, len(list_), max_len):\n",
    "    list_of_lists.append(list_[i:i+max_len])\n",
    "len(list_of_lists)"
   ]
  },
  {
   "cell_type": "code",
   "execution_count": null,
   "metadata": {
    "scrolled": true
   },
   "outputs": [],
   "source": [
    "if len(waveform_array) > 1000:\n",
    "    \n",
    "    if type(waveform_array) != bytes:\n",
    "        bytes_array = self.convert_to_bytes(waveform_array, amp)\n",
    "    else:\n",
    "        bytes_array = waveform_array\n",
    "    header = self.create_header(bytes_array, channel)\n",
    "    cmd = header + bytes_array\n",
    "    return cmd"
   ]
  },
  {
   "cell_type": "code",
   "execution_count": null,
   "metadata": {},
   "outputs": [],
   "source": [
    "awg.create_upload_waveform(np.array(2000*[0.5]), channel=1)"
   ]
  },
  {
   "cell_type": "code",
   "execution_count": null,
   "metadata": {},
   "outputs": [],
   "source": [
    "awg.query('TRAC1:DATA? 1,0,1000000000')[:10]"
   ]
  },
  {
   "cell_type": "code",
   "execution_count": null,
   "metadata": {},
   "outputs": [],
   "source": [
    "len(hahn_echo_form)"
   ]
  },
  {
   "cell_type": "code",
   "execution_count": null,
   "metadata": {},
   "outputs": [],
   "source": [
    "len(pulsed_odmr_form)"
   ]
  },
  {
   "cell_type": "code",
   "execution_count": null,
   "metadata": {},
   "outputs": [],
   "source": [
    "tau = 1e-9\n",
    "tau_step = 1e-9\n",
    "step_number=5\n",
    "variable_start = tau*1e9\n",
    "variable_end = (tau+tau_step*(step_number))*1e9\n",
    "variable_step = tau_step*1e9\n",
    "np.arange(variable_start,variable_end,variable_step)*1e-9"
   ]
  },
  {
   "cell_type": "code",
   "execution_count": null,
   "metadata": {},
   "outputs": [],
   "source": [
    "sampling_rate = 12e9\n",
    "samples_ns = sampling_rate/1e9\n",
    "duration = 3\n",
    "t = np.linspace(0, round(duration*samples_ns), round(duration*samples_ns)+1)\n",
    "print(len(t), round(duration*samples_ns)/12)\n",
    "t"
   ]
  },
  {
   "cell_type": "code",
   "execution_count": null,
   "metadata": {},
   "outputs": [],
   "source": [
    "np.linspace(0,round(duration*samples_ns)-1, round(duration*samples_ns))"
   ]
  },
  {
   "cell_type": "code",
   "execution_count": null,
   "metadata": {},
   "outputs": [],
   "source": [
    "np.linspace(0,5,5+1)"
   ]
  },
  {
   "cell_type": "code",
   "execution_count": null,
   "metadata": {},
   "outputs": [],
   "source": [
    "plt.figure(figsize=(16,8))\n",
    "plt.plot(pi_pulse_test_form)\n",
    "plt.show()"
   ]
  },
  {
   "cell_type": "code",
   "execution_count": null,
   "metadata": {
    "scrolled": true
   },
   "outputs": [],
   "source": [
    "pi_pulse_test_form"
   ]
  },
  {
   "cell_type": "code",
   "execution_count": null,
   "metadata": {},
   "outputs": [],
   "source": [
    "if not ((freq_stop-freq_start)/freq_step)%1 ==0:\n",
    "    print('yes')"
   ]
  },
  {
   "cell_type": "code",
   "execution_count": 18,
   "metadata": {},
   "outputs": [
    {
     "data": {
      "text/plain": [
       "array([0, 1, 2, 3, 4])"
      ]
     },
     "execution_count": 18,
     "metadata": {},
     "output_type": "execute_result"
    }
   ],
   "source": [
    "np.arange(0, 5, 1)"
   ]
  },
  {
   "cell_type": "code",
   "execution_count": null,
   "metadata": {},
   "outputs": [],
   "source": [
    "#microwave_1._command_wait('OUTP:STAT OFF')"
   ]
  },
  {
   "cell_type": "code",
   "execution_count": null,
   "metadata": {},
   "outputs": [],
   "source": [
    "#microwave_1._command_wait(':POW 4')"
   ]
  },
  {
   "cell_type": "code",
   "execution_count": null,
   "metadata": {},
   "outputs": [],
   "source": [
    "microwave_1._command_wait('OUTP:STAT OFF')"
   ]
  },
  {
   "cell_type": "code",
   "execution_count": null,
   "metadata": {},
   "outputs": [],
   "source": [
    "awg.write(':INIT:CONT 1')\n",
    "awg.write('OUTP1 on')\n",
    "awg.write('INIT:IMM')"
   ]
  },
  {
   "cell_type": "code",
   "execution_count": null,
   "metadata": {},
   "outputs": [],
   "source": [
    "len([0.0, 0.9933268043692596, 0.22912808862732423, -0.9404744291317394, -0.44606485848189403, 0.8375818181821408, 0.6392676596394987, -0.6901236238294081, -0.7984566658648987, 0.5059457189378365, 0.9151618378379982, -0.2948477381261342, -0.983173592253333, 0.06806166430735092, 0.9988731978443045, 0.16234579635556343, -0.9614253188058934, -0.3841152529804546, 0.8728224608734545, 0.5854469207571239, -0.7377789551955722, -0.7556284572764836, 0.5634801208475806, 0.8856049388346171, -0.3591999524059978, -0.9684606497323753, 0.13580767444884084, 0.9997870497957888, 0.09481058204683913, -0.9779173415079603, -0.3203842102924882, 0.904015156036075, 0.5289110152488968, -0.7820126393971818, -0.7092958196851962, 0.6184012330393169, 0.8519408101433499, -0.4218862808673449, -0.9492562120111221, 0.20292384018919585, 0.9960641219909513, 0.026835658314376308, -0.9898740110731914, -0.25516730016822176, 0.931015239206195, 0.46992214349260475, -0.8226195308970043, -0.6596736330858233, 0.6704543441709949, 0.8143255781617689, -0.48261599890150647, -0.9256493448041968, 0.26909889236496765, 0.9877216805028856, -0.04126372295855777, -0.9972398752496223, -0.18876698346538745, 0.9536974902791172, 0.40875388215286196, -0.8594113043786432, -0.6069920336361715, 0.7193980440223158, 0.7729336935853748, -0.5411074562038165, -0.8977495312700339, 0.33402592647846474, 0.9747984156345096, -0.10917173268359694, -0.9999807728727281, -0.12149120940613611, 0.9719567142509287, 0.34568991539617916, -0.8922173281555716, -0.5514953463391855, 0.7650053430991502, 0.7279571223458282, -0.5970893830021603, -0.8656861642534665, 0.3974038260494627, 0.9573542624819378, -0.1765734293090883, -0.9980839922969461, -0.05365198738016558, 0.9857082290885, 0.281022719229779, -0.9208854555211831, -0.49344095192033455, 0.8070647253580221, 0.679604455317641, -0.6503021481431445, -0.8296079461918108, 0.4589386591233502, 0.9354701229694624, -0.24315621944575094, -0.9915583303493413, 0.014436060082189122, 0.9948882584650314, 0.21505220506598124, -0.9452827303698317, -0.4330980931557295, 0.8453811291682708, 0.6280999409221586, -0.70049896320094, -0.7896821994675548, 0.5183450414592391, 0.9092474906452283, -0.3086113076020968, -0.9804340515319525, 0.08245715645614574, 0.9994542275398265, 0.14808432880270478, -0.9652960038163017, -0.3707466261867511, 0.879776851962601, 0.5736824451156959, -0.7474470270246023, -0.7460940904060726, 0.5753474600755099, 0.8788079799777796, -0.37263512830608503, -0.964762747662102, 0.15009583572048105, 0.9993849604104985, 0.0804296718712956, -0.9808324589540448, -0.30667572261236914, 0.910092374380179, 0.5166043435846313, -0.7909286054156532, -0.6990457705172819, 0.6296815510151277, 0.8442927623364437, -0.4349307539711628, -0.9446170986015167, 0.21703840541556452, 0.9946807783218797, 0.012402000832143687, -0.9918200413183806, -0.24118252837853643, 0.9361871000803117, 0.4571303512857773, -0.8307420409286422, -0.6487554389639684, 0.6810953254040635, 0.80586191127136, -0.4952092719773375, -0.9200905351840534, 0.2829744014760117, 0.9853634981761624, -0.05568318780178815, -0.9982077930583464, -0.1745707856844166, 0.957940007795636, 0.3955362947599711, -0.8667026881114661, -0.595456330604805, 0.7293503381170964, 0.7636936601295929, -0.553191124580722, -0.8912968059052239, 0.3475980280907962, 0.9714763313511752, -0.12351013076428473, -0.9999660892673559, -0.1071494242966957, 0.9752502126005509, 0.33210783291274354, -0.8986437698480226, -0.5393956343054254, 0.7742227936308352, 0.7179835754503306, -0.6086074054372216, -0.8583694493831333, 0.4106095759130839, 0.95308368329609, -0.19076426247247924, -0.9970867753766267, -0.039231128805331895, 0.9880374337920469, 0.2671391321947956, -0.9264171508316766, -0.4808333465338353, 0.8155045839352778, 0.6689436499727708, -0.6612011067277475, -0.8214611750374506, 0.4717168120424621, 0.9302708548338965, -0.2571336739088217, -0.9895832049741623, 0.028869111535143568, 0.9962423672129288, 0.20093150232629534, -0.9498940245823615, -0.4200410655573901, 0.8530042536904311, 0.6168013194630898, -0.7107283111005758, -0.7807431548585646, 0.5306363353331734, 0.9031436465560626, -0.3223105591826801, -0.9774901778739328, 0.09683546365208866, 0.9998269602907133, 0.13379199889273438, -0.9689655108210237, -0.3573007318330627, 0.8865478881514893, 0.5617984079203793, -0.7569593229034072, -0.7364042295518543, 0.5870948907425824, 0.8718278681439371, -0.38599264306220804, -0.9608637787224421, 0.16435271541552215, 0.998774588516581, 0.06603199929242054, -0.9835431604311233, -0.2929033204334764, 0.9159799197450604, 0.5041900060529461, -0.7996797334581514, -0.6886500327383617, 0.6408306366247571, 0.8364687548928529, -0.44788458285669525, -0.939781116891125, 0.23110773751820263, 0.9930901325460137, -0.0020342413596329254, -0.9935593656649456, -0.22714749157181457, 0.941163849555441, 0.44424328822729503, -0.8386914154387828, -0.6377020372737615, 0.6915943590907625, 0.7972302941444129, -0.5076993381474104, -0.9143399688611269, 0.2967909356969611, 0.9827999555634176, -0.07009104767342961, -0.9989676736927042, -0.16033820548560135, 0.9619828803746703, 0.3822362733751866, -0.8738134417395323, -0.5837965281090626, 0.7391506278050591, 0.7542944647515468, -0.5651595020139322, -0.8846583247585903, 0.3610976865584816, 0.9679517810158492, -0.1378227880134658, -0.9997430020398931, -0.09278530810196242, 0.9783404583809782, 0.3184565356068517, -0.9048829245728356, -0.5271835064556332, 0.7832788878562937, 0.7078603931028898, -0.6199985875833111, -0.8508738411440361, 0.4237297503519072, 0.9486144712827024, -0.204915338324378, -0.9958817549140091, -0.024802094043839176, 0.9901607209328183, 0.2531998705090239, -0.9317557709050627, -0.46812553033809934, 0.8237744826399546, 0.658143429620585, -0.6719622639338529, -0.8131432025932119, 0.4843966541355757, 0.9248777083081098, -0.27105753896563245, -0.9874018398809705, 0.04329614635668755, 0.9973888484022206, 0.18676892331364936, -0.9543073507263147, -0.4068964969109808, 0.8604496030079613, 0.6053741500157551, -0.720809535622923, -0.7716413950303685, 0.5428170389225897, 0.8968515776768461, -0.33594263779738015, -0.974342584814005, 0.11119358930234517, 0.9999913184154748, 0.1194717853000881, -0.9724330750555826, -0.34378037218753854, 0.8931341582837764, 0.5497972859314887, -0.766313860367858, -0.7265608941844792, 0.5987199645587028, 0.8646660580630269, -0.3992697128253631, -0.9567645555001748, 0.17857534224785843, 0.9979560613220679, 0.0516205649390472, -0.9860488810000275, -0.27906987407163003, 0.9216765651033678, 0.49167058993446067, -0.808264199696094, -0.6781107729313494, 0.6518461662795652, 0.8284704184193518, -0.46074506780754554, -0.9347492747502194, 0.2451289042979825, 0.9912925161709412, -0.01647005959373685, -0.9950916216191034, -0.21306511479973955, 0.9459444504238077, 0.43126364011877877, -0.8464659976927804, -0.6265157316623463, 0.7019492571202641, 0.78843252570223, -0.520083594348386, -0.908398844314875, 0.3105456155143521, 0.9800315869343523, -0.0844842998215012, -0.9995193587854483, -0.14607220909083543, 0.9658252654383817, 0.36885658986516145, -0.8807420833057268, -0.5720150561763986, 0.7487968706010545, 0.7447380663440527, -0.5770100941657251, -0.8778354713605793, 0.37452208840829937, 0.9642254991824879, -0.15210672152029078, -0.9993115576841006, -0.07840185445708361, 0.9812268075519626, 0.3047388685548679, -0.9109334920234547, -0.5148615079278667, 0.7921717383887376, 0.6975896850828279, -0.6312605553963261, -0.8432009017011006, 0.43676161498129334, 0.9439475578733603, -0.21902370762939322, -0.9944691820482335, -0.010367890260826945, 0.9920776479950655, 0.23920783926372569, -0.9369002031157944, -0.45532015177778595, 0.831872697936785, 0.647206045142474, -0.6825833770212051, -0.8046557624135318, 0.4969755427879344, 0.9192918073814557, -0.2849249127339213, -0.9850146896895456, 0.05771415779846199, 0.9983274630939627, 0.1725674196610395, -0.9585217890173723])"
   ]
  },
  {
   "cell_type": "code",
   "execution_count": null,
   "metadata": {},
   "outputs": [],
   "source": [
    "awg.get_amplitude()"
   ]
  },
  {
   "cell_type": "code",
   "execution_count": null,
   "metadata": {},
   "outputs": [],
   "source": [
    "#awg.write('DC:VOLT:AMPL 0.1')\n",
    "awg.query('DC:VOLT:AMPL?')"
   ]
  },
  {
   "cell_type": "code",
   "execution_count": null,
   "metadata": {
    "scrolled": true
   },
   "outputs": [],
   "source": [
    "awg.query('INIT:CONT?')"
   ]
  },
  {
   "cell_type": "code",
   "execution_count": null,
   "metadata": {},
   "outputs": [],
   "source": [
    "16*np.int16(0.89532947517898*2047)"
   ]
  },
  {
   "cell_type": "code",
   "execution_count": null,
   "metadata": {},
   "outputs": [],
   "source": [
    "16*np.int16(0.906489224154323*2047)"
   ]
  },
  {
   "cell_type": "code",
   "execution_count": null,
   "metadata": {},
   "outputs": [],
   "source": [
    "pulsed_odmr_form[30*132985:30*132985+50]"
   ]
  },
  {
   "cell_type": "code",
   "execution_count": null,
   "metadata": {},
   "outputs": [],
   "source": [
    "pulsed_odmr_form[132985:133035]"
   ]
  },
  {
   "cell_type": "code",
   "execution_count": null,
   "metadata": {},
   "outputs": [],
   "source": [
    "pulsed_odmr_form[0:50]"
   ]
  },
  {
   "cell_type": "code",
   "execution_count": null,
   "metadata": {},
   "outputs": [],
   "source": [
    "t_sin = np.linspace(0,10000,1)\n",
    "test_sin = np.sin"
   ]
  },
  {
   "cell_type": "code",
   "execution_count": null,
   "metadata": {},
   "outputs": [],
   "source": [
    "#t = np.linspace(0,len(pulsed_odmr_form), len(pulsed_odmr_form))/12\n",
    "start = 0\n",
    "stop = 100\n",
    "#plt.plot(t[start:stop],pulsed_odmr_form[start:stop])\n",
    "plt.plot(t[start:stop], test_sin[start:stop])\n",
    "plt.show()"
   ]
  },
  {
   "cell_type": "code",
   "execution_count": null,
   "metadata": {
    "scrolled": false
   },
   "outputs": [],
   "source": []
  },
  {
   "cell_type": "code",
   "execution_count": null,
   "metadata": {},
   "outputs": [],
   "source": [
    "awg.write('INIT:IMM')"
   ]
  },
  {
   "cell_type": "code",
   "execution_count": null,
   "metadata": {},
   "outputs": [],
   "source": [
    "awg.query('TRAC1:DATA? 1,0,24000')"
   ]
  },
  {
   "cell_type": "code",
   "execution_count": null,
   "metadata": {},
   "outputs": [],
   "source": [
    "bytes_ = awg.create_waveform(sin)"
   ]
  },
  {
   "cell_type": "code",
   "execution_count": null,
   "metadata": {},
   "outputs": [],
   "source": [
    "len(bytes_)"
   ]
  },
  {
   "cell_type": "code",
   "execution_count": null,
   "metadata": {},
   "outputs": [],
   "source": [
    "2*(24000001.5+11)"
   ]
  },
  {
   "cell_type": "code",
   "execution_count": null,
   "metadata": {},
   "outputs": [],
   "source": [
    "wave = awg.create_waveform(sin)"
   ]
  },
  {
   "cell_type": "code",
   "execution_count": null,
   "metadata": {},
   "outputs": [],
   "source": [
    "len(wave)-17-int(wave[16:17].decode('UTF-8'))"
   ]
  },
  {
   "cell_type": "code",
   "execution_count": null,
   "metadata": {},
   "outputs": [],
   "source": [
    "wave[16:17].decode('UTF-8')"
   ]
  },
  {
   "cell_type": "code",
   "execution_count": null,
   "metadata": {},
   "outputs": [],
   "source": [
    "sampling_rate = 12e9"
   ]
  },
  {
   "cell_type": "code",
   "execution_count": null,
   "metadata": {},
   "outputs": [],
   "source": [
    "def sine(duration, freq, phase):\n",
    "        duration = int(duration)\n",
    "        samples_ns = sampling_rate/1e9\n",
    "        t = np.linspace(0, duration*samples_ns, duration*samples_ns)\n",
    "        freq = 2*np.pi*freq/samples_ns*1e-9\n",
    "        phase = np.radians(phase)\n",
    "        return np.sin(freq*t+phase).tolist()\n",
    "    \n",
    "def zero(duration, offset=0):\n",
    "        if offset < -1 or offset > 1:\n",
    "            raise ValueError('offset must be between -1 and 1')\n",
    "        if duration < 0:\n",
    "            raise ValueError('duration cannot be negative')\n",
    "        samples_ns = sampling_rate/1e9\n",
    "        duration = int(duration*samples_ns)\n",
    "        return duration * [offset]"
   ]
  },
  {
   "cell_type": "code",
   "execution_count": null,
   "metadata": {},
   "outputs": [],
   "source": [
    "sin = sine(2000, 1e6, 0)\n",
    "t = np.linspace(0,2000*12,2000*12)\n",
    "zer = zero(2000)"
   ]
  },
  {
   "cell_type": "code",
   "execution_count": null,
   "metadata": {},
   "outputs": [],
   "source": [
    "plt.plot(t/12, zer)\n",
    "plt.show()"
   ]
  },
  {
   "cell_type": "code",
   "execution_count": null,
   "metadata": {},
   "outputs": [],
   "source": [
    "freq_start = 90\n",
    "freq_stop = 110\n",
    "freq_step = 3"
   ]
  },
  {
   "cell_type": "code",
   "execution_count": null,
   "metadata": {},
   "outputs": [],
   "source": [
    "list_ = np.arange(freq_start, freq_stop+freq_step, freq_step)"
   ]
  },
  {
   "cell_type": "code",
   "execution_count": null,
   "metadata": {},
   "outputs": [],
   "source": [
    "for freq in list_:\n",
    "    print(freq)"
   ]
  }
 ],
 "metadata": {
  "kernelspec": {
   "display_name": "Qudi",
   "language": "python",
   "name": "qudi"
  },
  "language_info": {
   "codemirror_mode": {
    "name": "ipython",
    "version": "3.6.5"
   },
   "file_extension": ".py",
   "mimetype": "text/x-python",
   "name": "python",
   "nbconvert_exporter": "python",
   "pygments_lexer": "ipython3",
   "version": "3.6.5"
  }
 },
 "nbformat": 4,
 "nbformat_minor": 2
}
