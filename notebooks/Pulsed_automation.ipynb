{
 "cells": [
  {
   "cell_type": "markdown",
   "metadata": {},
   "source": [
    "## Pulsed Measurement bit"
   ]
  },
  {
   "cell_type": "markdown",
   "metadata": {},
   "source": [
    "### Import dependencies and optimize function"
   ]
  },
  {
   "cell_type": "code",
   "execution_count": 9,
   "metadata": {},
   "outputs": [],
   "source": [
    "odmr = odmrlogic\n",
    "import time\n",
    "from tqdm import tqdm\n",
    "import glob\n",
    "from pandas import read_csv\n",
    "import os\n",
    "poi_m = poimanagerlogic\n",
    "pml = pulsedmeasurementlogic\n",
    "def optimize(poi):\n",
    "    if not poi == 'ref_auto_poi':\n",
    "        #poi_m.go_to_poi(poi)\n",
    "        confocal.refocus_clicked()\n",
    "        time.sleep(1)\n",
    "        while optimizerlogic.module_state()=='locked':\n",
    "           time.sleep(1)\n",
    "        return\n",
    "    poi_m.optimise_poi_position(name=poi)\n",
    "    while optimizerlogic.module_state()=='locked':\n",
    "        time.sleep(1)    \n",
    "\n",
    "end_time =30*60\n",
    "save_time =30*60\n",
    "opt_time = 10*60\n",
    "\n",
    "# end_time = 60*60\n",
    "# save_time = 30*60\n",
    "# opt_time = 10*60\n",
    "my_range = np.arange(8e6, 10e6)"
   ]
  },
  {
   "cell_type": "markdown",
   "metadata": {},
   "source": [
    "### Run any GUI loaded regular pulsed measurement and save with tag "
   ]
  },
  {
   "cell_type": "markdown",
   "metadata": {},
   "source": [
    "#### optimize - continue_pulsed - wait - pause_pulsed - optimize - save - repeat"
   ]
  },
  {
   "cell_type": "code",
   "execution_count": 10,
   "metadata": {},
   "outputs": [
    {
     "data": {
      "text/plain": [
       "'C:/Data\\\\2021\\\\01\\\\20210127\\\\PulsedMeasurement'"
      ]
     },
     "execution_count": 10,
     "metadata": {},
     "output_type": "execute_result"
    }
   ],
   "source": [
    "poi = 'site_3_10_4'\n",
    "sequence_name = 'rabi_AWG'\n",
    "fit = 'sineexp'\n",
    "frequency_power_MW = '2772558KHzs_0p5amp'\n",
    "#optimize('ref_auto_poi ')\n",
    "optimize(poi)\n",
    "pulsedmeasurementlogic.continue_pulsed_measurement()\n",
    "time_end = time.monotonic()\n",
    "while (time.monotonic() - time_end) < end_time:\n",
    "    os.system('cmd /c \"shutdown -a\"')\n",
    "    time60 = time.monotonic()\n",
    "    while (time.monotonic() - time60) < save_time:\n",
    "        time10 = time.monotonic()\n",
    "        while (time.monotonic() - time10) < opt_time:\n",
    "            pulsedmasterlogic.do_fit(fit, False)\n",
    "            time.sleep(10)\n",
    "        pulsedmeasurementlogic.pause_pulsed_measurement()\n",
    "        time.sleep(5)\n",
    "        #optimize('ref_auto_poi')\n",
    "        optimize(poi)\n",
    "        pulsedmeasurementlogic.continue_pulsed_measurement()\n",
    "    pml.save_measurement_data(tag=f'{sequence_name}_{poi}_{frequency_power_MW}')\n",
    "pulsedmeasurementlogic.pause_pulsed_measurement()\n",
    "pml.save_measurement_data(tag=f'{sequence_name}_{poi}_{frequency_power_MW}_final')"
   ]
  },
  {
   "cell_type": "code",
   "execution_count": 11,
   "metadata": {},
   "outputs": [
    {
     "data": {
      "text/plain": [
       "'C:/Data\\\\2021\\\\01\\\\20210127\\\\PulsedMeasurement'"
      ]
     },
     "execution_count": 11,
     "metadata": {},
     "output_type": "execute_result"
    }
   ],
   "source": [
    "# poi = 'site_3_10_4'\n",
    "# sequence_name = 'pi_pulse_test_AWG_22p16ns'\n",
    "# frequency_power_MW = '2772138KHz_0p5amp'\n",
    "pml.save_measurement_data(tag=f'{sequence_name}_{poi}_{frequency_power_MW}_final')"
   ]
  },
  {
   "cell_type": "code",
   "execution_count": 4,
   "metadata": {},
   "outputs": [],
   "source": [
    "for i in range(5):\n",
    "    time.sleep(5)\n",
    "    optimize(poi)"
   ]
  },
  {
   "cell_type": "markdown",
   "metadata": {},
   "source": [
    "### Run ODMR"
   ]
  },
  {
   "cell_type": "markdown",
   "metadata": {},
   "source": [
    "#### optimize - odmr - save \n",
    "For long ODMR on a single spot"
   ]
  },
  {
   "cell_type": "code",
   "execution_count": 10,
   "metadata": {},
   "outputs": [],
   "source": [
    "poi = 'site_1_11_14'\n",
    "optimize(poi)\n",
    "odmr.continue_odmr_scan()\n",
    "time_end = time.monotonic()\n",
    "while (time.monotonic() - time_end) < end_time:\n",
    "    time60 = time.monotonic()\n",
    "    while (time.monotonic() - time60) < save_time:\n",
    "        time10 = time.monotonic()\n",
    "        while (time.monotonic() - time10) < opt_time:\n",
    "            time.sleep(10)\n",
    "        odmr.stop_odmr_scan()\n",
    "        time.sleep(5)\n",
    "        optimize(poi)\n",
    "        odmr.continue_odmr_scan()\n",
    "    odmr.save_odmr_data(tag=f'{poi}_podmr_MW1_m24dbm_pi318ns_200uW')\n",
    "odmr.stop_odmr_scan()    \n",
    "odmr.save_odmr_data(tag=f'{poi}_podmr_MW1_m24dbm_pi318ns_200uW_final')"
   ]
  },
  {
   "cell_type": "markdown",
   "metadata": {},
   "source": [
    "# Run pulsed measurements after setting parameters\n",
    "#### poi from loop - optimize - take one set of params - set_params - continue_pulsed - wait - pause_pulsed - optimize - save - stop - repeat"
   ]
  },
  {
   "cell_type": "code",
   "execution_count": 14,
   "metadata": {},
   "outputs": [],
   "source": [
    "def run_measurement(set_params, measurement_tag, fit=False):\n",
    "    for poi in poi_parameters.keys():\n",
    "        #optimize('ref_auto_poi')\n",
    "        optimize(poi)\n",
    "        os.system('cmd /c \"shutdown -a\"')\n",
    "        for i in range(len(poi_parameters[poi])):\n",
    "            params = poi_parameters[poi][i]\n",
    "            set_params(params)\n",
    "            time.sleep(3)\n",
    "            pulsedmeasurementlogic.start_pulsed_measurement()\n",
    "            time_end = time.monotonic()\n",
    "            while (time.monotonic() - time_end) < end_time:\n",
    "                time60 = time.monotonic()\n",
    "                while (time.monotonic() - time60) < save_time:\n",
    "                    time10 = time.monotonic()\n",
    "                    time.sleep(1) #optimiser is running before and after saving. Perhaps needs a small delay here?\n",
    "                    while (time.monotonic() - time10) < opt_time:\n",
    "                        time.sleep(10)\n",
    "                    pulsedmeasurementlogic.pause_pulsed_measurement()\n",
    "                    time.sleep(5)\n",
    "                    #optimize('ref_auto_poi')\n",
    "                    optimize(poi)\n",
    "                    pulsedmeasurementlogic.continue_pulsed_measurement()\n",
    "                if fit:\n",
    "                    pulsedmasterlogic.do_fit('rabi')\n",
    "                    time.sleep(0.5)\n",
    "                pulsedmeasurementlogic.pause_pulsed_measurement()\n",
    "                time.sleep(5)\n",
    "                pml.save_measurement_data(tag=f'{measurement_tag}_{poi}_params_{params}')\n",
    "                time.sleep(2)\n",
    "                pulsedmasterlogic.do_fit('No Fit')\n",
    "                pulsedmeasurementlogic.continue_pulsed_measurement()\n",
    "            pulsedmeasurementlogic.pause_pulsed_measurement()  #CHANGED TO PAUSE\n",
    "            if fit:\n",
    "                pulsedmasterlogic.do_fit('rabi')\n",
    "                time.sleep(0.5)\n",
    "            pml.save_measurement_data(tag=f'{measurement_tag}_{poi}_params_{params}')\n",
    "            if fit:\n",
    "                rabi_frequency = pulsedmasterlogic.fit_container.current_fit_result.best_values['frequency']\n",
    "                poi_parameters[poi][i][0], ideal = determine_ideal_mw_power(rabi_frequency, poi_parameters[poi][i][0])\n",
    "                if ideal:\n",
    "                    print('Ideal: ', poi, poi_parameters[poi][i] )\n",
    "                    del poi_parameters[poi][i]\n",
    "                    if not poi_parameters[poi]:\n",
    "                        del poi_parameters[poi]"
   ]
  },
  {
   "cell_type": "markdown",
   "metadata": {},
   "source": [
    "### Set parameters function for T2"
   ]
  },
  {
   "cell_type": "code",
   "execution_count": 15,
   "metadata": {},
   "outputs": [],
   "source": [
    "poi_parameters = {\n",
    " #   'auto_spot_2_140' : [(116e-9, -4, 2828e6, 'd_ch3'),(130e-9, -1, 2800e6, 'd_ch3')],\n",
    "#      'auto_spot_2_140' : [(130e-9, -1, 2800e6, 'd_ch3')],\n",
    "#      'auto_spot11': [(140e-9, -10, 2805e6, 'd_ch3'), (76e-9, -4, 2828e6,'d_ch4')],\n",
    "# #     'auto_spot_2_145' : [(102e-9, -4, 2800e6), (104e-9, -6, 2827e6)],\n",
    "#  #    'auto_spot25' : [(104e-9, -9, 2804e6),(97e-9, -10, 2828e6)]\n",
    "#     'auto_spot53': [(128e-9, -7, 2805e6, 'd_ch3'), (104e-9, -4, 2828e6,'d_ch4')],\n",
    "#     'auto_spot56': [(128e-9, -4, 2800e6, 'd_ch3'), (96e-9, -3, 2829e6,'d_ch4')],\n",
    "#     'auto_spot81': [(120e-9, -3, 2800e6, 'd_ch3'), (80e-9, -1, 2830e6,'d_ch4')]\n",
    "#     'auto_spot_2_179': [(125e-9, -1, 2800e6, 'd_ch3'), (120e-9, 0, 2826e6,'d_ch4')],\n",
    "#     'auto_spot_2_165': [(105e-9, -2, 2805e6, 'd_ch3'), (115e-9, -2, 2829e6,'d_ch4')],\n",
    "#     'auto_spot_2_106': [(95e-9, -2, 2806e6, 'd_ch3'), (100e-9, -2, 2833e6,'d_ch4')],\n",
    "#     'auto_spot_2_84': [(120e-9, -2, 2801e6, 'd_ch3'), (100e-9, -2, 2833e6,'d_ch4')]\n",
    "#    'ref_auto_poi': [(130e-9, -6, 2806e6, 'd_ch3')]\n",
    " #   'auto_spot_2_284': [(120e-9, -10, 2806e6, 'd_ch3'), (112e-9, -10, 2830e6,'d_ch4')]\n",
    "    'auto_spot_2_284': [(100e-9, -7, 2917e6, 'd_ch4'), (120e-9, -10, 2833e6,'d_ch4')]\n",
    "}\n",
    "\n",
    "def set_T2_params(params):\n",
    "    rabi_period, dbm, mw_freq, mw_ch = params\n",
    "    sequencegeneratorlogic.set_generation_parameters({'laser_channel':'d_ch1',\n",
    "                                                     'sync_channel': '',\n",
    "                                                    'gate_channel': 'd_ch2',\n",
    "                                                    'microwave_channel': mw_ch,\n",
    "                                                    'microwave_frequency': 2829000000.0,\n",
    "                                                    'microwave_amplitude': 0.0,\n",
    "                                                    'rabi_period': rabi_period,\n",
    "                                                    'laser_length': 3.2000000000000003e-06,\n",
    "                                                    'laser_delay': 5e-07,\n",
    "                                                    'wait_time': 1e-05,\n",
    "                                                    'analog_trigger_voltage': 0.0\n",
    "                                                    })\n",
    "    if mw_ch == 'd_ch3':\n",
    "        microwave_2.off()\n",
    "        time.sleep(0.5)\n",
    "        pulsedmasterlogic.set_ext_microwave_settings(power=dbm, frequency=mw_freq, use_ext_microwave=True)\n",
    "        time.sleep(0.5)\n",
    "    else:\n",
    "        pulsedmasterlogic.set_ext_microwave_settings(use_ext_microwave=False)\n",
    "        time.sleep(0.5)\n",
    "        microwave_2.set_cw(mw_freq, dbm)\n",
    "        time.sleep(0.5)\n",
    "        microwave_2.cw_on()\n",
    "        time.sleep(0.5)\n",
    "    #sequencegeneratorlogic.sample_pulse_block_ensemble('hahn_echo')\n",
    "    #sequencegeneratorlogic.load_ensemble('hahn_echo')\n",
    "    generate_params = pulsedmasterlogic.generate_method_params['hahnecho']\n",
    "    generate_params = {'name': 'hahnecho',\n",
    "                      'tau_start': 50e-9,\n",
    "                      'tau_step': 500e-9,\n",
    "                      'num_of_points': 130}\n",
    "    # Call the actual generation method using a wrapper method and pass the parameter set\n",
    "    pulsedmasterlogic.generate_predefined_sequence('hahnecho', generate_params)\n",
    "    # Give it a moment to generate\n",
    "    time.sleep(0.5)\n",
    "    # The \"with_load\" flag can be used to also load the waveform into the channels after creating it\n",
    "    pulsedmasterlogic.sample_ensemble('hahnecho', with_load=True)\n",
    "    # Wait for the sampling to finish. There is a status dictionary that can be used to check for process status.\n",
    "    while pulsedmasterlogic.status_dict['sampload_busy']:\n",
    "        time.sleep(0.1)\n",
    "    pulsedmasterlogic.set_alternative_data_type('Delta')\n",
    "    time.sleep(0.5)"
   ]
  },
  {
   "cell_type": "markdown",
   "metadata": {},
   "source": [
    "### Set parameters for Rabi"
   ]
  },
  {
   "cell_type": "code",
   "execution_count": 8,
   "metadata": {},
   "outputs": [],
   "source": [
    "poi_parameters = {}\n",
    "pois = [\n",
    "    'auto_spot11',\n",
    "    'auto_spot18',\n",
    "    'auto_spot25',\n",
    "    'auto_spot53',\n",
    "    'auto_spot56',\n",
    "    'auto_spot60',\n",
    "    'auto_spot81',\n",
    "    'auto_spot85',\n",
    "    'auto_spot_2_3',\n",
    "    'auto_spot_2_9',\n",
    "    'auto_spot_2_22',\n",
    "    'auto_spot_2_24',\n",
    "    'auto_spot_2_37',\n",
    "    'auto_spot_2_58',\n",
    "    'auto_spot_2_63',\n",
    "    'auto_spot_2_84',\n",
    "    'auto_spot_2_106',\n",
    "    'auto_spot_2_117',\n",
    "    'auto_spot_2_120',\n",
    "    'auto_spot_2_127',\n",
    "    'auto_spot_2_129',\n",
    "    'auto_spot_2_139',\n",
    "    'auto_spot_2_148',\n",
    "    'auto_spot_2_165',\n",
    "    'auto_spot_2_175',\n",
    "    'auto_spot_2_179',\n",
    "    'auto_spot_2_277',\n",
    "    'auto_spot_2_278'\n",
    "]\n",
    "def get_center_frequencies(poi):\n",
    "    loc = glob.glob('C:/Users/PI3/Desktop/NV Pair Lab data/Auto Rabi/*'+poi+'_*.dat')[0]\n",
    "    data = read_csv(loc, skiprows=31, header=None, delimiter='\\t', names=['x','y'])\n",
    "    x = np.asarray(data['x'])\n",
    "    y = np.asarray(data['y'])\n",
    "    split = list(np.where(np.abs(x-2.87e9)<=100e4))[0][-1]\n",
    "    x = x[:split]\n",
    "    y = y[:split]\n",
    "    result = fitlogic.make_lorentziandouble_fit(x_axis=x, data=y, estimator=fitlogic.estimate_lorentziandouble_dip)\n",
    "    l0, l1 = result.params['l0_center'].value, result.params['l1_center'].value\n",
    "    poi_parameters[poi] = [(-4, l0, 'd_ch3', 10e-9, 10e-9, 50),(-4, l1, 'd_ch4', 10e-9, 10e-9, 50)]"
   ]
  },
  {
   "cell_type": "code",
   "execution_count": 22,
   "metadata": {},
   "outputs": [],
   "source": [
    "def determine_ideal_mw_power(rabi_frequency, p0):\n",
    "    v1 = np.average(my_range)\n",
    "    if int(rabi_frequency) in my_range:\n",
    "        return p0, True\n",
    "    p1 = p0 - 20*np.log10(rabi_frequency/v1) \n",
    "    return round(p1,2), False #Smiq only takes a power value rounded to decimals anyway"
   ]
  },
  {
   "cell_type": "code",
   "execution_count": 23,
   "metadata": {},
   "outputs": [
    {
     "data": {
      "text/plain": [
       "(-4.92, False)"
      ]
     },
     "execution_count": 23,
     "metadata": {},
     "output_type": "execute_result"
    }
   ],
   "source": [
    "determine_ideal_mw_power(10e6, -4)"
   ]
  },
  {
   "cell_type": "code",
   "execution_count": 4,
   "metadata": {},
   "outputs": [],
   "source": [
    "def set_rabi_params(params):\n",
    "    dbm, mw_freq, mw_ch, tau_start, tau_step, number_of_taus = params\n",
    "    pulsedmasterlogic.set_generation_parameters(\n",
    "                                                {'laser_channel':'d_ch1',\n",
    "                                                 'sync_channel': '',\n",
    "                                                'gate_channel': 'd_ch2',\n",
    "                                                'microwave_channel': mw_ch,\n",
    "                                                'microwave_frequency': mw_freq,\n",
    "                                                'microwave_amplitude': dbm,\n",
    "                                                'rabi_period': 100e-9,\n",
    "                                                'laser_length': 3.2000000000000003e-06,\n",
    "                                                'laser_delay': 5e-07,\n",
    "                                                'wait_time': 1e-05,\n",
    "                                                'analog_trigger_voltage': 0.0\n",
    "                                                })\n",
    "    generate_params = pulsedmasterlogic.generate_method_params['rabi']\n",
    "    generate_params = {'name': 'my_rabi',\n",
    "                      'tau_start': tau_start,\n",
    "                      'tau_step': tau_step,\n",
    "                      'num_of_points': number_of_taus}\n",
    "    # Call the actual generation method using a wrapper method and pass the parameter set\n",
    "    pulsedmasterlogic.generate_predefined_sequence('rabi', generate_params)\n",
    "    # Give it a moment to generate\n",
    "    time.sleep(0.5)\n",
    "    # The \"with_load\" flag can be used to also load the waveform into the channels after creating it\n",
    "    pulsedmasterlogic.sample_ensemble('my_rabi', with_load=True)\n",
    "    # Wait for the sampling to finish. There is a status dictionary that can be used to check for process status.\n",
    "    while pulsedmasterlogic.status_dict['sampload_busy']:\n",
    "        time.sleep(0.1)\n",
    "        \n",
    "    pulsedmasterlogic.set_alternative_data_type('FFT')\n",
    "    time.sleep(0.5)\n",
    "    \n",
    "    if mw_ch == 'd_ch3':\n",
    "        pulsedmasterlogic.set_ext_microwave_settings(power=dbm, frequency=mw_freq, use_ext_microwave=True)\n",
    "        time.sleep(0.5)\n",
    "    else:\n",
    "        pulsedmasterlogic.set_ext_microwave_settings(use_ext_microwave=False)\n",
    "        microwave_2.set_cw(mw_freq, dbm)\n",
    "        time.sleep(0.5)\n",
    "        microwave_2.cw_on()\n",
    "        time.sleep(0.5) "
   ]
  },
  {
   "cell_type": "code",
   "execution_count": 9,
   "metadata": {},
   "outputs": [],
   "source": [
    "for poi in pois[:3]:\n",
    "    get_center_frequencies(poi)"
   ]
  },
  {
   "cell_type": "code",
   "execution_count": 11,
   "metadata": {},
   "outputs": [
    {
     "name": "stdout",
     "output_type": "stream",
     "text": [
      "currently loaded asset: ('my', 'PulseBlockEnsemble')\n",
      "currently loaded asset: ('my', 'PulseBlockEnsemble')\n",
      "currently loaded asset: ('my', 'PulseBlockEnsemble')\n",
      "currently loaded asset: ('my', 'PulseBlockEnsemble')\n",
      "currently loaded asset: ('my', 'PulseBlockEnsemble')\n",
      "currently loaded asset: ('my', 'PulseBlockEnsemble')\n"
     ]
    }
   ],
   "source": [
    "while poi_parameters:\n",
    "    run_measurement(set_rabi_params, 'Rabi_long', True)"
   ]
  },
  {
   "cell_type": "code",
   "execution_count": 16,
   "metadata": {},
   "outputs": [],
   "source": [
    "run_measurement(set_T2_params, 'T2_long')"
   ]
  },
  {
   "cell_type": "code",
   "execution_count": 5,
   "metadata": {},
   "outputs": [
    {
     "data": {
      "text/plain": [
       "0"
      ]
     },
     "execution_count": 5,
     "metadata": {},
     "output_type": "execute_result"
    }
   ],
   "source": [
    "#pulsedmasterlogic.set_ext_microwave_settings(power=-1, frequency=2.8e9, use_ext_microwave=True)\n",
    "sequencegeneratorlogic.sample_pulse_block_ensemble('rabi')\n",
    "sequencegeneratorlogic.load_ensemble('rabi')"
   ]
  },
  {
   "cell_type": "code",
   "execution_count": 11,
   "metadata": {},
   "outputs": [],
   "source": [
    "set_T2_params((150e-9, -1, 2800e6, 'd_ch3'))"
   ]
  },
  {
   "cell_type": "markdown",
   "metadata": {},
   "source": [
    "## Set parameters for Coupled measurement"
   ]
  },
  {
   "cell_type": "code",
   "execution_count": 15,
   "metadata": {},
   "outputs": [],
   "source": [
    "import pickle\n",
    "import os\n",
    "poi_parameters = {\n",
    "    #'site_2_11_19' : [((61.5e-9, 24.5e-9, 101.5e-9, 6, 2833e6, 'd_ch4', 61e-9, 27.55e-6, 6, 2774e6, 'd_ch3', False))]\n",
    "    'site_3_10_4' : [((18e-9, 7e-9, 30e-9, -3, 2772e6, 'd_ch3', 57e-9, 24e-6, 0, 2848e6, 'd_ch4', True))]\n",
    "    #'site_1_11_14' : [((70e-9, 31.5e-9, 113.5e-9, 6, 2758e6, 'd_ch3', 96e-9, 1e-6, 6, 2810e6, 'd_ch4', True))]\n",
    "    \n",
    "}\n",
    "def set_hahn_echo_coupled_params(params):\n",
    "    nv_a_pi, nv_a_pi_half, nv_a_pi_three_half, nv_a_dbm, nv_a_mw_freq, nv_a_mw_ch, nv_b_pi, tau, nv_b_dbm, nv_b_mw_freq, nv_b_mw_ch, nv_a_equal_nv_1 = params\n",
    "    \n",
    "    blockname = 'hahn_echo_coupled'\n",
    "    file = open(sequencegeneratorlogic._assets_storage_dir+'\\\\'+blockname+'.block', 'rb')\n",
    "    data = pickle.load(file)\n",
    "    data, tau_step = change_hahn_echo_coupled_data(data, nv_a_pi, nv_a_pi_half, nv_a_pi_three_half, nv_b_pi, tau, nv_a_equal_nv_1)\n",
    "\n",
    "    filename = '{0}.block'.format(blockname)\n",
    "    with open(os.path.join(sequencegeneratorlogic._assets_storage_dir, filename), 'wb') as file:\n",
    "        pickle.dump(data, file)\n",
    "    sequencegeneratorlogic._update_blocks_from_file()\n",
    "    sequencegeneratorlogic._update_ensembles_from_file()\n",
    "    sequencegeneratorlogic.sample_pulse_block_ensemble(blockname)\n",
    "    sequencegeneratorlogic.load_ensemble(blockname)\n",
    "    time.sleep(2)\n",
    "    \n",
    "    pulsedmasterlogic.set_measurement_settings(invoke_settings=False, \n",
    "                                           controlled_variable=10e-9 + np.arange(50) * tau_step,\n",
    "                                           number_of_lasers=100, \n",
    "                                           laser_ignore_list=[], \n",
    "                                           alternating=True, \n",
    "                                           units=('s', 'arb. u.'))\n",
    "    time.sleep(0.5)\n",
    "    pulsedmasterlogic.set_alternative_data_type('Delta')\n",
    "    time.sleep(0.5)\n",
    "    \n",
    "    pulsedmasterlogic.set_ext_microwave_settings(use_ext_microwave=False)\n",
    "    time.sleep(0.5)\n",
    "    if nv_a_mw_ch == 'd_ch3':\n",
    "        microwave_1.set_cw(nv_a_mw_freq, nv_a_dbm)\n",
    "        microwave_2.set_cw(nv_b_mw_freq, nv_b_dbm)\n",
    "    else:\n",
    "        microwave_1.set_cw(nv_b_mw_freq, nv_b_dbm)\n",
    "        microwave_2.set_cw(nv_a_mw_freq, nv_a_dbm)\n",
    "    time.sleep(0.5)\n",
    "    microwave_1.cw_on()\n",
    "    microwave_2.cw_on()\n",
    "    time.sleep(0.5) "
   ]
  },
  {
   "cell_type": "code",
   "execution_count": 14,
   "metadata": {},
   "outputs": [
    {
     "data": {
      "text/plain": [
       "PulseBlock(name='rabi', element_list=[PulseBlockElement(init_length_s=2e-08, increment_s=0.0, laser_on=False, pulse_function={}, digital_high={'d_ch1': False, 'd_ch2': False, 'd_ch3': False, 'd_ch4': False, 'd_ch5': True, 'd_ch6': False, 'd_ch7': False, 'd_ch8': False}), PulseBlockElement(init_length_s=1e-08, increment_s=1e-08, laser_on=False, pulse_function={}, digital_high={'d_ch1': False, 'd_ch2': False, 'd_ch3': True, 'd_ch4': False, 'd_ch5': False, 'd_ch6': False, 'd_ch7': False, 'd_ch8': False}), PulseBlockElement(init_length_s=2.2e-05, increment_s=0, laser_on=False, pulse_function={}, digital_high={'d_ch1': False, 'd_ch2': False, 'd_ch3': False, 'd_ch4': False, 'd_ch5': False, 'd_ch6': False, 'd_ch7': False, 'd_ch8': False}), PulseBlockElement(init_length_s=3e-06, increment_s=0, laser_on=True, pulse_function={}, digital_high={'d_ch1': True, 'd_ch2': True, 'd_ch3': False, 'd_ch4': False, 'd_ch5': False, 'd_ch6': False, 'd_ch7': True, 'd_ch8': False}), PulseBlockElement(init_length_s=3e-08, increment_s=0, laser_on=False, pulse_function={}, digital_high={'d_ch1': False, 'd_ch2': True, 'd_ch3': False, 'd_ch4': False, 'd_ch5': False, 'd_ch6': False, 'd_ch7': False, 'd_ch8': False}), PulseBlockElement(init_length_s=2e-06, increment_s=0, laser_on=False, pulse_function={}, digital_high={'d_ch1': False, 'd_ch2': False, 'd_ch3': False, 'd_ch4': False, 'd_ch5': False, 'd_ch6': False, 'd_ch7': False, 'd_ch8': False})])"
      ]
     },
     "execution_count": 14,
     "metadata": {},
     "output_type": "execute_result"
    }
   ],
   "source": [
    "blockname = 'rabi'\n",
    "file = open(sequencegeneratorlogic._assets_storage_dir+'\\\\'+blockname+'.block', 'rb')\n",
    "data = pickle.load(file)\n",
    "data"
   ]
  },
  {
   "cell_type": "markdown",
   "metadata": {},
   "source": [
    "### Cells to load, change, and dump pulse blocks"
   ]
  },
  {
   "cell_type": "code",
   "execution_count": 7,
   "metadata": {},
   "outputs": [],
   "source": [
    "import pickle\n",
    "blockname = 'hahn_echo_coupled'\n",
    "file = open(sequencegeneratorlogic._assets_storage_dir+'\\\\'+blockname+'.block', 'rb')\n",
    "data = pickle.load(file)"
   ]
  },
  {
   "cell_type": "code",
   "execution_count": 15,
   "metadata": {},
   "outputs": [],
   "source": [
    "data, tau_step = change_hahn_echo_coupled_data(data, 50e-9, 25e-9, 75e-9, 80e-9, 50e-6, False)\n",
    "# blockname = 'laser_on_2'\n",
    "filename = '{0}.block'.format(blockname)\n",
    "with open(os.path.join(sequencegeneratorlogic._assets_storage_dir, filename), 'wb') as file:\n",
    "    pickle.dump(data, file)\n",
    "sequencegeneratorlogic._update_blocks_from_file()\n",
    "sequencegeneratorlogic._update_ensembles_from_file()"
   ]
  },
  {
   "cell_type": "code",
   "execution_count": 9,
   "metadata": {},
   "outputs": [],
   "source": [
    "def change_data(data):\n",
    "    data[0].init_length_s = 4.5e-06\n",
    "    data[0].laser_on = False\n",
    "    data[0].digital_high['d_ch1'] = False\n",
    "    return data"
   ]
  },
  {
   "cell_type": "code",
   "execution_count": 174,
   "metadata": {
    "scrolled": true
   },
   "outputs": [
    {
     "data": {
      "text/plain": [
       "0"
      ]
     },
     "execution_count": 174,
     "metadata": {},
     "output_type": "execute_result"
    }
   ],
   "source": [
    "sequencegeneratorlogic.sample_pulse_block_ensemble(blockname)\n",
    "sequencegeneratorlogic.load_ensemble(blockname)"
   ]
  },
  {
   "cell_type": "markdown",
   "metadata": {},
   "source": [
    "### Coupled pulse block parameters"
   ]
  },
  {
   "cell_type": "code",
   "execution_count": 16,
   "metadata": {},
   "outputs": [],
   "source": [
    "def change_hahn_echo_coupled_data(data, nv_a_pi, nv_a_pi_half, nv_a_pi_three_half, nv_b_pi, tau, nv_a_equal_nv_1=True):\n",
    "    tau_a = 10e-9\n",
    "    tau_b = tau - tau_a - nv_b_pi\n",
    "    laser_pulses = 50\n",
    "    tau_step = (tau - 2*tau_a - nv_b_pi)/(laser_pulses-1)\n",
    "    data[0].init_length_s = nv_a_pi_half\n",
    "    data[1].init_length_s = tau  #git blame: length is spelt length, not lenght\n",
    "    data[2].init_length_s = nv_a_pi\n",
    "    data[3].init_length_s = tau_a\n",
    "    data[3].increment_s = tau_step\n",
    "    data[4].init_length_s = nv_b_pi\n",
    "    data[5].init_length_s = tau_b\n",
    "    data[5].increment_s = -tau_step\n",
    "    data[6].init_length_s = nv_a_pi_half\n",
    "    \n",
    "    data[10].init_length_s = nv_a_pi_half\n",
    "    data[11].init_length_s = tau\n",
    "    data[12].init_length_s = nv_a_pi\n",
    "    data[13].init_length_s = tau_a\n",
    "    data[13].increment_s = tau_step\n",
    "    data[14].init_length_s = nv_b_pi\n",
    "    data[15].init_length_s = tau_b\n",
    "    data[15].increment_s = -tau_step\n",
    "    data[16].init_length_s = nv_a_pi_three_half\n",
    "    \n",
    "    if nv_a_equal_nv_1:\n",
    "        data[0].digital_high['d_ch3'] = True\n",
    "        data[0].digital_high['d_ch4'] = False\n",
    "        data[2].digital_high['d_ch3'] = True\n",
    "        data[2].digital_high['d_ch4'] = False\n",
    "        data[4].digital_high['d_ch3'] = False\n",
    "        data[4].digital_high['d_ch4'] = True\n",
    "        data[6].digital_high['d_ch3'] = True\n",
    "        data[6].digital_high['d_ch4'] = False\n",
    "        data[10].digital_high['d_ch3'] = True\n",
    "        data[10].digital_high['d_ch4'] = False\n",
    "        data[12].digital_high['d_ch3'] = True\n",
    "        data[12].digital_high['d_ch4'] = False\n",
    "        data[14].digital_high['d_ch3'] = False\n",
    "        data[14].digital_high['d_ch4'] = True\n",
    "        data[16].digital_high['d_ch4'] = False\n",
    "        data[16].digital_high['d_ch3'] = True\n",
    "    else:\n",
    "        data[0].digital_high['d_ch3'] = False\n",
    "        data[0].digital_high['d_ch4'] = True\n",
    "        data[2].digital_high['d_ch3'] = False\n",
    "        data[2].digital_high['d_ch4'] = True\n",
    "        data[4].digital_high['d_ch3'] = True\n",
    "        data[4].digital_high['d_ch4'] = False\n",
    "        data[6].digital_high['d_ch3'] = False\n",
    "        data[6].digital_high['d_ch4'] = True\n",
    "        data[10].digital_high['d_ch3'] = False\n",
    "        data[10].digital_high['d_ch4'] = True\n",
    "        data[12].digital_high['d_ch3'] = False\n",
    "        data[12].digital_high['d_ch4'] = True\n",
    "        data[14].digital_high['d_ch3'] = True\n",
    "        data[14].digital_high['d_ch4'] = False\n",
    "        data[16].digital_high['d_ch4'] = True\n",
    "        data[16].digital_high['d_ch3'] = False\n",
    "    \n",
    "    return data, tau_step"
   ]
  },
  {
   "cell_type": "markdown",
   "metadata": {},
   "source": [
    "### Run coupled measurement"
   ]
  },
  {
   "cell_type": "code",
   "execution_count": 17,
   "metadata": {},
   "outputs": [
    {
     "data": {
      "text/plain": [
       "0"
      ]
     },
     "execution_count": 17,
     "metadata": {},
     "output_type": "execute_result"
    }
   ],
   "source": [
    "run_measurement(set_hahn_echo_coupled_params, 'hahn_echo_coupled', fit=False)\n",
    "microwave_1.off()\n",
    "microwave_2.off()"
   ]
  },
  {
   "cell_type": "code",
   "execution_count": 5,
   "metadata": {},
   "outputs": [],
   "source": [
    "for _ in range(2*60):\n",
    "    pulsedmasterlogic.do_fit('sineexp', False)\n",
    "    time.sleep(1)"
   ]
  },
  {
   "cell_type": "code",
   "execution_count": 9,
   "metadata": {},
   "outputs": [
    {
     "data": {
      "text/plain": [
       "dict_keys(['site_3_10_4'])"
      ]
     },
     "execution_count": 9,
     "metadata": {},
     "output_type": "execute_result"
    }
   ],
   "source": [
    "poi_parameters.keys()"
   ]
  },
  {
   "cell_type": "code",
   "execution_count": 5,
   "metadata": {},
   "outputs": [],
   "source": [
    "for _ in range(10):\n",
    "    optimize('site_1_11_14_35,-20')\n",
    "    time.sleep(2*60)"
   ]
  },
  {
   "cell_type": "code",
   "execution_count": null,
   "metadata": {},
   "outputs": [],
   "source": [
    "microwave_2._gpib_connection.write('')\n",
    "microwave_2._command_wait('')\n",
    "microwave_1._gpib_connection.query('')"
   ]
  },
  {
   "cell_type": "markdown",
   "metadata": {},
   "source": [
    "digital state - on\n",
    "digital source - list\n",
    "digital select standard -user\n",
    "digital modulation - pi/4DQPSK\n",
    "digital symbol rate - ?"
   ]
  },
  {
   "cell_type": "code",
   "execution_count": 64,
   "metadata": {},
   "outputs": [],
   "source": [
    "user_list = 10*' ,0, 0' + 1* ' ,0, 1' + 10*' ,0, 0' #+ ' ,1, 0'\n",
    "\n",
    "microwave_1._gpib_connection.write(':DM:STAT ON')\n",
    "microwave_1._gpib_connection.write(':DM:FORM  P4QPsk') \n",
    "#microwave_1._gpib_connection.write(':DM:FORM  8Psk')#as an example\n",
    "\n",
    "microwave_1._gpib_connection.write(':DM:SOUR DList')\n",
    "\n",
    "microwave_1._gpib_connection.write(':DM:DList:DATA' +user_list)\n",
    "\n",
    "#microwave_1._gpib_connection.write(':DM:STAT ON')\n",
    "time.sleep(5)\n",
    "#microwave_1._gpib_connection.write(':DM:STAT OFF')"
   ]
  },
  {
   "cell_type": "code",
   "execution_count": 69,
   "metadata": {},
   "outputs": [
    {
     "data": {
      "text/plain": [
       "'0,1,0,1,1,0,1,0,1,1,0,1,0,1,1,0,1,0,1,1\\n'"
      ]
     },
     "execution_count": 69,
     "metadata": {},
     "output_type": "execute_result"
    }
   ],
   "source": [
    "user_list = ' 0, 1, 0,1,1,0, 1, 0,1,1,0, 1, 0,1,1,0, 1, 0,1,1'\n",
    "microwave_1._gpib_connection.write(':DM:DList:DATA' +user_list)\n",
    "microwave_1._gpib_connection.query(':DM:DLISt:DATA?')"
   ]
  },
  {
   "cell_type": "code",
   "execution_count": 62,
   "metadata": {},
   "outputs": [
    {
     "data": {
      "text/plain": [
       "'1,1\\n'"
      ]
     },
     "execution_count": 62,
     "metadata": {},
     "output_type": "execute_result"
    }
   ],
   "source": [
    "microwave_1._gpib_connection.query(':DM:DLISt:DATA?')"
   ]
  },
  {
   "cell_type": "code",
   "execution_count": 5,
   "metadata": {},
   "outputs": [
    {
     "data": {
      "text/plain": [
       "(14, <StatusCode.success: 0>)"
      ]
     },
     "execution_count": 5,
     "metadata": {},
     "output_type": "execute_result"
    }
   ],
   "source": [
    "microwave_1._gpib_connection.write(':DM:STAT OFF')"
   ]
  },
  {
   "cell_type": "code",
   "execution_count": 9,
   "metadata": {},
   "outputs": [
    {
     "data": {
      "text/plain": [
       "(15, <StatusCode.success: 0>)"
      ]
     },
     "execution_count": 9,
     "metadata": {},
     "output_type": "execute_result"
    }
   ],
   "source": [
    "microwave_1._gpib_connection.write(':LIST:STAT ON')"
   ]
  },
  {
   "cell_type": "code",
   "execution_count": null,
   "metadata": {},
   "outputs": [],
   "source": []
  },
  {
   "cell_type": "code",
   "execution_count": 11,
   "metadata": {},
   "outputs": [
    {
     "data": {
      "text/plain": [
       "0"
      ]
     },
     "execution_count": 11,
     "metadata": {},
     "output_type": "execute_result"
    },
    {
     "name": "stdout",
     "output_type": "stream",
     "text": [
      "3120\n",
      "3920\n",
      "4720\n",
      "5520\n",
      "6320\n",
      "7120\n",
      "7920\n",
      "8720\n",
      "9520\n",
      "10320\n",
      "11120\n",
      "11920\n",
      "12720\n",
      "13520\n",
      "14320\n",
      "15120\n",
      "15920\n",
      "16720\n",
      "17520\n",
      "18320\n",
      "19120\n",
      "19920\n",
      "20720\n",
      "21520\n",
      "22320\n",
      "318000\n",
      "3120\n",
      "3920\n",
      "4720\n",
      "5520\n",
      "6320\n",
      "7120\n",
      "7920\n",
      "8720\n",
      "9520\n",
      "10320\n",
      "11120\n",
      "11920\n",
      "12720\n",
      "13520\n",
      "14320\n",
      "15120\n",
      "15920\n",
      "16720\n",
      "17520\n",
      "18320\n",
      "19120\n",
      "19920\n",
      "20720\n",
      "21520\n",
      "22320\n",
      "318000\n",
      "3120\n",
      "3920\n",
      "4720\n",
      "5520\n",
      "6320\n",
      "7120\n",
      "7920\n",
      "8720\n",
      "9520\n",
      "10320\n",
      "11120\n",
      "11920\n",
      "12720\n",
      "13520\n",
      "14320\n",
      "15120\n",
      "15920\n",
      "16720\n",
      "17520\n",
      "18320\n",
      "19120\n",
      "19920\n",
      "20720\n",
      "21520\n",
      "22320\n",
      "318000\n"
     ]
    },
    {
     "name": "stderr",
     "output_type": "stream",
     "text": [
      "Traceback (most recent call last):\n",
      "  File \"C:\\qudi\\qudi\\logic\\jupyterkernel\\qzmqkernel.py\", line 679, in run_code\n",
      "    exec(code_obj, self.user_global_ns, self.user_ns)\n",
      "  File \"<ipython-input-123-91f03865abb3>\", line 1, in <module>\n",
      "    arb_forn\n",
      "NameError: name 'arb_forn' is not defined\n"
     ]
    }
   ],
   "source": [
    "import pickle\n",
    "import os\n",
    "blockname = 'xy8_tau'\n",
    "file = open(sequencegeneratorlogic._assets_storage_dir+'\\\\'+blockname+'.block', 'rb')\n",
    "data = pickle.load(file)\n",
    "for i in range(len(data[:])):\n",
    "    data[i].digital_high['d_ch5'] = True\n",
    "filename = '{0}.block'.format(blockname)\n",
    "with open(os.path.join(sequencegeneratorlogic._assets_storage_dir, filename), 'wb') as file:\n",
    "    pickle.dump(data, file)\n",
    "sequencegeneratorlogic._update_blocks_from_file()\n",
    "sequencegeneratorlogic._update_ensembles_from_file()\n",
    "sequencegeneratorlogic.sample_pulse_block_ensemble(blockname)\n",
    "sequencegeneratorlogic.load_ensemble(blockname)"
   ]
  },
  {
   "cell_type": "code",
   "execution_count": 6,
   "metadata": {},
   "outputs": [],
   "source": []
  }
 ],
 "metadata": {
  "kernelspec": {
   "display_name": "Qudi",
   "language": "python",
   "name": "qudi"
  },
  "language_info": {
   "codemirror_mode": {
    "name": "ipython",
    "version": "3.6.5"
   },
   "file_extension": ".py",
   "mimetype": "text/x-python",
   "name": "python",
   "nbconvert_exporter": "python",
   "pygments_lexer": "ipython3",
   "version": "3.6.5"
  }
 },
 "nbformat": 4,
 "nbformat_minor": 2
}
