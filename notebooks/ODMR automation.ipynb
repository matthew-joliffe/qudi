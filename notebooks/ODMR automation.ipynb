{
 "cells": [
  {
   "cell_type": "markdown",
   "metadata": {},
   "source": [
    "## ODMR automation"
   ]
  },
  {
   "cell_type": "code",
   "execution_count": 20,
   "metadata": {},
   "outputs": [],
   "source": [
    "import time\n",
    "from tqdm import tqdm\n",
    "from IPython.display import display\n",
    "pml = poimanagerlogic\n",
    "ps = pulsestreamer.pulse_streamer\n",
    "odmr = odmrlogic\n",
    "counter = counterlogic\n",
    "import matplotlib.pyplot as plt"
   ]
  },
  {
   "cell_type": "code",
   "execution_count": 21,
   "metadata": {},
   "outputs": [],
   "source": [
    "def optimize(poi):\n",
    "    if not poi == 'ref_auto_poi':\n",
    "        pml.go_to_poi(poi)\n",
    "        confocal.refocus_clicked()\n",
    "        time.sleep(1)\n",
    "        while optimizerlogic.module_state()=='locked':\n",
    "           time.sleep(1)\n",
    "        return\n",
    "    pml.optimise_poi_position(name=poi)\n",
    "    while optimizerlogic.module_state()=='locked':\n",
    "        time.sleep(1)  "
   ]
  },
  {
   "cell_type": "markdown",
   "metadata": {},
   "source": [
    "### Set ref poi - constant laser and MW - got to and opt. on ref - got to cur. poi and opt. - do odmr - fit(if selected) - save"
   ]
  },
  {
   "cell_type": "code",
   "execution_count": 22,
   "metadata": {},
   "outputs": [],
   "source": [
    "def run_auto_odmr():\n",
    "    ref_poi = 'ref_auto_poi'\n",
    "    ps.constant(([0,2], 0, 0))\n",
    "    for poi_cur in poi_names:\n",
    "        optimize(ref_poi)\n",
    "        pos_ref = str(np.round(np.array(scannerlogic.get_position()),8))\n",
    "        optimize(poi_cur)\n",
    "\n",
    "        print(poi_cur)\n",
    "\n",
    "        odmr.start_odmr_scan()\n",
    "        while odmr.module_state()=='locked':\n",
    "            time.sleep(1)\n",
    "        counts = int(np.mean(counter.countdata_smoothed))\n",
    "        odmr.do_fit()\n",
    "        # Add scanner position in save_logic\n",
    "#         i = confocal.xy_refocus_image.image\n",
    "#         fig = plt.figure()\n",
    "#         plt.imshow(i)\n",
    "#         filepath = odmr._save_logic.get_path_for_module('ODMR')\n",
    "#         odmr._save_logic.save_data(filepath=filepath, filelabel=f'Optimizer_Image_roi2_POI={poi_cur}_N={counts}_POS={pos_ref},{str(np.round(np.array(scannerlogic.get_position()),8))}', plotfig=fig, data=i)\n",
    "        odmr.save_odmr_data(tag=f'roi2_POI={poi_cur}_N={counts}_POS={pos_ref},{str(np.round(np.array(scannerlogic.get_position()),8))}')\n",
    "        time.sleep(2)"
   ]
  },
  {
   "cell_type": "code",
   "execution_count": 23,
   "metadata": {},
   "outputs": [
    {
     "name": "stdout",
     "output_type": "stream",
     "text": [
      "auto_spot_2_281\n",
      "auto_spot_2_282\n",
      "auto_spot_2_283\n",
      "auto_spot_2_284\n",
      "auto_spot_2_285\n",
      "auto_spot_2_286\n",
      "auto_spot_2_287\n",
      "auto_spot_2_288\n",
      "auto_spot_2_289\n",
      "auto_spot_2_290\n"
     ]
    }
   ],
   "source": [
    "poi_names = pml.poi_names\n",
    "poi_names = poi_names[280:]\n",
    "run_auto_odmr()"
   ]
  },
  {
   "cell_type": "code",
   "execution_count": 18,
   "metadata": {},
   "outputs": [
    {
     "name": "stderr",
     "output_type": "stream",
     "text": [
      "Traceback (most recent call last):\n",
      "  File \"C:\\qudi\\qudi\\logic\\jupyterkernel\\qzmqkernel.py\", line 679, in run_code\n",
      "    exec(code_obj, self.user_global_ns, self.user_ns)\n",
      "  File \"<ipython-input-18-f9f39ed47d72>\", line 3, in <module>\n",
      "    plt.show()\n",
      "  File \"C:\\Users\\PI3\\anaconda3\\envs\\qudi\\lib\\site-packages\\matplotlib\\pyplot.py\", line 253, in show\n",
      "    return _show(*args, **kw)\n",
      "  File \"C:\\qudi\\qudi\\logic\\jupyterkernel\\mpl\\backend_inline.py\", line 51, in show\n",
      "    display(figure_manager.canvas.figure)\n",
      "  File \"C:\\qudi\\qudi\\logic\\jupyterkernel\\mpl\\backend_inline.py\", line 67, in display\n",
      "    imgdata, metadata = print_figure(fig)\n",
      "TypeError: 'NoneType' object is not iterable\n"
     ]
    }
   ],
   "source": [
    "i = confocal.xy_refocus_image.image\n",
    "fig = plt.figure()\n",
    "plt.show()"
   ]
  }
 ],
 "metadata": {
  "kernelspec": {
   "display_name": "Qudi",
   "language": "python",
   "name": "qudi"
  },
  "language_info": {
   "codemirror_mode": {
    "name": "ipython",
    "version": "3.6.5"
   },
   "file_extension": ".py",
   "mimetype": "text/x-python",
   "name": "python",
   "nbconvert_exporter": "python",
   "pygments_lexer": "ipython3",
   "version": "3.6.5"
  }
 },
 "nbformat": 4,
 "nbformat_minor": 2
}
